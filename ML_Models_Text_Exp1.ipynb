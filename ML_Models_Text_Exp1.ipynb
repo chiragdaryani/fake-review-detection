{
 "cells": [
  {
   "cell_type": "code",
   "execution_count": 1,
   "metadata": {
    "colab": {
     "base_uri": "https://localhost:8080/"
    },
    "id": "Z5aA060UQIZB",
    "outputId": "8f44bbe8-faf5-43a6-95d7-f89724bb5b57"
   },
   "outputs": [
    {
     "name": "stdout",
     "output_type": "stream",
     "text": [
      "Mounted at /content/gdrive\n"
     ]
    }
   ],
   "source": [
    "#from google.colab import drive \n",
    "#drive.mount('/content/gdrive')"
   ]
  },
  {
   "cell_type": "code",
   "execution_count": 1,
   "metadata": {
    "id": "1IjOqGAEPvtf"
   },
   "outputs": [],
   "source": [
    "# Import libraries required for the code\n",
    "\n",
    "from collections import Counter\n",
    "import re\n",
    "import time"
   ]
  },
  {
   "cell_type": "code",
   "execution_count": 2,
   "metadata": {
    "id": "pEvGQah2Pvti"
   },
   "outputs": [],
   "source": [
    "#import gensim\n",
    "#import gensim.downloader as api"
   ]
  },
  {
   "cell_type": "code",
   "execution_count": 3,
   "metadata": {
    "id": "ZYHRzJREPvtj"
   },
   "outputs": [],
   "source": [
    "import numpy as np\n",
    "import pandas as pd\n",
    "import matplotlib.pyplot as plt\n",
    "import seaborn as sns\n",
    "\n",
    "import nltk\n",
    "from nltk.corpus import stopwords\n",
    "from nltk import word_tokenize\n",
    "from nltk.stem import WordNetLemmatizer\n",
    "\n",
    "from scipy.sparse import hstack\n",
    "from scipy.stats import describe\n",
    "\n",
    "from sklearn.feature_extraction.text import CountVectorizer, TfidfVectorizer\n",
    "\n",
    "\n",
    "from sklearn.linear_model import LogisticRegression\n",
    "from sklearn.tree import DecisionTreeClassifier\n",
    "from sklearn.ensemble import RandomForestClassifier\n",
    "#from xgboost import XGBClassifier"
   ]
  },
  {
   "cell_type": "code",
   "execution_count": 4,
   "metadata": {
    "id": "HBHPoG_XPvtj"
   },
   "outputs": [],
   "source": [
    "import warnings\n",
    "warnings.filterwarnings(\"ignore\")"
   ]
  },
  {
   "cell_type": "code",
   "execution_count": 5,
   "metadata": {
    "id": "zcesHfQUPvtk"
   },
   "outputs": [],
   "source": [
    "# Set theme of seaborn \n",
    "sns.set()"
   ]
  },
  {
   "cell_type": "markdown",
   "metadata": {
    "id": "43hLHi5BPvtk"
   },
   "source": [
    "## Load Training Data, Cross Validation Data and Testing Data"
   ]
  },
  {
   "cell_type": "code",
   "execution_count": 6,
   "metadata": {
    "id": "e8cXMcH-Pvtl"
   },
   "outputs": [],
   "source": [
    "#Train data\n",
    "train_df = pd.read_csv(\"new_data_train.csv\", sep='\\t', index_col=0)\n",
    "#Validation data\n",
    "test_df = pd.read_csv(\"new_data_test.csv\", sep='\\t', index_col=0)"
   ]
  },
  {
   "cell_type": "code",
   "execution_count": 7,
   "metadata": {
    "colab": {
     "base_uri": "https://localhost:8080/",
     "height": 543
    },
    "id": "aZnjlPedPvtl",
    "outputId": "69ecd634-02d6-4858-e97f-f7b2781a1263"
   },
   "outputs": [
    {
     "data": {
      "text/html": [
       "<div>\n",
       "<style scoped>\n",
       "    .dataframe tbody tr th:only-of-type {\n",
       "        vertical-align: middle;\n",
       "    }\n",
       "\n",
       "    .dataframe tbody tr th {\n",
       "        vertical-align: top;\n",
       "    }\n",
       "\n",
       "    .dataframe thead th {\n",
       "        text-align: right;\n",
       "    }\n",
       "</style>\n",
       "<table border=\"1\" class=\"dataframe\">\n",
       "  <thead>\n",
       "    <tr style=\"text-align: right;\">\n",
       "      <th></th>\n",
       "      <th>reviewID</th>\n",
       "      <th>reviewerID</th>\n",
       "      <th>restaurantID</th>\n",
       "      <th>date</th>\n",
       "      <th>rating</th>\n",
       "      <th>reviewUsefulCount</th>\n",
       "      <th>reviewContent</th>\n",
       "      <th>flagged</th>\n",
       "      <th>name</th>\n",
       "      <th>location</th>\n",
       "      <th>...</th>\n",
       "      <th>reviewCount</th>\n",
       "      <th>firstCount</th>\n",
       "      <th>usefulCount</th>\n",
       "      <th>coolCount</th>\n",
       "      <th>funnyCount</th>\n",
       "      <th>complimentCount</th>\n",
       "      <th>tipCount</th>\n",
       "      <th>fanCount</th>\n",
       "      <th>restaurantRating</th>\n",
       "      <th>ReviewLength</th>\n",
       "    </tr>\n",
       "  </thead>\n",
       "  <tbody>\n",
       "    <tr>\n",
       "      <th>6010</th>\n",
       "      <td>Z_wgGcI8_Txo87Wz7CxdrQ</td>\n",
       "      <td>cM9GIlk61Qh2thLyJyxNyA</td>\n",
       "      <td>N7juvW8YoFIj7sEBzVF8GQ</td>\n",
       "      <td>9/17/2010</td>\n",
       "      <td>5</td>\n",
       "      <td>0</td>\n",
       "      <td>as new resident chicago los angeles i mission ...</td>\n",
       "      <td>1</td>\n",
       "      <td>suzie n.</td>\n",
       "      <td>Los Angeles, CA</td>\n",
       "      <td>...</td>\n",
       "      <td>1</td>\n",
       "      <td>0</td>\n",
       "      <td>1</td>\n",
       "      <td>2</td>\n",
       "      <td>0</td>\n",
       "      <td>0</td>\n",
       "      <td>0</td>\n",
       "      <td>0</td>\n",
       "      <td>4.0</td>\n",
       "      <td>144</td>\n",
       "    </tr>\n",
       "    <tr>\n",
       "      <th>6566</th>\n",
       "      <td>NJfQb03MSstqYagt860Oaw</td>\n",
       "      <td>SVlSPBnjCzY2Bu9n8y2C5A</td>\n",
       "      <td>o54U2VkQama8FI30qDkWvw</td>\n",
       "      <td>1/31/2008</td>\n",
       "      <td>5</td>\n",
       "      <td>0</td>\n",
       "      <td>great place rarely wait fairly easy find parki...</td>\n",
       "      <td>0</td>\n",
       "      <td>Jacqui B.</td>\n",
       "      <td>Kalamazoo, MI</td>\n",
       "      <td>...</td>\n",
       "      <td>12</td>\n",
       "      <td>2</td>\n",
       "      <td>19</td>\n",
       "      <td>7</td>\n",
       "      <td>6</td>\n",
       "      <td>4</td>\n",
       "      <td>0</td>\n",
       "      <td>0</td>\n",
       "      <td>4.0</td>\n",
       "      <td>46</td>\n",
       "    </tr>\n",
       "    <tr>\n",
       "      <th>21349</th>\n",
       "      <td>2uao3bK9iSV4fuMwuSYCiQ</td>\n",
       "      <td>5HYWhPS3ozYifieW0lWMUw</td>\n",
       "      <td>1QKqtC4vML3QhkrSzwR_tQ</td>\n",
       "      <td>3/31/2010</td>\n",
       "      <td>5</td>\n",
       "      <td>0</td>\n",
       "      <td>back bar makes feel though transported china s...</td>\n",
       "      <td>1</td>\n",
       "      <td>Mike A.</td>\n",
       "      <td>Los Angeles, CA</td>\n",
       "      <td>...</td>\n",
       "      <td>6</td>\n",
       "      <td>0</td>\n",
       "      <td>7</td>\n",
       "      <td>3</td>\n",
       "      <td>2</td>\n",
       "      <td>0</td>\n",
       "      <td>0</td>\n",
       "      <td>0</td>\n",
       "      <td>3.5</td>\n",
       "      <td>18</td>\n",
       "    </tr>\n",
       "    <tr>\n",
       "      <th>10370</th>\n",
       "      <td>6mVU2JfeSbQ-5RnPm-K6eA</td>\n",
       "      <td>dgKmhiTypR34XNPrMtQyMA</td>\n",
       "      <td>4wreIFjaPMppyEnzKHbozg</td>\n",
       "      <td>4/26/2010</td>\n",
       "      <td>5</td>\n",
       "      <td>0</td>\n",
       "      <td>hands one favorite tourist restaurants city th...</td>\n",
       "      <td>0</td>\n",
       "      <td>Jen K.</td>\n",
       "      <td>Chicago, IL</td>\n",
       "      <td>...</td>\n",
       "      <td>37</td>\n",
       "      <td>2</td>\n",
       "      <td>16</td>\n",
       "      <td>3</td>\n",
       "      <td>3</td>\n",
       "      <td>1</td>\n",
       "      <td>0</td>\n",
       "      <td>1</td>\n",
       "      <td>3.5</td>\n",
       "      <td>41</td>\n",
       "    </tr>\n",
       "    <tr>\n",
       "      <th>6011</th>\n",
       "      <td>e25NUAMnVf7-t8-vBO_drA</td>\n",
       "      <td>uB3n74XHDFUKwHxfK5lDvA</td>\n",
       "      <td>N7juvW8YoFIj7sEBzVF8GQ</td>\n",
       "      <td>9/7/2010</td>\n",
       "      <td>5</td>\n",
       "      <td>0</td>\n",
       "      <td>service impeccable staff helpful owner works h...</td>\n",
       "      <td>1</td>\n",
       "      <td>Joe K.</td>\n",
       "      <td>Barrington, IL</td>\n",
       "      <td>...</td>\n",
       "      <td>3</td>\n",
       "      <td>0</td>\n",
       "      <td>2</td>\n",
       "      <td>1</td>\n",
       "      <td>0</td>\n",
       "      <td>0</td>\n",
       "      <td>0</td>\n",
       "      <td>0</td>\n",
       "      <td>4.0</td>\n",
       "      <td>40</td>\n",
       "    </tr>\n",
       "  </tbody>\n",
       "</table>\n",
       "<p>5 rows × 22 columns</p>\n",
       "</div>"
      ],
      "text/plain": [
       "                     reviewID              reviewerID            restaurantID  \\\n",
       "6010   Z_wgGcI8_Txo87Wz7CxdrQ  cM9GIlk61Qh2thLyJyxNyA  N7juvW8YoFIj7sEBzVF8GQ   \n",
       "6566   NJfQb03MSstqYagt860Oaw  SVlSPBnjCzY2Bu9n8y2C5A  o54U2VkQama8FI30qDkWvw   \n",
       "21349  2uao3bK9iSV4fuMwuSYCiQ  5HYWhPS3ozYifieW0lWMUw  1QKqtC4vML3QhkrSzwR_tQ   \n",
       "10370  6mVU2JfeSbQ-5RnPm-K6eA  dgKmhiTypR34XNPrMtQyMA  4wreIFjaPMppyEnzKHbozg   \n",
       "6011   e25NUAMnVf7-t8-vBO_drA  uB3n74XHDFUKwHxfK5lDvA  N7juvW8YoFIj7sEBzVF8GQ   \n",
       "\n",
       "            date  rating  reviewUsefulCount  \\\n",
       "6010   9/17/2010       5                  0   \n",
       "6566   1/31/2008       5                  0   \n",
       "21349  3/31/2010       5                  0   \n",
       "10370  4/26/2010       5                  0   \n",
       "6011    9/7/2010       5                  0   \n",
       "\n",
       "                                           reviewContent  flagged       name  \\\n",
       "6010   as new resident chicago los angeles i mission ...        1   suzie n.   \n",
       "6566   great place rarely wait fairly easy find parki...        0  Jacqui B.   \n",
       "21349  back bar makes feel though transported china s...        1    Mike A.   \n",
       "10370  hands one favorite tourist restaurants city th...        0     Jen K.   \n",
       "6011   service impeccable staff helpful owner works h...        1     Joe K.   \n",
       "\n",
       "              location  ... reviewCount  firstCount  usefulCount  coolCount  \\\n",
       "6010   Los Angeles, CA  ...           1           0            1          2   \n",
       "6566     Kalamazoo, MI  ...          12           2           19          7   \n",
       "21349  Los Angeles, CA  ...           6           0            7          3   \n",
       "10370      Chicago, IL  ...          37           2           16          3   \n",
       "6011    Barrington, IL  ...           3           0            2          1   \n",
       "\n",
       "       funnyCount  complimentCount  tipCount  fanCount  restaurantRating  \\\n",
       "6010            0                0         0         0               4.0   \n",
       "6566            6                4         0         0               4.0   \n",
       "21349           2                0         0         0               3.5   \n",
       "10370           3                1         0         1               3.5   \n",
       "6011            0                0         0         0               4.0   \n",
       "\n",
       "       ReviewLength  \n",
       "6010            144  \n",
       "6566             46  \n",
       "21349            18  \n",
       "10370            41  \n",
       "6011             40  \n",
       "\n",
       "[5 rows x 22 columns]"
      ]
     },
     "execution_count": 7,
     "metadata": {},
     "output_type": "execute_result"
    }
   ],
   "source": [
    "train_df.head()"
   ]
  },
  {
   "cell_type": "code",
   "execution_count": 8,
   "metadata": {
    "colab": {
     "base_uri": "https://localhost:8080/"
    },
    "id": "a0dlr4-xWKAe",
    "outputId": "430dc107-b0ac-4c7b-a802-bf9d3f39814d"
   },
   "outputs": [
    {
     "data": {
      "text/plain": [
       "((9929, 22), (2483, 22))"
      ]
     },
     "execution_count": 8,
     "metadata": {},
     "output_type": "execute_result"
    }
   ],
   "source": [
    "train_df.shape, test_df.shape"
   ]
  },
  {
   "cell_type": "code",
   "execution_count": 9,
   "metadata": {
    "colab": {
     "base_uri": "https://localhost:8080/"
    },
    "id": "8syGWbEzWSs6",
    "outputId": "0f3edcc4-f2a2-47ec-a5a0-1bb9b7dcf7c2"
   },
   "outputs": [
    {
     "data": {
      "text/plain": [
       "0    4994\n",
       "1    4935\n",
       "Name: flagged, dtype: int64"
      ]
     },
     "execution_count": 9,
     "metadata": {},
     "output_type": "execute_result"
    }
   ],
   "source": [
    "train_df.flagged.value_counts()"
   ]
  },
  {
   "cell_type": "code",
   "execution_count": 10,
   "metadata": {
    "colab": {
     "base_uri": "https://localhost:8080/"
    },
    "id": "rVDWBkO3WVKu",
    "outputId": "fc0e148e-b857-4328-bd1c-9b8e1f9c9eda"
   },
   "outputs": [
    {
     "data": {
      "text/plain": [
       "1    1271\n",
       "0    1212\n",
       "Name: flagged, dtype: int64"
      ]
     },
     "execution_count": 10,
     "metadata": {},
     "output_type": "execute_result"
    }
   ],
   "source": [
    "test_df.flagged.value_counts()"
   ]
  },
  {
   "cell_type": "code",
   "execution_count": 11,
   "metadata": {
    "id": "a3yAjqu7p1XR"
   },
   "outputs": [],
   "source": [
    "#Check for nan"
   ]
  },
  {
   "cell_type": "code",
   "execution_count": 12,
   "metadata": {
    "colab": {
     "base_uri": "https://localhost:8080/",
     "height": 289
    },
    "id": "8y86ACQtsFl0",
    "outputId": "4b0fe8d6-51e1-4aa3-9f22-4bf5657fc444"
   },
   "outputs": [
    {
     "data": {
      "text/html": [
       "<div>\n",
       "<style scoped>\n",
       "    .dataframe tbody tr th:only-of-type {\n",
       "        vertical-align: middle;\n",
       "    }\n",
       "\n",
       "    .dataframe tbody tr th {\n",
       "        vertical-align: top;\n",
       "    }\n",
       "\n",
       "    .dataframe thead th {\n",
       "        text-align: right;\n",
       "    }\n",
       "</style>\n",
       "<table border=\"1\" class=\"dataframe\">\n",
       "  <thead>\n",
       "    <tr style=\"text-align: right;\">\n",
       "      <th></th>\n",
       "      <th>reviewID</th>\n",
       "      <th>reviewerID</th>\n",
       "      <th>restaurantID</th>\n",
       "      <th>date</th>\n",
       "      <th>rating</th>\n",
       "      <th>reviewUsefulCount</th>\n",
       "      <th>reviewContent</th>\n",
       "      <th>flagged</th>\n",
       "      <th>name</th>\n",
       "      <th>location</th>\n",
       "      <th>...</th>\n",
       "      <th>reviewCount</th>\n",
       "      <th>firstCount</th>\n",
       "      <th>usefulCount</th>\n",
       "      <th>coolCount</th>\n",
       "      <th>funnyCount</th>\n",
       "      <th>complimentCount</th>\n",
       "      <th>tipCount</th>\n",
       "      <th>fanCount</th>\n",
       "      <th>restaurantRating</th>\n",
       "      <th>ReviewLength</th>\n",
       "    </tr>\n",
       "  </thead>\n",
       "  <tbody>\n",
       "    <tr>\n",
       "      <th>15972</th>\n",
       "      <td>vPx7Ga3vAB7ZLfZsQChlSA</td>\n",
       "      <td>QasfZU1HgCW4LNU8AFFfwg</td>\n",
       "      <td>LMaoM2Ue2BR_HI9ba3JsZg</td>\n",
       "      <td>8/23/2012</td>\n",
       "      <td>4</td>\n",
       "      <td>0</td>\n",
       "      <td>NaN</td>\n",
       "      <td>0</td>\n",
       "      <td>Robert H.</td>\n",
       "      <td>Denver, CO</td>\n",
       "      <td>...</td>\n",
       "      <td>84</td>\n",
       "      <td>2</td>\n",
       "      <td>16</td>\n",
       "      <td>23</td>\n",
       "      <td>6</td>\n",
       "      <td>9</td>\n",
       "      <td>1</td>\n",
       "      <td>2</td>\n",
       "      <td>4.0</td>\n",
       "      <td>1</td>\n",
       "    </tr>\n",
       "    <tr>\n",
       "      <th>25462</th>\n",
       "      <td>ln1j0sucN56GF7NaXqvtkQ</td>\n",
       "      <td>FezvtjI9VD4PZR0vIq-9IQ</td>\n",
       "      <td>43rd1LKcZRIunySzbMsyLQ</td>\n",
       "      <td>9/12/2007</td>\n",
       "      <td>5</td>\n",
       "      <td>0</td>\n",
       "      <td>NaN</td>\n",
       "      <td>1</td>\n",
       "      <td>Txema G.</td>\n",
       "      <td>Chicago, IL</td>\n",
       "      <td>...</td>\n",
       "      <td>1</td>\n",
       "      <td>0</td>\n",
       "      <td>0</td>\n",
       "      <td>0</td>\n",
       "      <td>1</td>\n",
       "      <td>0</td>\n",
       "      <td>0</td>\n",
       "      <td>0</td>\n",
       "      <td>4.5</td>\n",
       "      <td>1</td>\n",
       "    </tr>\n",
       "    <tr>\n",
       "      <th>20728</th>\n",
       "      <td>f83DnEX60KDNk9rqInjWwg</td>\n",
       "      <td>TPOQUpDTdFMPeZwO2nOWQA</td>\n",
       "      <td>O6uWHgJzylSjWjPSJKGhnQ</td>\n",
       "      <td>12/16/2007</td>\n",
       "      <td>3</td>\n",
       "      <td>0</td>\n",
       "      <td>NaN</td>\n",
       "      <td>1</td>\n",
       "      <td>ozlem v.</td>\n",
       "      <td>Chicago, IL</td>\n",
       "      <td>...</td>\n",
       "      <td>2</td>\n",
       "      <td>0</td>\n",
       "      <td>1</td>\n",
       "      <td>1</td>\n",
       "      <td>0</td>\n",
       "      <td>0</td>\n",
       "      <td>0</td>\n",
       "      <td>0</td>\n",
       "      <td>4.0</td>\n",
       "      <td>1</td>\n",
       "    </tr>\n",
       "  </tbody>\n",
       "</table>\n",
       "<p>3 rows × 22 columns</p>\n",
       "</div>"
      ],
      "text/plain": [
       "                     reviewID              reviewerID            restaurantID  \\\n",
       "15972  vPx7Ga3vAB7ZLfZsQChlSA  QasfZU1HgCW4LNU8AFFfwg  LMaoM2Ue2BR_HI9ba3JsZg   \n",
       "25462  ln1j0sucN56GF7NaXqvtkQ  FezvtjI9VD4PZR0vIq-9IQ  43rd1LKcZRIunySzbMsyLQ   \n",
       "20728  f83DnEX60KDNk9rqInjWwg  TPOQUpDTdFMPeZwO2nOWQA  O6uWHgJzylSjWjPSJKGhnQ   \n",
       "\n",
       "             date  rating  reviewUsefulCount reviewContent  flagged  \\\n",
       "15972   8/23/2012       4                  0           NaN        0   \n",
       "25462   9/12/2007       5                  0           NaN        1   \n",
       "20728  12/16/2007       3                  0           NaN        1   \n",
       "\n",
       "            name     location  ... reviewCount  firstCount  usefulCount  \\\n",
       "15972  Robert H.   Denver, CO  ...          84           2           16   \n",
       "25462   Txema G.  Chicago, IL  ...           1           0            0   \n",
       "20728   ozlem v.  Chicago, IL  ...           2           0            1   \n",
       "\n",
       "       coolCount  funnyCount  complimentCount  tipCount  fanCount  \\\n",
       "15972         23           6                9         1         2   \n",
       "25462          0           1                0         0         0   \n",
       "20728          1           0                0         0         0   \n",
       "\n",
       "       restaurantRating  ReviewLength  \n",
       "15972               4.0             1  \n",
       "25462               4.5             1  \n",
       "20728               4.0             1  \n",
       "\n",
       "[3 rows x 22 columns]"
      ]
     },
     "execution_count": 12,
     "metadata": {},
     "output_type": "execute_result"
    }
   ],
   "source": [
    "nan_rows = train_df[train_df['reviewContent'].isnull()]\n",
    "nan_rows"
   ]
  },
  {
   "cell_type": "code",
   "execution_count": 13,
   "metadata": {
    "colab": {
     "base_uri": "https://localhost:8080/",
     "height": 939
    },
    "id": "Z-1D1NCurvvu",
    "outputId": "897fd665-be53-4fc2-912e-2c26825d3031"
   },
   "outputs": [
    {
     "data": {
      "text/html": [
       "<div>\n",
       "<style scoped>\n",
       "    .dataframe tbody tr th:only-of-type {\n",
       "        vertical-align: middle;\n",
       "    }\n",
       "\n",
       "    .dataframe tbody tr th {\n",
       "        vertical-align: top;\n",
       "    }\n",
       "\n",
       "    .dataframe thead th {\n",
       "        text-align: right;\n",
       "    }\n",
       "</style>\n",
       "<table border=\"1\" class=\"dataframe\">\n",
       "  <thead>\n",
       "    <tr style=\"text-align: right;\">\n",
       "      <th></th>\n",
       "      <th>reviewID</th>\n",
       "      <th>reviewerID</th>\n",
       "      <th>restaurantID</th>\n",
       "      <th>date</th>\n",
       "      <th>rating</th>\n",
       "      <th>reviewUsefulCount</th>\n",
       "      <th>reviewContent</th>\n",
       "      <th>flagged</th>\n",
       "      <th>name</th>\n",
       "      <th>location</th>\n",
       "      <th>...</th>\n",
       "      <th>reviewCount</th>\n",
       "      <th>firstCount</th>\n",
       "      <th>usefulCount</th>\n",
       "      <th>coolCount</th>\n",
       "      <th>funnyCount</th>\n",
       "      <th>complimentCount</th>\n",
       "      <th>tipCount</th>\n",
       "      <th>fanCount</th>\n",
       "      <th>restaurantRating</th>\n",
       "      <th>ReviewLength</th>\n",
       "    </tr>\n",
       "  </thead>\n",
       "  <tbody>\n",
       "    <tr>\n",
       "      <th>6010</th>\n",
       "      <td>Z_wgGcI8_Txo87Wz7CxdrQ</td>\n",
       "      <td>cM9GIlk61Qh2thLyJyxNyA</td>\n",
       "      <td>N7juvW8YoFIj7sEBzVF8GQ</td>\n",
       "      <td>9/17/2010</td>\n",
       "      <td>5</td>\n",
       "      <td>0</td>\n",
       "      <td>as new resident chicago los angeles i mission ...</td>\n",
       "      <td>1</td>\n",
       "      <td>suzie n.</td>\n",
       "      <td>Los Angeles, CA</td>\n",
       "      <td>...</td>\n",
       "      <td>1</td>\n",
       "      <td>0</td>\n",
       "      <td>1</td>\n",
       "      <td>2</td>\n",
       "      <td>0</td>\n",
       "      <td>0</td>\n",
       "      <td>0</td>\n",
       "      <td>0</td>\n",
       "      <td>4.0</td>\n",
       "      <td>144</td>\n",
       "    </tr>\n",
       "    <tr>\n",
       "      <th>6566</th>\n",
       "      <td>NJfQb03MSstqYagt860Oaw</td>\n",
       "      <td>SVlSPBnjCzY2Bu9n8y2C5A</td>\n",
       "      <td>o54U2VkQama8FI30qDkWvw</td>\n",
       "      <td>1/31/2008</td>\n",
       "      <td>5</td>\n",
       "      <td>0</td>\n",
       "      <td>great place rarely wait fairly easy find parki...</td>\n",
       "      <td>0</td>\n",
       "      <td>Jacqui B.</td>\n",
       "      <td>Kalamazoo, MI</td>\n",
       "      <td>...</td>\n",
       "      <td>12</td>\n",
       "      <td>2</td>\n",
       "      <td>19</td>\n",
       "      <td>7</td>\n",
       "      <td>6</td>\n",
       "      <td>4</td>\n",
       "      <td>0</td>\n",
       "      <td>0</td>\n",
       "      <td>4.0</td>\n",
       "      <td>46</td>\n",
       "    </tr>\n",
       "    <tr>\n",
       "      <th>21349</th>\n",
       "      <td>2uao3bK9iSV4fuMwuSYCiQ</td>\n",
       "      <td>5HYWhPS3ozYifieW0lWMUw</td>\n",
       "      <td>1QKqtC4vML3QhkrSzwR_tQ</td>\n",
       "      <td>3/31/2010</td>\n",
       "      <td>5</td>\n",
       "      <td>0</td>\n",
       "      <td>back bar makes feel though transported china s...</td>\n",
       "      <td>1</td>\n",
       "      <td>Mike A.</td>\n",
       "      <td>Los Angeles, CA</td>\n",
       "      <td>...</td>\n",
       "      <td>6</td>\n",
       "      <td>0</td>\n",
       "      <td>7</td>\n",
       "      <td>3</td>\n",
       "      <td>2</td>\n",
       "      <td>0</td>\n",
       "      <td>0</td>\n",
       "      <td>0</td>\n",
       "      <td>3.5</td>\n",
       "      <td>18</td>\n",
       "    </tr>\n",
       "    <tr>\n",
       "      <th>10370</th>\n",
       "      <td>6mVU2JfeSbQ-5RnPm-K6eA</td>\n",
       "      <td>dgKmhiTypR34XNPrMtQyMA</td>\n",
       "      <td>4wreIFjaPMppyEnzKHbozg</td>\n",
       "      <td>4/26/2010</td>\n",
       "      <td>5</td>\n",
       "      <td>0</td>\n",
       "      <td>hands one favorite tourist restaurants city th...</td>\n",
       "      <td>0</td>\n",
       "      <td>Jen K.</td>\n",
       "      <td>Chicago, IL</td>\n",
       "      <td>...</td>\n",
       "      <td>37</td>\n",
       "      <td>2</td>\n",
       "      <td>16</td>\n",
       "      <td>3</td>\n",
       "      <td>3</td>\n",
       "      <td>1</td>\n",
       "      <td>0</td>\n",
       "      <td>1</td>\n",
       "      <td>3.5</td>\n",
       "      <td>41</td>\n",
       "    </tr>\n",
       "    <tr>\n",
       "      <th>6011</th>\n",
       "      <td>e25NUAMnVf7-t8-vBO_drA</td>\n",
       "      <td>uB3n74XHDFUKwHxfK5lDvA</td>\n",
       "      <td>N7juvW8YoFIj7sEBzVF8GQ</td>\n",
       "      <td>9/7/2010</td>\n",
       "      <td>5</td>\n",
       "      <td>0</td>\n",
       "      <td>service impeccable staff helpful owner works h...</td>\n",
       "      <td>1</td>\n",
       "      <td>Joe K.</td>\n",
       "      <td>Barrington, IL</td>\n",
       "      <td>...</td>\n",
       "      <td>3</td>\n",
       "      <td>0</td>\n",
       "      <td>2</td>\n",
       "      <td>1</td>\n",
       "      <td>0</td>\n",
       "      <td>0</td>\n",
       "      <td>0</td>\n",
       "      <td>0</td>\n",
       "      <td>4.0</td>\n",
       "      <td>40</td>\n",
       "    </tr>\n",
       "    <tr>\n",
       "      <th>...</th>\n",
       "      <td>...</td>\n",
       "      <td>...</td>\n",
       "      <td>...</td>\n",
       "      <td>...</td>\n",
       "      <td>...</td>\n",
       "      <td>...</td>\n",
       "      <td>...</td>\n",
       "      <td>...</td>\n",
       "      <td>...</td>\n",
       "      <td>...</td>\n",
       "      <td>...</td>\n",
       "      <td>...</td>\n",
       "      <td>...</td>\n",
       "      <td>...</td>\n",
       "      <td>...</td>\n",
       "      <td>...</td>\n",
       "      <td>...</td>\n",
       "      <td>...</td>\n",
       "      <td>...</td>\n",
       "      <td>...</td>\n",
       "      <td>...</td>\n",
       "    </tr>\n",
       "    <tr>\n",
       "      <th>2072</th>\n",
       "      <td>dK2U-orHZg9ps2g8BRwakA</td>\n",
       "      <td>tPufvUuxXLJOMYQ7gzsMVA</td>\n",
       "      <td>Z2nOMPedr7XYhgYhILJjEA</td>\n",
       "      <td>12/4/2011</td>\n",
       "      <td>4</td>\n",
       "      <td>1</td>\n",
       "      <td>confirming owner s helpful suggestion trick ab...</td>\n",
       "      <td>0</td>\n",
       "      <td>Andrew AndroidTopp T.</td>\n",
       "      <td>Aurora, IL</td>\n",
       "      <td>...</td>\n",
       "      <td>518</td>\n",
       "      <td>79</td>\n",
       "      <td>538</td>\n",
       "      <td>222</td>\n",
       "      <td>258</td>\n",
       "      <td>111</td>\n",
       "      <td>16</td>\n",
       "      <td>15</td>\n",
       "      <td>4.0</td>\n",
       "      <td>83</td>\n",
       "    </tr>\n",
       "    <tr>\n",
       "      <th>20930</th>\n",
       "      <td>ENlbumgWkN3PE97iH7YWuQ</td>\n",
       "      <td>qKF-OwPxog4HdFuPlydllg</td>\n",
       "      <td>tW2jfL-qMccAYZSghPBbHA</td>\n",
       "      <td>1/1/2009</td>\n",
       "      <td>5</td>\n",
       "      <td>0</td>\n",
       "      <td>this best pizza chicago possibly world they am...</td>\n",
       "      <td>1</td>\n",
       "      <td>Rebecca G.</td>\n",
       "      <td>Chicago, IL</td>\n",
       "      <td>...</td>\n",
       "      <td>3</td>\n",
       "      <td>0</td>\n",
       "      <td>2</td>\n",
       "      <td>0</td>\n",
       "      <td>0</td>\n",
       "      <td>0</td>\n",
       "      <td>0</td>\n",
       "      <td>0</td>\n",
       "      <td>4.0</td>\n",
       "      <td>46</td>\n",
       "    </tr>\n",
       "    <tr>\n",
       "      <th>2420</th>\n",
       "      <td>ubhEydMPnwVHLt9IpVi28w</td>\n",
       "      <td>YqVj5efZc2uGwDmgPbPWKA</td>\n",
       "      <td>Z2nOMPedr7XYhgYhILJjEA</td>\n",
       "      <td>1/6/2009</td>\n",
       "      <td>5</td>\n",
       "      <td>0</td>\n",
       "      <td>i love place great beer great service fantasti...</td>\n",
       "      <td>1</td>\n",
       "      <td>Brent C.</td>\n",
       "      <td>Chicago, IL</td>\n",
       "      <td>...</td>\n",
       "      <td>8</td>\n",
       "      <td>0</td>\n",
       "      <td>0</td>\n",
       "      <td>0</td>\n",
       "      <td>0</td>\n",
       "      <td>0</td>\n",
       "      <td>0</td>\n",
       "      <td>0</td>\n",
       "      <td>4.0</td>\n",
       "      <td>16</td>\n",
       "    </tr>\n",
       "    <tr>\n",
       "      <th>3090</th>\n",
       "      <td>0NuFEa_gIMKbj0wsncFlvw</td>\n",
       "      <td>VKIlQivcuKidmmc2EXSlqA</td>\n",
       "      <td>sfWMOqUEp8S2adDeJp7Kzg</td>\n",
       "      <td>7/21/2010</td>\n",
       "      <td>4</td>\n",
       "      <td>0</td>\n",
       "      <td>i always passed place never chance come in fin...</td>\n",
       "      <td>1</td>\n",
       "      <td>Karina Kari A.</td>\n",
       "      <td>Oak Park, IL</td>\n",
       "      <td>...</td>\n",
       "      <td>2</td>\n",
       "      <td>0</td>\n",
       "      <td>0</td>\n",
       "      <td>0</td>\n",
       "      <td>0</td>\n",
       "      <td>1</td>\n",
       "      <td>1</td>\n",
       "      <td>0</td>\n",
       "      <td>4.0</td>\n",
       "      <td>125</td>\n",
       "    </tr>\n",
       "    <tr>\n",
       "      <th>22414</th>\n",
       "      <td>aipad5w7yEIsHlKqKOvA0A</td>\n",
       "      <td>g97F6M-cifMBet4y7fdy7Q</td>\n",
       "      <td>yBRaSkuYwFhYEoucDyD0lA</td>\n",
       "      <td>5/16/2012</td>\n",
       "      <td>3</td>\n",
       "      <td>0</td>\n",
       "      <td>ok hot pot broth expected veggie greens they g...</td>\n",
       "      <td>0</td>\n",
       "      <td>Tami N.</td>\n",
       "      <td>Irvine, CA</td>\n",
       "      <td>...</td>\n",
       "      <td>14</td>\n",
       "      <td>0</td>\n",
       "      <td>2</td>\n",
       "      <td>2</td>\n",
       "      <td>3</td>\n",
       "      <td>7</td>\n",
       "      <td>8</td>\n",
       "      <td>0</td>\n",
       "      <td>4.0</td>\n",
       "      <td>27</td>\n",
       "    </tr>\n",
       "  </tbody>\n",
       "</table>\n",
       "<p>9926 rows × 22 columns</p>\n",
       "</div>"
      ],
      "text/plain": [
       "                     reviewID              reviewerID            restaurantID  \\\n",
       "6010   Z_wgGcI8_Txo87Wz7CxdrQ  cM9GIlk61Qh2thLyJyxNyA  N7juvW8YoFIj7sEBzVF8GQ   \n",
       "6566   NJfQb03MSstqYagt860Oaw  SVlSPBnjCzY2Bu9n8y2C5A  o54U2VkQama8FI30qDkWvw   \n",
       "21349  2uao3bK9iSV4fuMwuSYCiQ  5HYWhPS3ozYifieW0lWMUw  1QKqtC4vML3QhkrSzwR_tQ   \n",
       "10370  6mVU2JfeSbQ-5RnPm-K6eA  dgKmhiTypR34XNPrMtQyMA  4wreIFjaPMppyEnzKHbozg   \n",
       "6011   e25NUAMnVf7-t8-vBO_drA  uB3n74XHDFUKwHxfK5lDvA  N7juvW8YoFIj7sEBzVF8GQ   \n",
       "...                       ...                     ...                     ...   \n",
       "2072   dK2U-orHZg9ps2g8BRwakA  tPufvUuxXLJOMYQ7gzsMVA  Z2nOMPedr7XYhgYhILJjEA   \n",
       "20930  ENlbumgWkN3PE97iH7YWuQ  qKF-OwPxog4HdFuPlydllg  tW2jfL-qMccAYZSghPBbHA   \n",
       "2420   ubhEydMPnwVHLt9IpVi28w  YqVj5efZc2uGwDmgPbPWKA  Z2nOMPedr7XYhgYhILJjEA   \n",
       "3090   0NuFEa_gIMKbj0wsncFlvw  VKIlQivcuKidmmc2EXSlqA  sfWMOqUEp8S2adDeJp7Kzg   \n",
       "22414  aipad5w7yEIsHlKqKOvA0A  g97F6M-cifMBet4y7fdy7Q  yBRaSkuYwFhYEoucDyD0lA   \n",
       "\n",
       "            date  rating  reviewUsefulCount  \\\n",
       "6010   9/17/2010       5                  0   \n",
       "6566   1/31/2008       5                  0   \n",
       "21349  3/31/2010       5                  0   \n",
       "10370  4/26/2010       5                  0   \n",
       "6011    9/7/2010       5                  0   \n",
       "...          ...     ...                ...   \n",
       "2072   12/4/2011       4                  1   \n",
       "20930   1/1/2009       5                  0   \n",
       "2420    1/6/2009       5                  0   \n",
       "3090   7/21/2010       4                  0   \n",
       "22414  5/16/2012       3                  0   \n",
       "\n",
       "                                           reviewContent  flagged  \\\n",
       "6010   as new resident chicago los angeles i mission ...        1   \n",
       "6566   great place rarely wait fairly easy find parki...        0   \n",
       "21349  back bar makes feel though transported china s...        1   \n",
       "10370  hands one favorite tourist restaurants city th...        0   \n",
       "6011   service impeccable staff helpful owner works h...        1   \n",
       "...                                                  ...      ...   \n",
       "2072   confirming owner s helpful suggestion trick ab...        0   \n",
       "20930  this best pizza chicago possibly world they am...        1   \n",
       "2420   i love place great beer great service fantasti...        1   \n",
       "3090   i always passed place never chance come in fin...        1   \n",
       "22414  ok hot pot broth expected veggie greens they g...        0   \n",
       "\n",
       "                        name         location  ... reviewCount  firstCount  \\\n",
       "6010                suzie n.  Los Angeles, CA  ...           1           0   \n",
       "6566               Jacqui B.    Kalamazoo, MI  ...          12           2   \n",
       "21349                Mike A.  Los Angeles, CA  ...           6           0   \n",
       "10370                 Jen K.      Chicago, IL  ...          37           2   \n",
       "6011                  Joe K.   Barrington, IL  ...           3           0   \n",
       "...                      ...              ...  ...         ...         ...   \n",
       "2072   Andrew AndroidTopp T.       Aurora, IL  ...         518          79   \n",
       "20930             Rebecca G.      Chicago, IL  ...           3           0   \n",
       "2420                Brent C.      Chicago, IL  ...           8           0   \n",
       "3090          Karina Kari A.     Oak Park, IL  ...           2           0   \n",
       "22414                Tami N.       Irvine, CA  ...          14           0   \n",
       "\n",
       "       usefulCount  coolCount  funnyCount  complimentCount  tipCount  \\\n",
       "6010             1          2           0                0         0   \n",
       "6566            19          7           6                4         0   \n",
       "21349            7          3           2                0         0   \n",
       "10370           16          3           3                1         0   \n",
       "6011             2          1           0                0         0   \n",
       "...            ...        ...         ...              ...       ...   \n",
       "2072           538        222         258              111        16   \n",
       "20930            2          0           0                0         0   \n",
       "2420             0          0           0                0         0   \n",
       "3090             0          0           0                1         1   \n",
       "22414            2          2           3                7         8   \n",
       "\n",
       "       fanCount  restaurantRating  ReviewLength  \n",
       "6010          0               4.0           144  \n",
       "6566          0               4.0            46  \n",
       "21349         0               3.5            18  \n",
       "10370         1               3.5            41  \n",
       "6011          0               4.0            40  \n",
       "...         ...               ...           ...  \n",
       "2072         15               4.0            83  \n",
       "20930         0               4.0            46  \n",
       "2420          0               4.0            16  \n",
       "3090          0               4.0           125  \n",
       "22414         0               4.0            27  \n",
       "\n",
       "[9926 rows x 22 columns]"
      ]
     },
     "execution_count": 13,
     "metadata": {},
     "output_type": "execute_result"
    }
   ],
   "source": [
    "train_df = train_df[~train_df['reviewContent'].isnull()]\n",
    "train_df"
   ]
  },
  {
   "cell_type": "code",
   "execution_count": 14,
   "metadata": {
    "colab": {
     "base_uri": "https://localhost:8080/"
    },
    "id": "fAruLqxUpWXK",
    "outputId": "88d17bbd-e279-4eae-f6eb-f93123b2402a"
   },
   "outputs": [
    {
     "data": {
      "text/plain": [
       "(9926, 22)"
      ]
     },
     "execution_count": 14,
     "metadata": {},
     "output_type": "execute_result"
    }
   ],
   "source": [
    "train_df.shape"
   ]
  },
  {
   "cell_type": "code",
   "execution_count": null,
   "metadata": {
    "id": "ooa8uYIsptTI"
   },
   "outputs": [],
   "source": []
  },
  {
   "cell_type": "code",
   "execution_count": null,
   "metadata": {
    "id": "inJCHmvUlMtf"
   },
   "outputs": [],
   "source": []
  },
  {
   "cell_type": "code",
   "execution_count": null,
   "metadata": {
    "id": "l-HC4bd0lOR1"
   },
   "outputs": [],
   "source": []
  },
  {
   "cell_type": "markdown",
   "metadata": {
    "id": "__KhRnf0lOyq"
   },
   "source": [
    "### Dropping Non Textual Features"
   ]
  },
  {
   "cell_type": "code",
   "execution_count": 15,
   "metadata": {
    "colab": {
     "base_uri": "https://localhost:8080/",
     "height": 424
    },
    "id": "e0I5ZIXYlKyH",
    "outputId": "823accec-db8e-44a6-d552-2d5492b4f84c"
   },
   "outputs": [
    {
     "data": {
      "text/html": [
       "<div>\n",
       "<style scoped>\n",
       "    .dataframe tbody tr th:only-of-type {\n",
       "        vertical-align: middle;\n",
       "    }\n",
       "\n",
       "    .dataframe tbody tr th {\n",
       "        vertical-align: top;\n",
       "    }\n",
       "\n",
       "    .dataframe thead th {\n",
       "        text-align: right;\n",
       "    }\n",
       "</style>\n",
       "<table border=\"1\" class=\"dataframe\">\n",
       "  <thead>\n",
       "    <tr style=\"text-align: right;\">\n",
       "      <th></th>\n",
       "      <th>reviewContent</th>\n",
       "      <th>flagged</th>\n",
       "    </tr>\n",
       "  </thead>\n",
       "  <tbody>\n",
       "    <tr>\n",
       "      <th>6010</th>\n",
       "      <td>as new resident chicago los angeles i mission ...</td>\n",
       "      <td>1</td>\n",
       "    </tr>\n",
       "    <tr>\n",
       "      <th>6566</th>\n",
       "      <td>great place rarely wait fairly easy find parki...</td>\n",
       "      <td>0</td>\n",
       "    </tr>\n",
       "    <tr>\n",
       "      <th>21349</th>\n",
       "      <td>back bar makes feel though transported china s...</td>\n",
       "      <td>1</td>\n",
       "    </tr>\n",
       "    <tr>\n",
       "      <th>10370</th>\n",
       "      <td>hands one favorite tourist restaurants city th...</td>\n",
       "      <td>0</td>\n",
       "    </tr>\n",
       "    <tr>\n",
       "      <th>6011</th>\n",
       "      <td>service impeccable staff helpful owner works h...</td>\n",
       "      <td>1</td>\n",
       "    </tr>\n",
       "    <tr>\n",
       "      <th>...</th>\n",
       "      <td>...</td>\n",
       "      <td>...</td>\n",
       "    </tr>\n",
       "    <tr>\n",
       "      <th>2072</th>\n",
       "      <td>confirming owner s helpful suggestion trick ab...</td>\n",
       "      <td>0</td>\n",
       "    </tr>\n",
       "    <tr>\n",
       "      <th>20930</th>\n",
       "      <td>this best pizza chicago possibly world they am...</td>\n",
       "      <td>1</td>\n",
       "    </tr>\n",
       "    <tr>\n",
       "      <th>2420</th>\n",
       "      <td>i love place great beer great service fantasti...</td>\n",
       "      <td>1</td>\n",
       "    </tr>\n",
       "    <tr>\n",
       "      <th>3090</th>\n",
       "      <td>i always passed place never chance come in fin...</td>\n",
       "      <td>1</td>\n",
       "    </tr>\n",
       "    <tr>\n",
       "      <th>22414</th>\n",
       "      <td>ok hot pot broth expected veggie greens they g...</td>\n",
       "      <td>0</td>\n",
       "    </tr>\n",
       "  </tbody>\n",
       "</table>\n",
       "<p>9926 rows × 2 columns</p>\n",
       "</div>"
      ],
      "text/plain": [
       "                                           reviewContent  flagged\n",
       "6010   as new resident chicago los angeles i mission ...        1\n",
       "6566   great place rarely wait fairly easy find parki...        0\n",
       "21349  back bar makes feel though transported china s...        1\n",
       "10370  hands one favorite tourist restaurants city th...        0\n",
       "6011   service impeccable staff helpful owner works h...        1\n",
       "...                                                  ...      ...\n",
       "2072   confirming owner s helpful suggestion trick ab...        0\n",
       "20930  this best pizza chicago possibly world they am...        1\n",
       "2420   i love place great beer great service fantasti...        1\n",
       "3090   i always passed place never chance come in fin...        1\n",
       "22414  ok hot pot broth expected veggie greens they g...        0\n",
       "\n",
       "[9926 rows x 2 columns]"
      ]
     },
     "execution_count": 15,
     "metadata": {},
     "output_type": "execute_result"
    }
   ],
   "source": [
    "train_df = train_df[['reviewContent','flagged']]\n",
    "train_df"
   ]
  },
  {
   "cell_type": "code",
   "execution_count": 16,
   "metadata": {
    "colab": {
     "base_uri": "https://localhost:8080/",
     "height": 424
    },
    "id": "QcM6sON4lK0K",
    "outputId": "0fdad26b-6b6b-4628-9145-30292ad945fd"
   },
   "outputs": [
    {
     "data": {
      "text/html": [
       "<div>\n",
       "<style scoped>\n",
       "    .dataframe tbody tr th:only-of-type {\n",
       "        vertical-align: middle;\n",
       "    }\n",
       "\n",
       "    .dataframe tbody tr th {\n",
       "        vertical-align: top;\n",
       "    }\n",
       "\n",
       "    .dataframe thead th {\n",
       "        text-align: right;\n",
       "    }\n",
       "</style>\n",
       "<table border=\"1\" class=\"dataframe\">\n",
       "  <thead>\n",
       "    <tr style=\"text-align: right;\">\n",
       "      <th></th>\n",
       "      <th>reviewContent</th>\n",
       "      <th>flagged</th>\n",
       "    </tr>\n",
       "  </thead>\n",
       "  <tbody>\n",
       "    <tr>\n",
       "      <th>7267</th>\n",
       "      <td>sunda amazing i heard many good things finally...</td>\n",
       "      <td>1</td>\n",
       "    </tr>\n",
       "    <tr>\n",
       "      <th>731</th>\n",
       "      <td>absolutely fantastic foodie community table gr...</td>\n",
       "      <td>0</td>\n",
       "    </tr>\n",
       "    <tr>\n",
       "      <th>9902</th>\n",
       "      <td>i work right rarely go here they 5 personal st...</td>\n",
       "      <td>0</td>\n",
       "    </tr>\n",
       "    <tr>\n",
       "      <th>25894</th>\n",
       "      <td>this best big 3 brazilian steakhouses chicago ...</td>\n",
       "      <td>1</td>\n",
       "    </tr>\n",
       "    <tr>\n",
       "      <th>17519</th>\n",
       "      <td>i lunch the gage group 8 this first time there...</td>\n",
       "      <td>1</td>\n",
       "    </tr>\n",
       "    <tr>\n",
       "      <th>...</th>\n",
       "      <td>...</td>\n",
       "      <td>...</td>\n",
       "    </tr>\n",
       "    <tr>\n",
       "      <th>13196</th>\n",
       "      <td>there better steak chicago opinion the lobster...</td>\n",
       "      <td>1</td>\n",
       "    </tr>\n",
       "    <tr>\n",
       "      <th>10278</th>\n",
       "      <td>it controversial topic i believe giordano s be...</td>\n",
       "      <td>1</td>\n",
       "    </tr>\n",
       "    <tr>\n",
       "      <th>11476</th>\n",
       "      <td>this place outrageous i went drinks girls thur...</td>\n",
       "      <td>1</td>\n",
       "    </tr>\n",
       "    <tr>\n",
       "      <th>24962</th>\n",
       "      <td>ha i ve eating lunch least twice week two year...</td>\n",
       "      <td>0</td>\n",
       "    </tr>\n",
       "    <tr>\n",
       "      <th>17022</th>\n",
       "      <td>tremendous fresh fish casual atmosphere don t ...</td>\n",
       "      <td>0</td>\n",
       "    </tr>\n",
       "  </tbody>\n",
       "</table>\n",
       "<p>2483 rows × 2 columns</p>\n",
       "</div>"
      ],
      "text/plain": [
       "                                           reviewContent  flagged\n",
       "7267   sunda amazing i heard many good things finally...        1\n",
       "731    absolutely fantastic foodie community table gr...        0\n",
       "9902   i work right rarely go here they 5 personal st...        0\n",
       "25894  this best big 3 brazilian steakhouses chicago ...        1\n",
       "17519  i lunch the gage group 8 this first time there...        1\n",
       "...                                                  ...      ...\n",
       "13196  there better steak chicago opinion the lobster...        1\n",
       "10278  it controversial topic i believe giordano s be...        1\n",
       "11476  this place outrageous i went drinks girls thur...        1\n",
       "24962  ha i ve eating lunch least twice week two year...        0\n",
       "17022  tremendous fresh fish casual atmosphere don t ...        0\n",
       "\n",
       "[2483 rows x 2 columns]"
      ]
     },
     "execution_count": 16,
     "metadata": {},
     "output_type": "execute_result"
    }
   ],
   "source": [
    "test_df = test_df[['reviewContent','flagged']]\n",
    "test_df"
   ]
  },
  {
   "cell_type": "code",
   "execution_count": null,
   "metadata": {
    "id": "nUMoIUFTlK3b"
   },
   "outputs": [],
   "source": []
  },
  {
   "cell_type": "markdown",
   "metadata": {
    "id": "mG3XSfskPvtm"
   },
   "source": [
    "## Defining Evaluation Metric"
   ]
  },
  {
   "cell_type": "code",
   "execution_count": 17,
   "metadata": {
    "id": "WlFEAqkCYtor"
   },
   "outputs": [],
   "source": [
    "from sklearn.metrics import accuracy_score, f1_score\n",
    "from sklearn.metrics import precision_score, recall_score\n",
    "from sklearn.metrics import roc_auc_score,roc_curve,auc,confusion_matrix,classification_report\n",
    "\n",
    "from sklearn.metrics import confusion_matrix, ConfusionMatrixDisplay"
   ]
  },
  {
   "cell_type": "code",
   "execution_count": 18,
   "metadata": {
    "id": "k3y_vEmTm7T0"
   },
   "outputs": [],
   "source": [
    "# Function to evaluate: accuracy, precision, recall, f1-score\n",
    "from sklearn.metrics import accuracy_score, precision_recall_fscore_support\n",
    "\n",
    "def calculate_results(y_true, y_pred):\n",
    "  \"\"\"\n",
    "  Calculates model accuracy, precision, recall and f1 score of a binary classification model.\n",
    "\n",
    "  Args:\n",
    "  -----\n",
    "  y_true = true labels in the form of a 1D array\n",
    "  y_pred = predicted labels in the form of a 1D array\n",
    "\n",
    "  Returns a dictionary of accuracy, precision, recall, f1-score.\n",
    "  \"\"\"\n",
    "  # Calculate model accuracy\n",
    "  model_accuracy = accuracy_score(y_true, y_pred) * 100\n",
    "  # Calculate model precision, recall and f1 score using \"weighted\" average\n",
    "  model_precision, model_recall, model_f1, _ = precision_recall_fscore_support(y_true, y_pred, average=\"binary\")\n",
    "  model_results = {\"accuracy\": model_accuracy,\n",
    "                  \"precision\": model_precision,\n",
    "                  \"recall\": model_recall,\n",
    "                  \"f1\": model_f1}\n",
    "  return model_results"
   ]
  },
  {
   "cell_type": "code",
   "execution_count": null,
   "metadata": {
    "id": "G0zVodsba34a"
   },
   "outputs": [],
   "source": []
  },
  {
   "cell_type": "code",
   "execution_count": 19,
   "metadata": {
    "colab": {
     "base_uri": "https://localhost:8080/"
    },
    "id": "3zX-udXUZQ5T",
    "outputId": "a404a32e-0c61-43c7-d4b9-f9ea0c6b36db"
   },
   "outputs": [
    {
     "data": {
      "text/plain": [
       "7267     1\n",
       "731      0\n",
       "9902     0\n",
       "25894    1\n",
       "17519    1\n",
       "        ..\n",
       "13196    1\n",
       "10278    1\n",
       "11476    1\n",
       "24962    0\n",
       "17022    0\n",
       "Name: flagged, Length: 2483, dtype: int64"
      ]
     },
     "execution_count": 19,
     "metadata": {},
     "output_type": "execute_result"
    }
   ],
   "source": [
    "test_y = test_df.flagged\n",
    "test_y"
   ]
  },
  {
   "cell_type": "code",
   "execution_count": null,
   "metadata": {
    "id": "g_JfgNspZmkD"
   },
   "outputs": [],
   "source": []
  },
  {
   "cell_type": "markdown",
   "metadata": {
    "id": "7QjG-tfbPvtn"
   },
   "source": [
    "## 1. Baseline Model: Predicting each value as the majority class ( genuine review )"
   ]
  },
  {
   "cell_type": "code",
   "execution_count": 20,
   "metadata": {
    "colab": {
     "base_uri": "https://localhost:8080/"
    },
    "id": "fVYGy_UYZAdc",
    "outputId": "ee903e32-fb8d-4993-ef93-7610f47dce77"
   },
   "outputs": [
    {
     "data": {
      "text/plain": [
       "0    4993\n",
       "1    4933\n",
       "Name: flagged, dtype: int64"
      ]
     },
     "execution_count": 20,
     "metadata": {},
     "output_type": "execute_result"
    }
   ],
   "source": [
    "train_df.flagged.value_counts()"
   ]
  },
  {
   "cell_type": "code",
   "execution_count": 21,
   "metadata": {
    "id": "s3QzhZHhY-SW"
   },
   "outputs": [],
   "source": [
    "#As we saw before, 0 ('genuine') is the majority class. Lets begin by predicting everything as 0 ('genuine').\n",
    "preds_test = np.zeros(len(test_df))\n",
    "\n"
   ]
  },
  {
   "cell_type": "code",
   "execution_count": 22,
   "metadata": {
    "colab": {
     "base_uri": "https://localhost:8080/"
    },
    "id": "K5lUoHisy1YX",
    "outputId": "ceb01db8-96e5-4e52-d729-a19e87ee6ee8"
   },
   "outputs": [
    {
     "name": "stdout",
     "output_type": "stream",
     "text": [
      "Accuracy score is: 0.4881192106322996\n",
      "Precision score is: 0.0\n",
      "Recall score is: 0.0\n",
      "F1 score is: 0.0\n"
     ]
    }
   ],
   "source": [
    "#accuracy,f1 on test data \n",
    "accuracy = accuracy_score(test_y, preds_test)\n",
    "precision = precision_score(test_y, preds_test)\n",
    "recall = recall_score(test_y, preds_test)\n",
    "f1 = f1_score(test_y, preds_test)\n",
    "\n",
    "print(f'Accuracy score is: {accuracy}')\n",
    "print(f'Precision score is: {precision}')\n",
    "print(f'Recall score is: {recall}')\n",
    "print(f'F1 score is: {f1}')"
   ]
  },
  {
   "cell_type": "code",
   "execution_count": 23,
   "metadata": {
    "colab": {
     "base_uri": "https://localhost:8080/"
    },
    "id": "afWr77qXfPCk",
    "outputId": "7c678295-4f8b-42be-e782-a6bd9dbb288b"
   },
   "outputs": [
    {
     "name": "stdout",
     "output_type": "stream",
     "text": [
      "Confusion Matrix is:\n",
      "[[1212    0]\n",
      " [1271    0]]\n"
     ]
    }
   ],
   "source": [
    "print(\"Confusion Matrix is:\")\n",
    "print(confusion_matrix(test_y, preds_test))"
   ]
  },
  {
   "cell_type": "code",
   "execution_count": 24,
   "metadata": {
    "colab": {
     "base_uri": "https://localhost:8080/",
     "height": 302
    },
    "id": "JeNXWnmeeDvy",
    "outputId": "c2ea9917-214c-4c1a-fd5f-497692497599"
   },
   "outputs": [
    {
     "data": {
      "text/plain": [
       "<sklearn.metrics._plot.confusion_matrix.ConfusionMatrixDisplay at 0x10521c970>"
      ]
     },
     "execution_count": 24,
     "metadata": {},
     "output_type": "execute_result"
    },
    {
     "data": {
      "image/png": "[encoded data removed]",
      "text/plain": [
       "<Figure size 432x288 with 2 Axes>"
      ]
     },
     "metadata": {},
     "output_type": "display_data"
    }
   ],
   "source": [
    "\n",
    "\n",
    "cm = confusion_matrix(test_y, preds_test)\n",
    "cmd = ConfusionMatrixDisplay(cm)\n",
    "cmd.plot()"
   ]
  },
  {
   "cell_type": "code",
   "execution_count": 25,
   "metadata": {
    "colab": {
     "base_uri": "https://localhost:8080/",
     "height": 302
    },
    "id": "gP8miqRZiDGf",
    "outputId": "ca38c062-6107-498f-ddf8-a01cefc7bc57"
   },
   "outputs": [
    {
     "data": {
      "text/plain": [
       "<sklearn.metrics._plot.confusion_matrix.ConfusionMatrixDisplay at 0x160b837c0>"
      ]
     },
     "execution_count": 25,
     "metadata": {},
     "output_type": "execute_result"
    },
    {
     "data": {
      "image/png": "[encoded data removed]",
      "text/plain": [
       "<Figure size 432x288 with 2 Axes>"
      ]
     },
     "metadata": {},
     "output_type": "display_data"
    }
   ],
   "source": [
    "cmd = ConfusionMatrixDisplay(cm, display_labels=['Genuine','Fake'])\n",
    "cmd.plot()"
   ]
  },
  {
   "cell_type": "code",
   "execution_count": 26,
   "metadata": {
    "colab": {
     "base_uri": "https://localhost:8080/"
    },
    "id": "CHbfnOn4g4eL",
    "outputId": "aaf65997-388d-46b5-c76e-33ffe0b47d7e"
   },
   "outputs": [
    {
     "name": "stdout",
     "output_type": "stream",
     "text": [
      "Verify our results using Sklearn confusion matrix values\n",
      "FN: 1271\n",
      "TP: 0\n",
      "TN: 1212\n",
      "FP: 0\n"
     ]
    }
   ],
   "source": [
    "# Verify the results\n",
    "sk_tn, sk_fp, sk_fn, sk_tp = confusion_matrix(test_y, preds_test).ravel()\n",
    "print(\"Verify our results using Sklearn confusion matrix values\\n\"\n",
    "      \"FN: {0}\\n\"\n",
    "      \"TP: {1}\\n\"\n",
    "      \"TN: {2}\\n\"\n",
    "      \"FP: {3}\".format(sk_fn, sk_tp, sk_tn, sk_fp,))"
   ]
  },
  {
   "cell_type": "code",
   "execution_count": 27,
   "metadata": {
    "colab": {
     "base_uri": "https://localhost:8080/"
    },
    "id": "ctNji7flcpuj",
    "outputId": "6317a3f9-82c2-412c-e9d1-c2f3b787e3c2"
   },
   "outputs": [
    {
     "name": "stdout",
     "output_type": "stream",
     "text": [
      "Classification Report is is:\n",
      "              precision    recall  f1-score   support\n",
      "\n",
      "           0       0.49      1.00      0.66      1212\n",
      "           1       0.00      0.00      0.00      1271\n",
      "\n",
      "    accuracy                           0.49      2483\n",
      "   macro avg       0.24      0.50      0.33      2483\n",
      "weighted avg       0.24      0.49      0.32      2483\n",
      "\n"
     ]
    }
   ],
   "source": [
    "print(\"Classification Report is is:\")\n",
    "classification_report_results = classification_report(test_y, preds_test)\n",
    "# store report in results\n",
    "print(classification_report_results)"
   ]
  },
  {
   "cell_type": "code",
   "execution_count": 28,
   "metadata": {
    "colab": {
     "base_uri": "https://localhost:8080/"
    },
    "id": "tiFgNsJsPvtn",
    "outputId": "bc2b145b-c1b3-427c-8808-e0b04a54e43e"
   },
   "outputs": [
    {
     "data": {
      "text/plain": [
       "{'accuracy': 48.81192106322996, 'precision': 0.0, 'recall': 0.0, 'f1': 0.0}"
      ]
     },
     "execution_count": 28,
     "metadata": {},
     "output_type": "execute_result"
    }
   ],
   "source": [
    "# Get baseline results\n",
    "baseline_results = calculate_results(y_true=test_y,\n",
    "                                     y_pred=preds_test)\n",
    "baseline_results"
   ]
  },
  {
   "cell_type": "code",
   "execution_count": null,
   "metadata": {
    "id": "nCmvoYvxoGng"
   },
   "outputs": [],
   "source": []
  },
  {
   "cell_type": "markdown",
   "metadata": {
    "id": "0ErM9s8MPvtw"
   },
   "source": [
    "## 3. Featurization of Textual Sentences into Numeric Vectors"
   ]
  },
  {
   "cell_type": "markdown",
   "metadata": {
    "id": "TqTelI0APvtx"
   },
   "source": [
    "**There are three techniques we would use for vectorization:**\n",
    "\n",
    "\n",
    "**1. Bag Of Words (Unigram, Bigram..)**\n",
    "\n",
    "**2. TF-IDF**\n",
    "\n",
    "**3. Word2Vec**"
   ]
  },
  {
   "cell_type": "code",
   "execution_count": 29,
   "metadata": {
    "colab": {
     "base_uri": "https://localhost:8080/"
    },
    "id": "hC8h9dIlPvty",
    "outputId": "a18d14d2-50a0-4099-ddbb-24b5100c9846"
   },
   "outputs": [
    {
     "name": "stderr",
     "output_type": "stream",
     "text": [
      "[nltk_data] Downloading package stopwords to\n",
      "[nltk_data]     /Users/chirag/nltk_data...\n",
      "[nltk_data]   Package stopwords is already up-to-date!\n"
     ]
    },
    {
     "data": {
      "text/plain": [
       "True"
      ]
     },
     "execution_count": 29,
     "metadata": {},
     "output_type": "execute_result"
    }
   ],
   "source": [
    "nltk.download(\"stopwords\")"
   ]
  },
  {
   "cell_type": "code",
   "execution_count": 30,
   "metadata": {
    "id": "KSVjwhD5lDw-"
   },
   "outputs": [],
   "source": [
    "#Load Stopwords from NLTK. We will use these to clean our text\n",
    "stop_words = set(stopwords.words(\"english\"))"
   ]
  },
  {
   "cell_type": "code",
   "execution_count": null,
   "metadata": {
    "id": "zHRxRYcUxFmX"
   },
   "outputs": [],
   "source": []
  },
  {
   "cell_type": "code",
   "execution_count": 31,
   "metadata": {
    "colab": {
     "base_uri": "https://localhost:8080/",
     "height": 424
    },
    "id": "pzRg0ucMxFod",
    "outputId": "17a75d56-aac1-40b1-b943-e771a6a01bdc"
   },
   "outputs": [
    {
     "data": {
      "text/html": [
       "<div>\n",
       "<style scoped>\n",
       "    .dataframe tbody tr th:only-of-type {\n",
       "        vertical-align: middle;\n",
       "    }\n",
       "\n",
       "    .dataframe tbody tr th {\n",
       "        vertical-align: top;\n",
       "    }\n",
       "\n",
       "    .dataframe thead th {\n",
       "        text-align: right;\n",
       "    }\n",
       "</style>\n",
       "<table border=\"1\" class=\"dataframe\">\n",
       "  <thead>\n",
       "    <tr style=\"text-align: right;\">\n",
       "      <th></th>\n",
       "      <th>reviewContent</th>\n",
       "      <th>flagged</th>\n",
       "    </tr>\n",
       "  </thead>\n",
       "  <tbody>\n",
       "    <tr>\n",
       "      <th>6010</th>\n",
       "      <td>as new resident chicago los angeles i mission ...</td>\n",
       "      <td>1</td>\n",
       "    </tr>\n",
       "    <tr>\n",
       "      <th>6566</th>\n",
       "      <td>great place rarely wait fairly easy find parki...</td>\n",
       "      <td>0</td>\n",
       "    </tr>\n",
       "    <tr>\n",
       "      <th>21349</th>\n",
       "      <td>back bar makes feel though transported china s...</td>\n",
       "      <td>1</td>\n",
       "    </tr>\n",
       "    <tr>\n",
       "      <th>10370</th>\n",
       "      <td>hands one favorite tourist restaurants city th...</td>\n",
       "      <td>0</td>\n",
       "    </tr>\n",
       "    <tr>\n",
       "      <th>6011</th>\n",
       "      <td>service impeccable staff helpful owner works h...</td>\n",
       "      <td>1</td>\n",
       "    </tr>\n",
       "    <tr>\n",
       "      <th>...</th>\n",
       "      <td>...</td>\n",
       "      <td>...</td>\n",
       "    </tr>\n",
       "    <tr>\n",
       "      <th>2072</th>\n",
       "      <td>confirming owner s helpful suggestion trick ab...</td>\n",
       "      <td>0</td>\n",
       "    </tr>\n",
       "    <tr>\n",
       "      <th>20930</th>\n",
       "      <td>this best pizza chicago possibly world they am...</td>\n",
       "      <td>1</td>\n",
       "    </tr>\n",
       "    <tr>\n",
       "      <th>2420</th>\n",
       "      <td>i love place great beer great service fantasti...</td>\n",
       "      <td>1</td>\n",
       "    </tr>\n",
       "    <tr>\n",
       "      <th>3090</th>\n",
       "      <td>i always passed place never chance come in fin...</td>\n",
       "      <td>1</td>\n",
       "    </tr>\n",
       "    <tr>\n",
       "      <th>22414</th>\n",
       "      <td>ok hot pot broth expected veggie greens they g...</td>\n",
       "      <td>0</td>\n",
       "    </tr>\n",
       "  </tbody>\n",
       "</table>\n",
       "<p>9926 rows × 2 columns</p>\n",
       "</div>"
      ],
      "text/plain": [
       "                                           reviewContent  flagged\n",
       "6010   as new resident chicago los angeles i mission ...        1\n",
       "6566   great place rarely wait fairly easy find parki...        0\n",
       "21349  back bar makes feel though transported china s...        1\n",
       "10370  hands one favorite tourist restaurants city th...        0\n",
       "6011   service impeccable staff helpful owner works h...        1\n",
       "...                                                  ...      ...\n",
       "2072   confirming owner s helpful suggestion trick ab...        0\n",
       "20930  this best pizza chicago possibly world they am...        1\n",
       "2420   i love place great beer great service fantasti...        1\n",
       "3090   i always passed place never chance come in fin...        1\n",
       "22414  ok hot pot broth expected veggie greens they g...        0\n",
       "\n",
       "[9926 rows x 2 columns]"
      ]
     },
     "execution_count": 31,
     "metadata": {},
     "output_type": "execute_result"
    }
   ],
   "source": [
    "train_df"
   ]
  },
  {
   "cell_type": "code",
   "execution_count": 32,
   "metadata": {
    "colab": {
     "base_uri": "https://localhost:8080/"
    },
    "id": "L6UNuQcJxotW",
    "outputId": "69ea5fa4-46d4-4fc3-a0de-e0d4b7b94f72"
   },
   "outputs": [
    {
     "data": {
      "text/plain": [
       "6010     1\n",
       "6566     0\n",
       "21349    1\n",
       "10370    0\n",
       "6011     1\n",
       "        ..\n",
       "2072     0\n",
       "20930    1\n",
       "2420     1\n",
       "3090     1\n",
       "22414    0\n",
       "Name: flagged, Length: 9926, dtype: int64"
      ]
     },
     "execution_count": 32,
     "metadata": {},
     "output_type": "execute_result"
    }
   ],
   "source": [
    "y_train = train_df['flagged']\n",
    "y_train"
   ]
  },
  {
   "cell_type": "code",
   "execution_count": 33,
   "metadata": {
    "colab": {
     "base_uri": "https://localhost:8080/",
     "height": 424
    },
    "id": "eTQqN-KixIRg",
    "outputId": "8b8a7f76-9a23-4758-928d-0e209c6d2f0c"
   },
   "outputs": [
    {
     "data": {
      "text/html": [
       "<div>\n",
       "<style scoped>\n",
       "    .dataframe tbody tr th:only-of-type {\n",
       "        vertical-align: middle;\n",
       "    }\n",
       "\n",
       "    .dataframe tbody tr th {\n",
       "        vertical-align: top;\n",
       "    }\n",
       "\n",
       "    .dataframe thead th {\n",
       "        text-align: right;\n",
       "    }\n",
       "</style>\n",
       "<table border=\"1\" class=\"dataframe\">\n",
       "  <thead>\n",
       "    <tr style=\"text-align: right;\">\n",
       "      <th></th>\n",
       "      <th>reviewContent</th>\n",
       "      <th>flagged</th>\n",
       "    </tr>\n",
       "  </thead>\n",
       "  <tbody>\n",
       "    <tr>\n",
       "      <th>7267</th>\n",
       "      <td>sunda amazing i heard many good things finally...</td>\n",
       "      <td>1</td>\n",
       "    </tr>\n",
       "    <tr>\n",
       "      <th>731</th>\n",
       "      <td>absolutely fantastic foodie community table gr...</td>\n",
       "      <td>0</td>\n",
       "    </tr>\n",
       "    <tr>\n",
       "      <th>9902</th>\n",
       "      <td>i work right rarely go here they 5 personal st...</td>\n",
       "      <td>0</td>\n",
       "    </tr>\n",
       "    <tr>\n",
       "      <th>25894</th>\n",
       "      <td>this best big 3 brazilian steakhouses chicago ...</td>\n",
       "      <td>1</td>\n",
       "    </tr>\n",
       "    <tr>\n",
       "      <th>17519</th>\n",
       "      <td>i lunch the gage group 8 this first time there...</td>\n",
       "      <td>1</td>\n",
       "    </tr>\n",
       "    <tr>\n",
       "      <th>...</th>\n",
       "      <td>...</td>\n",
       "      <td>...</td>\n",
       "    </tr>\n",
       "    <tr>\n",
       "      <th>13196</th>\n",
       "      <td>there better steak chicago opinion the lobster...</td>\n",
       "      <td>1</td>\n",
       "    </tr>\n",
       "    <tr>\n",
       "      <th>10278</th>\n",
       "      <td>it controversial topic i believe giordano s be...</td>\n",
       "      <td>1</td>\n",
       "    </tr>\n",
       "    <tr>\n",
       "      <th>11476</th>\n",
       "      <td>this place outrageous i went drinks girls thur...</td>\n",
       "      <td>1</td>\n",
       "    </tr>\n",
       "    <tr>\n",
       "      <th>24962</th>\n",
       "      <td>ha i ve eating lunch least twice week two year...</td>\n",
       "      <td>0</td>\n",
       "    </tr>\n",
       "    <tr>\n",
       "      <th>17022</th>\n",
       "      <td>tremendous fresh fish casual atmosphere don t ...</td>\n",
       "      <td>0</td>\n",
       "    </tr>\n",
       "  </tbody>\n",
       "</table>\n",
       "<p>2483 rows × 2 columns</p>\n",
       "</div>"
      ],
      "text/plain": [
       "                                           reviewContent  flagged\n",
       "7267   sunda amazing i heard many good things finally...        1\n",
       "731    absolutely fantastic foodie community table gr...        0\n",
       "9902   i work right rarely go here they 5 personal st...        0\n",
       "25894  this best big 3 brazilian steakhouses chicago ...        1\n",
       "17519  i lunch the gage group 8 this first time there...        1\n",
       "...                                                  ...      ...\n",
       "13196  there better steak chicago opinion the lobster...        1\n",
       "10278  it controversial topic i believe giordano s be...        1\n",
       "11476  this place outrageous i went drinks girls thur...        1\n",
       "24962  ha i ve eating lunch least twice week two year...        0\n",
       "17022  tremendous fresh fish casual atmosphere don t ...        0\n",
       "\n",
       "[2483 rows x 2 columns]"
      ]
     },
     "execution_count": 33,
     "metadata": {},
     "output_type": "execute_result"
    }
   ],
   "source": [
    "test_df"
   ]
  },
  {
   "cell_type": "code",
   "execution_count": 34,
   "metadata": {
    "colab": {
     "base_uri": "https://localhost:8080/"
    },
    "id": "anXzkZeoxJnS",
    "outputId": "257fd009-e9ae-4155-c2f8-8a3e38fb261d"
   },
   "outputs": [
    {
     "data": {
      "text/plain": [
       "7267     1\n",
       "731      0\n",
       "9902     0\n",
       "25894    1\n",
       "17519    1\n",
       "        ..\n",
       "13196    1\n",
       "10278    1\n",
       "11476    1\n",
       "24962    0\n",
       "17022    0\n",
       "Name: flagged, Length: 2483, dtype: int64"
      ]
     },
     "execution_count": 34,
     "metadata": {},
     "output_type": "execute_result"
    }
   ],
   "source": [
    "y_test = test_df['flagged']\n",
    "y_test"
   ]
  },
  {
   "cell_type": "code",
   "execution_count": 35,
   "metadata": {
    "colab": {
     "base_uri": "https://localhost:8080/"
    },
    "id": "Ir-ZyMfmzIzH",
    "outputId": "67d9d2e2-0ddf-4c07-8dbf-62d2f863d8ea"
   },
   "outputs": [
    {
     "data": {
      "text/plain": [
       "7267     1\n",
       "731      0\n",
       "9902     0\n",
       "25894    1\n",
       "17519    1\n",
       "        ..\n",
       "13196    1\n",
       "10278    1\n",
       "11476    1\n",
       "24962    0\n",
       "17022    0\n",
       "Name: flagged, Length: 2483, dtype: int64"
      ]
     },
     "execution_count": 35,
     "metadata": {},
     "output_type": "execute_result"
    }
   ],
   "source": [
    "test_y = y_test\n",
    "test_y"
   ]
  },
  {
   "cell_type": "code",
   "execution_count": null,
   "metadata": {
    "id": "8ilhrbgRxwJa"
   },
   "outputs": [],
   "source": []
  },
  {
   "cell_type": "markdown",
   "metadata": {
    "id": "AwQTe62GPvty"
   },
   "source": [
    "## 3.a) BoW on review Text"
   ]
  },
  {
   "cell_type": "code",
   "execution_count": null,
   "metadata": {
    "id": "B7yTimg1phnn"
   },
   "outputs": [],
   "source": []
  },
  {
   "cell_type": "code",
   "execution_count": 36,
   "metadata": {
    "id": "Q7QZDmexPvty"
   },
   "outputs": [],
   "source": [
    "unigram = (1, 1)\n",
    "bigram = (1, 2)\n",
    "trigram = (1, 3)\n",
    "\n",
    "#we are trying 2 words at a time\n",
    "n_gram = bigram"
   ]
  },
  {
   "cell_type": "code",
   "execution_count": 37,
   "metadata": {
    "id": "-ntAQQufPvty"
   },
   "outputs": [],
   "source": [
    "#BoW for vectorization\n",
    "bow_train = CountVectorizer(\n",
    "    strip_accents=\"ascii\",\n",
    "    lowercase=True,\n",
    "    stop_words=stop_words,\n",
    "    ngram_range=n_gram,\n",
    "    min_df=2,\n",
    ")\n",
    "\n",
    "#BoW on review text in train data\n",
    "X_train = bow_train.fit_transform(train_df[\"reviewContent\"])\n",
    "\n",
    "#get features we derived from training data\n",
    "train_vocab = bow_train.get_feature_names()\n",
    "\n",
    "#use those features to vectorize cross val data as well\n",
    "bow_dev = CountVectorizer(\n",
    "    strip_accents=\"ascii\",\n",
    "    lowercase=True,\n",
    "    stop_words=stop_words,\n",
    "    ngram_range=n_gram,\n",
    "    min_df=2,\n",
    "    vocabulary=train_vocab, #features we got from training\n",
    ")\n",
    "\n",
    "#BoW on review text in test data\n",
    "X_test = bow_dev.fit_transform(test_df[\"reviewContent\"])"
   ]
  },
  {
   "cell_type": "code",
   "execution_count": 38,
   "metadata": {
    "colab": {
     "base_uri": "https://localhost:8080/"
    },
    "id": "HECCWFE8Pvty",
    "outputId": "bf7fa86d-1331-4b0f-b766-779d9b4bea64"
   },
   "outputs": [
    {
     "data": {
      "text/plain": [
       "(9926, 80632)"
      ]
     },
     "execution_count": 38,
     "metadata": {},
     "output_type": "execute_result"
    }
   ],
   "source": [
    "X_train.shape"
   ]
  },
  {
   "cell_type": "code",
   "execution_count": 39,
   "metadata": {
    "colab": {
     "base_uri": "https://localhost:8080/"
    },
    "id": "p5Nr1NzMtTT-",
    "outputId": "f7db57c1-8400-4fc4-a34a-86cf3f7db00a"
   },
   "outputs": [
    {
     "data": {
      "text/plain": [
       "(2483, 80632)"
      ]
     },
     "execution_count": 39,
     "metadata": {},
     "output_type": "execute_result"
    }
   ],
   "source": [
    "X_test.shape"
   ]
  },
  {
   "cell_type": "code",
   "execution_count": 40,
   "metadata": {
    "colab": {
     "base_uri": "https://localhost:8080/"
    },
    "id": "rfHdzOy0UKp6",
    "outputId": "8a4cf7f4-086e-4d92-eed1-a79b56fe7208"
   },
   "outputs": [
    {
     "data": {
      "text/plain": [
       "(9926,)"
      ]
     },
     "execution_count": 40,
     "metadata": {},
     "output_type": "execute_result"
    }
   ],
   "source": [
    "y_train.shape"
   ]
  },
  {
   "cell_type": "code",
   "execution_count": 41,
   "metadata": {
    "colab": {
     "base_uri": "https://localhost:8080/"
    },
    "id": "3e4mP-wqx0zl",
    "outputId": "000e5f50-9674-47df-f86b-d51129add0f1"
   },
   "outputs": [
    {
     "data": {
      "text/plain": [
       "(2483,)"
      ]
     },
     "execution_count": 41,
     "metadata": {},
     "output_type": "execute_result"
    }
   ],
   "source": [
    "y_test.shape"
   ]
  },
  {
   "cell_type": "code",
   "execution_count": null,
   "metadata": {
    "id": "5LVb6g-jx2jB"
   },
   "outputs": [],
   "source": []
  },
  {
   "cell_type": "code",
   "execution_count": null,
   "metadata": {
    "id": "VtcRkxUax2k2"
   },
   "outputs": [],
   "source": []
  },
  {
   "cell_type": "markdown",
   "metadata": {
    "id": "ztImSRHoPvt0"
   },
   "source": [
    "## 4. Model Building"
   ]
  },
  {
   "cell_type": "code",
   "execution_count": 42,
   "metadata": {
    "id": "kqolBP5iPvt0"
   },
   "outputs": [],
   "source": [
    "model_results = {}"
   ]
  },
  {
   "cell_type": "code",
   "execution_count": 43,
   "metadata": {
    "id": "QzoE2ukePvt0"
   },
   "outputs": [],
   "source": [
    "#Add Baseline\n",
    "model_results[\"BASELINE\"] = baseline_results"
   ]
  },
  {
   "cell_type": "code",
   "execution_count": 44,
   "metadata": {
    "colab": {
     "base_uri": "https://localhost:8080/"
    },
    "id": "YflfN56Ztdwk",
    "outputId": "5ccf9584-0a13-4f7e-95e2-3bb0fefad716"
   },
   "outputs": [
    {
     "data": {
      "text/plain": [
       "{'BASELINE': {'accuracy': 48.81192106322996,\n",
       "  'precision': 0.0,\n",
       "  'recall': 0.0,\n",
       "  'f1': 0.0}}"
      ]
     },
     "execution_count": 44,
     "metadata": {},
     "output_type": "execute_result"
    }
   ],
   "source": [
    "model_results"
   ]
  },
  {
   "cell_type": "code",
   "execution_count": null,
   "metadata": {
    "id": "PkgyD8TXt_v4"
   },
   "outputs": [],
   "source": []
  },
  {
   "cell_type": "code",
   "execution_count": 193,
   "metadata": {
    "id": "hWVZBiFIt_yE"
   },
   "outputs": [],
   "source": []
  },
  {
   "cell_type": "markdown",
   "metadata": {
    "id": "t30sQPvQPvt0"
   },
   "source": [
    "### a) Logistic Regression"
   ]
  },
  {
   "cell_type": "code",
   "execution_count": 51,
   "metadata": {
    "id": "dwLDv-2Yt_0U"
   },
   "outputs": [],
   "source": [
    "lr = LogisticRegression(max_iter=7600,random_state = 1)\n",
    "_ = lr.fit(X_train, y_train)\n",
    "\n",
    "#predictions on test data\n",
    "preds_test= lr.predict(X_test)"
   ]
  },
  {
   "cell_type": "code",
   "execution_count": 53,
   "metadata": {
    "colab": {
     "base_uri": "https://localhost:8080/"
    },
    "id": "2rn2phcay-P-",
    "outputId": "937fd035-a002-45b2-c755-25797656dab3"
   },
   "outputs": [
    {
     "name": "stdout",
     "output_type": "stream",
     "text": [
      "Accuracy score is: 0.662505034232783\n",
      "Precision score is: 0.6616878267363704\n",
      "Recall score is: 0.6970889063729347\n",
      "F1 score is: 0.6789272030651341\n"
     ]
    }
   ],
   "source": [
    "#accuracy,f1 on test data \n",
    "accuracy = accuracy_score(test_y, preds_test)\n",
    "precision = precision_score(test_y, preds_test)\n",
    "recall = recall_score(test_y, preds_test)\n",
    "f1 = f1_score(test_y, preds_test)\n",
    "\n",
    "print(f'Accuracy score is: {accuracy}')\n",
    "print(f'Precision score is: {precision}')\n",
    "print(f'Recall score is: {recall}')\n",
    "print(f'F1 score is: {f1}')"
   ]
  },
  {
   "cell_type": "code",
   "execution_count": 59,
   "metadata": {
    "colab": {
     "base_uri": "https://localhost:8080/"
    },
    "id": "qB82o4Wfy-P-",
    "outputId": "4f41ddbb-a3cd-4d81-f312-132ff2b75592"
   },
   "outputs": [
    {
     "name": "stdout",
     "output_type": "stream",
     "text": [
      "Confusion Matrix is:\n",
      "[[759 453]\n",
      " [385 886]]\n"
     ]
    }
   ],
   "source": [
    "print(\"Confusion Matrix is:\")\n",
    "print(confusion_matrix(test_y, preds_test))"
   ]
  },
  {
   "cell_type": "code",
   "execution_count": 61,
   "metadata": {
    "colab": {
     "base_uri": "https://localhost:8080/",
     "height": 302
    },
    "id": "ldo7LKi1y-P_",
    "outputId": "16417cc2-9b9d-47ec-bae9-910d24836d3b"
   },
   "outputs": [
    {
     "data": {
      "text/plain": [
       "<sklearn.metrics._plot.confusion_matrix.ConfusionMatrixDisplay at 0x7fdaab2d9650>"
      ]
     },
     "execution_count": 61,
     "metadata": {},
     "output_type": "execute_result"
    },
    {
     "data": {
      "image/png": "[encoded data removed]",
      "text/plain": [
       "<Figure size 432x288 with 2 Axes>"
      ]
     },
     "metadata": {},
     "output_type": "display_data"
    }
   ],
   "source": [
    "cm = confusion_matrix(test_y, preds_test)\n",
    "cmd = ConfusionMatrixDisplay(cm)\n",
    "cmd.plot()"
   ]
  },
  {
   "cell_type": "code",
   "execution_count": 62,
   "metadata": {
    "colab": {
     "base_uri": "https://localhost:8080/",
     "height": 302
    },
    "id": "GHEBved0y-P_",
    "outputId": "798c1778-732b-4d7c-85c5-47ded2ca2fa0"
   },
   "outputs": [
    {
     "data": {
      "text/plain": [
       "<sklearn.metrics._plot.confusion_matrix.ConfusionMatrixDisplay at 0x7fdaaba818d0>"
      ]
     },
     "execution_count": 62,
     "metadata": {},
     "output_type": "execute_result"
    },
    {
     "data": {
      "image/png": "[encoded data removed]",
      "text/plain": [
       "<Figure size 432x288 with 2 Axes>"
      ]
     },
     "metadata": {},
     "output_type": "display_data"
    }
   ],
   "source": [
    "cmd = ConfusionMatrixDisplay(cm, display_labels=['Genuine','Fake'])\n",
    "cmd.plot()"
   ]
  },
  {
   "cell_type": "code",
   "execution_count": 63,
   "metadata": {
    "colab": {
     "base_uri": "https://localhost:8080/"
    },
    "id": "C_2qGCLGy-P_",
    "outputId": "3ed2c7d4-aa66-48f9-cb09-9464cde57a24"
   },
   "outputs": [
    {
     "name": "stdout",
     "output_type": "stream",
     "text": [
      "Verify our results using Sklearn confusion matrix values\n",
      "FN: 385\n",
      "TP: 886\n",
      "TN: 759\n",
      "FP: 453\n"
     ]
    }
   ],
   "source": [
    "# Verify the results\n",
    "sk_tn, sk_fp, sk_fn, sk_tp = confusion_matrix(test_y, preds_test).ravel()\n",
    "print(\"Verify our results using Sklearn confusion matrix values\\n\"\n",
    "      \"FN: {0}\\n\"\n",
    "      \"TP: {1}\\n\"\n",
    "      \"TN: {2}\\n\"\n",
    "      \"FP: {3}\".format(sk_fn, sk_tp, sk_tn, sk_fp,))"
   ]
  },
  {
   "cell_type": "code",
   "execution_count": 64,
   "metadata": {
    "colab": {
     "base_uri": "https://localhost:8080/"
    },
    "id": "-5AYscByy-P_",
    "outputId": "65245213-1506-4f1b-b1f3-6a202bded927"
   },
   "outputs": [
    {
     "name": "stdout",
     "output_type": "stream",
     "text": [
      "Classification Report is is:\n",
      "              precision    recall  f1-score   support\n",
      "\n",
      "           0       0.66      0.63      0.64      1212\n",
      "           1       0.66      0.70      0.68      1271\n",
      "\n",
      "    accuracy                           0.66      2483\n",
      "   macro avg       0.66      0.66      0.66      2483\n",
      "weighted avg       0.66      0.66      0.66      2483\n",
      "\n"
     ]
    }
   ],
   "source": [
    "print(\"Classification Report is is:\")\n",
    "classification_report_results = classification_report(test_y, preds_test)\n",
    "# store report in results\n",
    "print(classification_report_results)"
   ]
  },
  {
   "cell_type": "code",
   "execution_count": 71,
   "metadata": {
    "colab": {
     "base_uri": "https://localhost:8080/"
    },
    "id": "uxOWLCROE7cA",
    "outputId": "c58984e2-ebfd-48fb-ad60-368f9e5dc51d"
   },
   "outputs": [
    {
     "name": "stdout",
     "output_type": "stream",
     "text": [
      "AUC on Test data is 0.6616632650676556\n"
     ]
    }
   ],
   "source": [
    "print(\"AUC on Test data is \" +str(roc_auc_score(test_y,preds_test)))"
   ]
  },
  {
   "cell_type": "code",
   "execution_count": 66,
   "metadata": {
    "colab": {
     "base_uri": "https://localhost:8080/"
    },
    "id": "11C-OqGQy-P_",
    "outputId": "0c457c8b-7d6b-4414-b4c4-d9756ae214ff"
   },
   "outputs": [
    {
     "data": {
      "text/plain": [
       "{'accuracy': 66.25050342327829,\n",
       " 'precision': 0.6616878267363704,\n",
       " 'recall': 0.6970889063729347,\n",
       " 'f1': 0.6789272030651341}"
      ]
     },
     "execution_count": 66,
     "metadata": {},
     "output_type": "execute_result"
    }
   ],
   "source": [
    "# Get baseline results\n",
    "lr_results = calculate_results(y_true=test_y,\n",
    "                                     y_pred=preds_test)\n",
    "lr_results"
   ]
  },
  {
   "cell_type": "code",
   "execution_count": 69,
   "metadata": {
    "id": "9m9Qfjc6Pvt1"
   },
   "outputs": [],
   "source": [
    "model_results[\"Logistic Regression\"] = lr_results"
   ]
  },
  {
   "cell_type": "code",
   "execution_count": 70,
   "metadata": {
    "colab": {
     "base_uri": "https://localhost:8080/"
    },
    "id": "TtjU5ZSxynGy",
    "outputId": "e2d8bb48-3f96-4b91-8fcd-90ed8664fd19"
   },
   "outputs": [
    {
     "data": {
      "text/plain": [
       "{'BASELINE': {'accuracy': 48.81192106322996,\n",
       "  'precision': 0.0,\n",
       "  'recall': 0.0,\n",
       "  'f1': 0.0},\n",
       " 'Linear Regression': {'accuracy': 66.25050342327829,\n",
       "  'precision': 0.6616878267363704,\n",
       "  'recall': 0.6970889063729347,\n",
       "  'f1': 0.6789272030651341},\n",
       " 'Logistic Regression': {'accuracy': 66.25050342327829,\n",
       "  'precision': 0.6616878267363704,\n",
       "  'recall': 0.6970889063729347,\n",
       "  'f1': 0.6789272030651341}}"
      ]
     },
     "execution_count": 70,
     "metadata": {},
     "output_type": "execute_result"
    }
   ],
   "source": [
    "model_results"
   ]
  },
  {
   "cell_type": "code",
   "execution_count": null,
   "metadata": {
    "id": "1ex2plmLynIq"
   },
   "outputs": [],
   "source": []
  },
  {
   "cell_type": "code",
   "execution_count": null,
   "metadata": {
    "id": "7hTxZwvhykKx"
   },
   "outputs": [],
   "source": []
  },
  {
   "cell_type": "code",
   "execution_count": null,
   "metadata": {
    "id": "ATYDD4umPvt1"
   },
   "outputs": [],
   "source": []
  },
  {
   "cell_type": "markdown",
   "metadata": {
    "id": "JJOhGs0CPvt2"
   },
   "source": [
    "### b) Decision Tree Classifier"
   ]
  },
  {
   "cell_type": "code",
   "execution_count": 74,
   "metadata": {
    "id": "kPACvUJcGOy6"
   },
   "outputs": [],
   "source": [
    "dt = DecisionTreeClassifier(random_state = 1)\n",
    "_ = dt.fit(X_train, y_train)\n",
    "\n",
    "#predictions on test data\n",
    "preds_test= dt.predict(X_test)\n"
   ]
  },
  {
   "cell_type": "code",
   "execution_count": 75,
   "metadata": {
    "colab": {
     "base_uri": "https://localhost:8080/"
    },
    "id": "q4mamzcsGH20",
    "outputId": "aa3f3ea4-d5c0-474e-a100-273f8533e937"
   },
   "outputs": [
    {
     "name": "stdout",
     "output_type": "stream",
     "text": [
      "Accuracy score is: 0.5884011276681433\n",
      "Precision score is: 0.5985748218527316\n",
      "Recall score is: 0.5948072383949646\n",
      "F1 score is: 0.5966850828729282\n"
     ]
    }
   ],
   "source": [
    "#accuracy,f1 on test data \n",
    "accuracy = accuracy_score(test_y, preds_test)\n",
    "precision = precision_score(test_y, preds_test)\n",
    "recall = recall_score(test_y, preds_test)\n",
    "f1 = f1_score(test_y, preds_test)\n",
    "\n",
    "print(f'Accuracy score is: {accuracy}')\n",
    "print(f'Precision score is: {precision}')\n",
    "print(f'Recall score is: {recall}')\n",
    "print(f'F1 score is: {f1}')"
   ]
  },
  {
   "cell_type": "code",
   "execution_count": 76,
   "metadata": {
    "colab": {
     "base_uri": "https://localhost:8080/"
    },
    "id": "BrLC9aA3GH21",
    "outputId": "2e01ab77-3ccf-484c-cfdd-674706c1c1cf"
   },
   "outputs": [
    {
     "name": "stdout",
     "output_type": "stream",
     "text": [
      "Confusion Matrix is:\n",
      "[[705 507]\n",
      " [515 756]]\n"
     ]
    }
   ],
   "source": [
    "print(\"Confusion Matrix is:\")\n",
    "print(confusion_matrix(test_y, preds_test))"
   ]
  },
  {
   "cell_type": "code",
   "execution_count": 77,
   "metadata": {
    "colab": {
     "base_uri": "https://localhost:8080/",
     "height": 302
    },
    "id": "f-JBHeIjGH21",
    "outputId": "4ae2e333-2b7d-4e53-a061-d28135270d7a"
   },
   "outputs": [
    {
     "data": {
      "text/plain": [
       "<sklearn.metrics._plot.confusion_matrix.ConfusionMatrixDisplay at 0x7fdaab742310>"
      ]
     },
     "execution_count": 77,
     "metadata": {},
     "output_type": "execute_result"
    },
    {
     "data": {
      "image/png": "[encoded data removed]",
      "text/plain": [
       "<Figure size 432x288 with 2 Axes>"
      ]
     },
     "metadata": {},
     "output_type": "display_data"
    }
   ],
   "source": [
    "cm = confusion_matrix(test_y, preds_test)\n",
    "cmd = ConfusionMatrixDisplay(cm)\n",
    "cmd.plot()"
   ]
  },
  {
   "cell_type": "code",
   "execution_count": 78,
   "metadata": {
    "colab": {
     "base_uri": "https://localhost:8080/",
     "height": 302
    },
    "id": "4r-3CoYnGH21",
    "outputId": "80e5401f-ef50-41eb-cc73-3df9551b733b"
   },
   "outputs": [
    {
     "data": {
      "text/plain": [
       "<sklearn.metrics._plot.confusion_matrix.ConfusionMatrixDisplay at 0x7fdaab06cfd0>"
      ]
     },
     "execution_count": 78,
     "metadata": {},
     "output_type": "execute_result"
    },
    {
     "data": {
      "image/png": "[encoded data removed]",
      "text/plain": [
       "<Figure size 432x288 with 2 Axes>"
      ]
     },
     "metadata": {},
     "output_type": "display_data"
    }
   ],
   "source": [
    "cmd = ConfusionMatrixDisplay(cm, display_labels=['Genuine','Fake'])\n",
    "cmd.plot()"
   ]
  },
  {
   "cell_type": "code",
   "execution_count": 79,
   "metadata": {
    "colab": {
     "base_uri": "https://localhost:8080/"
    },
    "id": "4OaiAVP3GH21",
    "outputId": "edb67c55-6b67-4b0a-ead8-4a4826e1cacd"
   },
   "outputs": [
    {
     "name": "stdout",
     "output_type": "stream",
     "text": [
      "Verify our results using Sklearn confusion matrix values\n",
      "FN: 515\n",
      "TP: 756\n",
      "TN: 705\n",
      "FP: 507\n"
     ]
    }
   ],
   "source": [
    "# Verify the results\n",
    "sk_tn, sk_fp, sk_fn, sk_tp = confusion_matrix(test_y, preds_test).ravel()\n",
    "print(\"Verify our results using Sklearn confusion matrix values\\n\"\n",
    "      \"FN: {0}\\n\"\n",
    "      \"TP: {1}\\n\"\n",
    "      \"TN: {2}\\n\"\n",
    "      \"FP: {3}\".format(sk_fn, sk_tp, sk_tn, sk_fp,))"
   ]
  },
  {
   "cell_type": "code",
   "execution_count": 80,
   "metadata": {
    "colab": {
     "base_uri": "https://localhost:8080/"
    },
    "id": "x8rUsM9hGH21",
    "outputId": "1586065a-bada-48a3-8fc9-e194d4b8d48a"
   },
   "outputs": [
    {
     "name": "stdout",
     "output_type": "stream",
     "text": [
      "Classification Report is is:\n",
      "              precision    recall  f1-score   support\n",
      "\n",
      "           0       0.58      0.58      0.58      1212\n",
      "           1       0.60      0.59      0.60      1271\n",
      "\n",
      "    accuracy                           0.59      2483\n",
      "   macro avg       0.59      0.59      0.59      2483\n",
      "weighted avg       0.59      0.59      0.59      2483\n",
      "\n"
     ]
    }
   ],
   "source": [
    "print(\"Classification Report is is:\")\n",
    "classification_report_results = classification_report(test_y, preds_test)\n",
    "# store report in results\n",
    "print(classification_report_results)"
   ]
  },
  {
   "cell_type": "code",
   "execution_count": 81,
   "metadata": {
    "colab": {
     "base_uri": "https://localhost:8080/"
    },
    "id": "2H4jfcGjGH21",
    "outputId": "233e3aaf-e702-4095-fb82-9ef55fe427fa"
   },
   "outputs": [
    {
     "name": "stdout",
     "output_type": "stream",
     "text": [
      "AUC on Test data is 0.5882452033558982\n"
     ]
    }
   ],
   "source": [
    "print(\"AUC on Test data is \" +str(roc_auc_score(test_y,preds_test)))"
   ]
  },
  {
   "cell_type": "code",
   "execution_count": 83,
   "metadata": {
    "colab": {
     "base_uri": "https://localhost:8080/"
    },
    "id": "bu2RfTqQGH21",
    "outputId": "4dae5fb2-face-439c-e669-42d331e41116"
   },
   "outputs": [
    {
     "data": {
      "text/plain": [
       "{'accuracy': 58.840112766814336,\n",
       " 'precision': 0.5985748218527316,\n",
       " 'recall': 0.5948072383949646,\n",
       " 'f1': 0.5966850828729282}"
      ]
     },
     "execution_count": 83,
     "metadata": {},
     "output_type": "execute_result"
    }
   ],
   "source": [
    "# Get baseline results\n",
    "dt_results = calculate_results(y_true=test_y,\n",
    "                                     y_pred=preds_test)\n",
    "dt_results"
   ]
  },
  {
   "cell_type": "code",
   "execution_count": 84,
   "metadata": {
    "id": "e0pdsCy9GH21"
   },
   "outputs": [],
   "source": [
    "model_results[\"Decision Tree\"] = dt_results"
   ]
  },
  {
   "cell_type": "code",
   "execution_count": 85,
   "metadata": {
    "colab": {
     "base_uri": "https://localhost:8080/"
    },
    "id": "tFd_i2vYGH21",
    "outputId": "938029b1-a94e-492c-8c1a-ae4320689829"
   },
   "outputs": [
    {
     "data": {
      "text/plain": [
       "{'BASELINE': {'accuracy': 48.81192106322996,\n",
       "  'precision': 0.0,\n",
       "  'recall': 0.0,\n",
       "  'f1': 0.0},\n",
       " 'Linear Regression': {'accuracy': 66.25050342327829,\n",
       "  'precision': 0.6616878267363704,\n",
       "  'recall': 0.6970889063729347,\n",
       "  'f1': 0.6789272030651341},\n",
       " 'Logistic Regression': {'accuracy': 66.25050342327829,\n",
       "  'precision': 0.6616878267363704,\n",
       "  'recall': 0.6970889063729347,\n",
       "  'f1': 0.6789272030651341},\n",
       " 'Decision Tree': {'accuracy': 58.840112766814336,\n",
       "  'precision': 0.5985748218527316,\n",
       "  'recall': 0.5948072383949646,\n",
       "  'f1': 0.5966850828729282}}"
      ]
     },
     "execution_count": 85,
     "metadata": {},
     "output_type": "execute_result"
    }
   ],
   "source": [
    "model_results"
   ]
  },
  {
   "cell_type": "markdown",
   "metadata": {
    "id": "b6qq9Yc2Pvt3"
   },
   "source": [
    "We will now try to do some hyperparameter tuning on Decision Tree"
   ]
  },
  {
   "cell_type": "code",
   "execution_count": 86,
   "metadata": {
    "colab": {
     "base_uri": "https://localhost:8080/"
    },
    "id": "q-x8esalGHb2",
    "outputId": "012c14a2-1756-4a84-8700-5421bdcbb94d"
   },
   "outputs": [
    {
     "data": {
      "text/plain": [
       "{'min_samples_split': 40,\n",
       " 'max_leaf_nodes': 128,\n",
       " 'max_features': 0.4,\n",
       " 'max_depth': 12,\n",
       " 'criterion': 'gini',\n",
       " 'class_weight': {0: 1, 1: 3}}"
      ]
     },
     "execution_count": 86,
     "metadata": {},
     "output_type": "execute_result"
    }
   ],
   "source": [
    "from sklearn.model_selection import RandomizedSearchCV\n",
    "\n",
    "hyperparam_combs = {\n",
    "    'max_depth': [4, 6, 8, 10, 12],\n",
    "    'criterion': ['gini', 'entropy'],\n",
    "    'min_samples_split': [2, 10, 20, 30, 40],\n",
    "    'max_features': [0.2, 0.4, 0.6, 0.8, 1],\n",
    "    'max_leaf_nodes': [8, 16, 32, 64, 128],\n",
    "    'class_weight': [{0: 1, 1: 1}, {0: 1, 1: 2}, {0: 1, 1: 3}, {0: 1, 1: 4}, {0: 1, 1: 5}]\n",
    "}\n",
    "\n",
    "dt2 = RandomizedSearchCV(DecisionTreeClassifier(),\n",
    "                         hyperparam_combs,\n",
    "                         scoring='f1',\n",
    "                         random_state=1,\n",
    "                         n_iter=30,n_jobs=-1)\n",
    "\n",
    "search = dt2.fit(X_train, y_train)\n",
    "\n",
    "search.best_params_"
   ]
  },
  {
   "cell_type": "code",
   "execution_count": 87,
   "metadata": {
    "colab": {
     "base_uri": "https://localhost:8080/"
    },
    "id": "_WeUSswxINzF",
    "outputId": "10c67e21-9a3c-4297-dae5-fa407679aa49"
   },
   "outputs": [
    {
     "data": {
      "text/plain": [
       "{'min_samples_split': 40,\n",
       " 'max_leaf_nodes': 128,\n",
       " 'max_features': 0.4,\n",
       " 'max_depth': 12,\n",
       " 'criterion': 'gini',\n",
       " 'class_weight': {0: 1, 1: 3}}"
      ]
     },
     "execution_count": 87,
     "metadata": {},
     "output_type": "execute_result"
    }
   ],
   "source": [
    "optimal_params = search.best_params_\n",
    "optimal_params"
   ]
  },
  {
   "cell_type": "code",
   "execution_count": 88,
   "metadata": {
    "id": "tCYgj_KzIMfA"
   },
   "outputs": [],
   "source": [
    "dt2 = DecisionTreeClassifier(random_state = 1, **optimal_params)\n",
    "_ = dt2.fit(X_train, y_train)\n",
    "\n",
    "\n",
    "#predictions on test data\n",
    "preds_test= dt2.predict(X_test)"
   ]
  },
  {
   "cell_type": "code",
   "execution_count": 90,
   "metadata": {
    "colab": {
     "base_uri": "https://localhost:8080/"
    },
    "id": "FnuOw5OlI3X_",
    "outputId": "46d90784-2864-4151-c83b-dfd30c11cbef"
   },
   "outputs": [
    {
     "name": "stdout",
     "output_type": "stream",
     "text": [
      "Accuracy score is: 0.5718888441401531\n",
      "Precision score is: 0.5468890892696122\n",
      "Recall score is: 0.9543666404405979\n",
      "F1 score is: 0.6953281742619661\n"
     ]
    }
   ],
   "source": [
    "#accuracy,f1 on test data \n",
    "accuracy = accuracy_score(test_y, preds_test)\n",
    "precision = precision_score(test_y, preds_test)\n",
    "recall = recall_score(test_y, preds_test)\n",
    "f1 = f1_score(test_y, preds_test)\n",
    "\n",
    "print(f'Accuracy score is: {accuracy}')\n",
    "print(f'Precision score is: {precision}')\n",
    "print(f'Recall score is: {recall}')\n",
    "print(f'F1 score is: {f1}')"
   ]
  },
  {
   "cell_type": "code",
   "execution_count": null,
   "metadata": {
    "id": "D4r4960wJbwb"
   },
   "outputs": [],
   "source": [
    "#We increased Recall at the cost of Precision ( FN decreased but FP increased)"
   ]
  },
  {
   "cell_type": "code",
   "execution_count": 91,
   "metadata": {
    "colab": {
     "base_uri": "https://localhost:8080/"
    },
    "id": "ZivzvmmhI3YA",
    "outputId": "d4526037-9d5b-4120-e907-d1841cb3c22c"
   },
   "outputs": [
    {
     "name": "stdout",
     "output_type": "stream",
     "text": [
      "Confusion Matrix is:\n",
      "[[ 207 1005]\n",
      " [  58 1213]]\n"
     ]
    }
   ],
   "source": [
    "print(\"Confusion Matrix is:\")\n",
    "print(confusion_matrix(test_y, preds_test))"
   ]
  },
  {
   "cell_type": "code",
   "execution_count": 92,
   "metadata": {
    "colab": {
     "base_uri": "https://localhost:8080/",
     "height": 303
    },
    "id": "nrowmGo0I3YA",
    "outputId": "c6de2fa8-60e5-426d-cb5b-91298e6bb821"
   },
   "outputs": [
    {
     "data": {
      "text/plain": [
       "<sklearn.metrics._plot.confusion_matrix.ConfusionMatrixDisplay at 0x7fdaabe310d0>"
      ]
     },
     "execution_count": 92,
     "metadata": {},
     "output_type": "execute_result"
    },
    {
     "data": {
      "image/png": "[encoded data removed]",
      "text/plain": [
       "<Figure size 432x288 with 2 Axes>"
      ]
     },
     "metadata": {},
     "output_type": "display_data"
    }
   ],
   "source": [
    "cm = confusion_matrix(test_y, preds_test)\n",
    "cmd = ConfusionMatrixDisplay(cm)\n",
    "cmd.plot()"
   ]
  },
  {
   "cell_type": "code",
   "execution_count": 93,
   "metadata": {
    "colab": {
     "base_uri": "https://localhost:8080/",
     "height": 303
    },
    "id": "W6fTuJxXI3YA",
    "outputId": "22935884-dcef-4398-fee8-8a8716ebedaa"
   },
   "outputs": [
    {
     "data": {
      "text/plain": [
       "<sklearn.metrics._plot.confusion_matrix.ConfusionMatrixDisplay at 0x7fdaabdac150>"
      ]
     },
     "execution_count": 93,
     "metadata": {},
     "output_type": "execute_result"
    },
    {
     "data": {
      "image/png": "[encoded data removed]",
      "text/plain": [
       "<Figure size 432x288 with 2 Axes>"
      ]
     },
     "metadata": {},
     "output_type": "display_data"
    }
   ],
   "source": [
    "cmd = ConfusionMatrixDisplay(cm, display_labels=['Genuine','Fake'])\n",
    "cmd.plot()"
   ]
  },
  {
   "cell_type": "code",
   "execution_count": 94,
   "metadata": {
    "colab": {
     "base_uri": "https://localhost:8080/"
    },
    "id": "ZfU1Rs0MI3YA",
    "outputId": "c77532a1-9316-4836-c855-8c1a1260fdc7"
   },
   "outputs": [
    {
     "name": "stdout",
     "output_type": "stream",
     "text": [
      "Verify our results using Sklearn confusion matrix values\n",
      "FN: 58\n",
      "TP: 1213\n",
      "TN: 207\n",
      "FP: 1005\n"
     ]
    }
   ],
   "source": [
    "# Verify the results\n",
    "sk_tn, sk_fp, sk_fn, sk_tp = confusion_matrix(test_y, preds_test).ravel()\n",
    "print(\"Verify our results using Sklearn confusion matrix values\\n\"\n",
    "      \"FN: {0}\\n\"\n",
    "      \"TP: {1}\\n\"\n",
    "      \"TN: {2}\\n\"\n",
    "      \"FP: {3}\".format(sk_fn, sk_tp, sk_tn, sk_fp,))"
   ]
  },
  {
   "cell_type": "code",
   "execution_count": 95,
   "metadata": {
    "colab": {
     "base_uri": "https://localhost:8080/"
    },
    "id": "NLUhjp9FI3YA",
    "outputId": "d24fea92-91d1-480d-9ded-e660a3eae09d"
   },
   "outputs": [
    {
     "name": "stdout",
     "output_type": "stream",
     "text": [
      "Classification Report is is:\n",
      "              precision    recall  f1-score   support\n",
      "\n",
      "           0       0.78      0.17      0.28      1212\n",
      "           1       0.55      0.95      0.70      1271\n",
      "\n",
      "    accuracy                           0.57      2483\n",
      "   macro avg       0.66      0.56      0.49      2483\n",
      "weighted avg       0.66      0.57      0.49      2483\n",
      "\n"
     ]
    }
   ],
   "source": [
    "print(\"Classification Report is is:\")\n",
    "classification_report_results = classification_report(test_y, preds_test)\n",
    "# store report in results\n",
    "print(classification_report_results)"
   ]
  },
  {
   "cell_type": "code",
   "execution_count": 96,
   "metadata": {
    "colab": {
     "base_uri": "https://localhost:8080/"
    },
    "id": "1z6wg1xDI3YB",
    "outputId": "75ac5a12-84dc-44eb-9c5d-9526be5a9fe9"
   },
   "outputs": [
    {
     "name": "stdout",
     "output_type": "stream",
     "text": [
      "AUC on Test data is 0.5625793598242593\n"
     ]
    }
   ],
   "source": [
    "print(\"AUC on Test data is \" +str(roc_auc_score(test_y,preds_test)))"
   ]
  },
  {
   "cell_type": "code",
   "execution_count": 97,
   "metadata": {
    "colab": {
     "base_uri": "https://localhost:8080/"
    },
    "id": "Y6zanmqbI3YB",
    "outputId": "81478ee9-69d7-4faf-b328-20b476b3529b"
   },
   "outputs": [
    {
     "data": {
      "text/plain": [
       "{'accuracy': 57.188884414015305,\n",
       " 'precision': 0.5468890892696122,\n",
       " 'recall': 0.9543666404405979,\n",
       " 'f1': 0.6953281742619661}"
      ]
     },
     "execution_count": 97,
     "metadata": {},
     "output_type": "execute_result"
    }
   ],
   "source": [
    "# Get baseline results\n",
    "dt_results = calculate_results(y_true=test_y,\n",
    "                                     y_pred=preds_test)\n",
    "dt_results"
   ]
  },
  {
   "cell_type": "code",
   "execution_count": 98,
   "metadata": {
    "id": "1DRkLSfoI3YB"
   },
   "outputs": [],
   "source": [
    "model_results[\"Decision Tree Tuned\"] = dt_results"
   ]
  },
  {
   "cell_type": "code",
   "execution_count": 99,
   "metadata": {
    "colab": {
     "base_uri": "https://localhost:8080/"
    },
    "id": "34c_c4-VI3YB",
    "outputId": "ada4c806-31e3-40ed-d715-1fa8bd461ccb"
   },
   "outputs": [
    {
     "data": {
      "text/plain": [
       "{'BASELINE': {'accuracy': 48.81192106322996,\n",
       "  'precision': 0.0,\n",
       "  'recall': 0.0,\n",
       "  'f1': 0.0},\n",
       " 'Linear Regression': {'accuracy': 66.25050342327829,\n",
       "  'precision': 0.6616878267363704,\n",
       "  'recall': 0.6970889063729347,\n",
       "  'f1': 0.6789272030651341},\n",
       " 'Logistic Regression': {'accuracy': 66.25050342327829,\n",
       "  'precision': 0.6616878267363704,\n",
       "  'recall': 0.6970889063729347,\n",
       "  'f1': 0.6789272030651341},\n",
       " 'Decision Tree': {'accuracy': 58.840112766814336,\n",
       "  'precision': 0.5985748218527316,\n",
       "  'recall': 0.5948072383949646,\n",
       "  'f1': 0.5966850828729282},\n",
       " 'Decision Tree Tuned': {'accuracy': 57.188884414015305,\n",
       "  'precision': 0.5468890892696122,\n",
       "  'recall': 0.9543666404405979,\n",
       "  'f1': 0.6953281742619661}}"
      ]
     },
     "execution_count": 99,
     "metadata": {},
     "output_type": "execute_result"
    }
   ],
   "source": [
    "model_results"
   ]
  },
  {
   "cell_type": "code",
   "execution_count": null,
   "metadata": {
    "id": "uuGa7OiFJ9tF"
   },
   "outputs": [],
   "source": []
  },
  {
   "cell_type": "code",
   "execution_count": null,
   "metadata": {
    "id": "qcWKNn7EHj6B"
   },
   "outputs": [],
   "source": []
  },
  {
   "cell_type": "markdown",
   "metadata": {
    "id": "hLYoAGTCHkQE"
   },
   "source": [
    "c) Random Forest Classifier"
   ]
  },
  {
   "cell_type": "code",
   "execution_count": 120,
   "metadata": {
    "id": "5vVapDsYHXQL"
   },
   "outputs": [],
   "source": [
    "#creation of random forrest\n",
    "from sklearn.ensemble import RandomForestClassifier\n",
    "\n",
    "rf = RandomForestClassifier(random_state=1) #by default no of estimators=10\n",
    "rf.fit(X_train, y_train)\n",
    "\n",
    "#predictions on test data\n",
    "preds_test= rf.predict(X_test)"
   ]
  },
  {
   "cell_type": "code",
   "execution_count": 121,
   "metadata": {
    "colab": {
     "base_uri": "https://localhost:8080/"
    },
    "id": "6oVarMeeLFSB",
    "outputId": "3753cb43-fe6b-43bb-c09a-7b47735f44fb"
   },
   "outputs": [
    {
     "data": {
      "text/plain": [
       "0.6577181208053692"
      ]
     },
     "execution_count": 121,
     "metadata": {},
     "output_type": "execute_result"
    }
   ],
   "source": [
    "#f1 score on test set\n",
    "f1_score(y_test, preds_test)"
   ]
  },
  {
   "cell_type": "code",
   "execution_count": 122,
   "metadata": {
    "colab": {
     "base_uri": "https://localhost:8080/"
    },
    "id": "XrByvmJDLiWL",
    "outputId": "e1734ab4-6d92-4987-e594-62cc818258f1"
   },
   "outputs": [
    {
     "name": "stdout",
     "output_type": "stream",
     "text": [
      "Accuracy score is: 0.6508256141763995\n",
      "Precision score is: 0.6600633914421553\n",
      "Recall score is: 0.6553894571203777\n",
      "F1 score is: 0.6577181208053692\n"
     ]
    }
   ],
   "source": [
    "#accuracy,f1 on test data \n",
    "accuracy = accuracy_score(test_y, preds_test)\n",
    "precision = precision_score(test_y, preds_test)\n",
    "recall = recall_score(test_y, preds_test)\n",
    "f1 = f1_score(test_y, preds_test)\n",
    "\n",
    "print(f'Accuracy score is: {accuracy}')\n",
    "print(f'Precision score is: {precision}')\n",
    "print(f'Recall score is: {recall}')\n",
    "print(f'F1 score is: {f1}')"
   ]
  },
  {
   "cell_type": "code",
   "execution_count": 123,
   "metadata": {
    "colab": {
     "base_uri": "https://localhost:8080/"
    },
    "id": "-cr9Hw29LiWM",
    "outputId": "0679660a-9300-4fb2-d84f-a5a70e458db9"
   },
   "outputs": [
    {
     "name": "stdout",
     "output_type": "stream",
     "text": [
      "Confusion Matrix is:\n",
      "[[783 429]\n",
      " [438 833]]\n"
     ]
    }
   ],
   "source": [
    "print(\"Confusion Matrix is:\")\n",
    "print(confusion_matrix(test_y, preds_test))"
   ]
  },
  {
   "cell_type": "code",
   "execution_count": 124,
   "metadata": {
    "colab": {
     "base_uri": "https://localhost:8080/",
     "height": 302
    },
    "id": "Pl9APg3ZLiWM",
    "outputId": "0c3c5bc1-554a-4c3e-b518-96e099944419"
   },
   "outputs": [
    {
     "data": {
      "text/plain": [
       "<sklearn.metrics._plot.confusion_matrix.ConfusionMatrixDisplay at 0x7fdaaa8aed10>"
      ]
     },
     "execution_count": 124,
     "metadata": {},
     "output_type": "execute_result"
    },
    {
     "data": {
      "image/png": "[encoded data removed]",
      "text/plain": [
       "<Figure size 432x288 with 2 Axes>"
      ]
     },
     "metadata": {},
     "output_type": "display_data"
    }
   ],
   "source": [
    "cm = confusion_matrix(test_y, preds_test)\n",
    "cmd = ConfusionMatrixDisplay(cm)\n",
    "cmd.plot()"
   ]
  },
  {
   "cell_type": "code",
   "execution_count": 125,
   "metadata": {
    "colab": {
     "base_uri": "https://localhost:8080/",
     "height": 302
    },
    "id": "AKRWtMRzLiWM",
    "outputId": "26423a03-ae5d-4e57-fdfb-81f5e99a4497"
   },
   "outputs": [
    {
     "data": {
      "text/plain": [
       "<sklearn.metrics._plot.confusion_matrix.ConfusionMatrixDisplay at 0x7fdaaa192b90>"
      ]
     },
     "execution_count": 125,
     "metadata": {},
     "output_type": "execute_result"
    },
    {
     "data": {
      "image/png": "[encoded data removed]",
      "text/plain": [
       "<Figure size 432x288 with 2 Axes>"
      ]
     },
     "metadata": {},
     "output_type": "display_data"
    }
   ],
   "source": [
    "cmd = ConfusionMatrixDisplay(cm, display_labels=['Genuine','Fake'])\n",
    "cmd.plot()"
   ]
  },
  {
   "cell_type": "code",
   "execution_count": 126,
   "metadata": {
    "colab": {
     "base_uri": "https://localhost:8080/"
    },
    "id": "NEj-z_rYLiWM",
    "outputId": "7b72f04e-5bf5-4c51-9110-4b2ce5e89e73"
   },
   "outputs": [
    {
     "name": "stdout",
     "output_type": "stream",
     "text": [
      "Verify our results using Sklearn confusion matrix values\n",
      "FN: 438\n",
      "TP: 833\n",
      "TN: 783\n",
      "FP: 429\n"
     ]
    }
   ],
   "source": [
    "# Verify the results\n",
    "sk_tn, sk_fp, sk_fn, sk_tp = confusion_matrix(test_y, preds_test).ravel()\n",
    "print(\"Verify our results using Sklearn confusion matrix values\\n\"\n",
    "      \"FN: {0}\\n\"\n",
    "      \"TP: {1}\\n\"\n",
    "      \"TN: {2}\\n\"\n",
    "      \"FP: {3}\".format(sk_fn, sk_tp, sk_tn, sk_fp,))"
   ]
  },
  {
   "cell_type": "code",
   "execution_count": 127,
   "metadata": {
    "colab": {
     "base_uri": "https://localhost:8080/"
    },
    "id": "dDgYcie6LiWM",
    "outputId": "52e59976-8cbb-4cfc-e176-a79ec7d01835"
   },
   "outputs": [
    {
     "name": "stdout",
     "output_type": "stream",
     "text": [
      "Classification Report is is:\n",
      "              precision    recall  f1-score   support\n",
      "\n",
      "           0       0.64      0.65      0.64      1212\n",
      "           1       0.66      0.66      0.66      1271\n",
      "\n",
      "    accuracy                           0.65      2483\n",
      "   macro avg       0.65      0.65      0.65      2483\n",
      "weighted avg       0.65      0.65      0.65      2483\n",
      "\n"
     ]
    }
   ],
   "source": [
    "print(\"Classification Report is is:\")\n",
    "classification_report_results = classification_report(test_y, preds_test)\n",
    "# store report in results\n",
    "print(classification_report_results)"
   ]
  },
  {
   "cell_type": "code",
   "execution_count": 128,
   "metadata": {
    "colab": {
     "base_uri": "https://localhost:8080/"
    },
    "id": "t0NgMzZMLiWN",
    "outputId": "b7c2144f-06a6-4e78-dbcf-709de0e00003"
   },
   "outputs": [
    {
     "name": "stdout",
     "output_type": "stream",
     "text": [
      "AUC on Test data is 0.6507145305403869\n"
     ]
    }
   ],
   "source": [
    "print(\"AUC on Test data is \" +str(roc_auc_score(test_y,preds_test)))"
   ]
  },
  {
   "cell_type": "code",
   "execution_count": 129,
   "metadata": {
    "colab": {
     "base_uri": "https://localhost:8080/"
    },
    "id": "zLhmQHjhLiWN",
    "outputId": "d3683fc7-f057-40c6-db8b-09ff9668f4f1"
   },
   "outputs": [
    {
     "data": {
      "text/plain": [
       "{'accuracy': 65.08256141763995,\n",
       " 'precision': 0.6600633914421553,\n",
       " 'recall': 0.6553894571203777,\n",
       " 'f1': 0.6577181208053692}"
      ]
     },
     "execution_count": 129,
     "metadata": {},
     "output_type": "execute_result"
    }
   ],
   "source": [
    "# Get baseline results\n",
    "rf_results = calculate_results(y_true=test_y,\n",
    "                                     y_pred=preds_test)\n",
    "rf_results"
   ]
  },
  {
   "cell_type": "code",
   "execution_count": 130,
   "metadata": {
    "id": "Q_3pdCNuLiWN"
   },
   "outputs": [],
   "source": [
    "model_results[\"Random Forest\"] = rf_results"
   ]
  },
  {
   "cell_type": "code",
   "execution_count": 131,
   "metadata": {
    "colab": {
     "base_uri": "https://localhost:8080/"
    },
    "id": "hTnkEBxsLiWN",
    "outputId": "0f152fb7-be1e-4483-c95e-cb09e7b30b1b"
   },
   "outputs": [
    {
     "data": {
      "text/plain": [
       "{'BASELINE': {'accuracy': 48.81192106322996,\n",
       "  'precision': 0.0,\n",
       "  'recall': 0.0,\n",
       "  'f1': 0.0},\n",
       " 'Linear Regression': {'accuracy': 66.25050342327829,\n",
       "  'precision': 0.6616878267363704,\n",
       "  'recall': 0.6970889063729347,\n",
       "  'f1': 0.6789272030651341},\n",
       " 'Logistic Regression': {'accuracy': 66.25050342327829,\n",
       "  'precision': 0.6616878267363704,\n",
       "  'recall': 0.6970889063729347,\n",
       "  'f1': 0.6789272030651341},\n",
       " 'Decision Tree': {'accuracy': 58.840112766814336,\n",
       "  'precision': 0.5985748218527316,\n",
       "  'recall': 0.5948072383949646,\n",
       "  'f1': 0.5966850828729282},\n",
       " 'Decision Tree Tuned': {'accuracy': 58.477648006443815,\n",
       "  'precision': 0.553763440860215,\n",
       "  'recall': 0.9724626278520849,\n",
       "  'f1': 0.7056808449900085},\n",
       " 'Random Forest Tuned': {'accuracy': 58.477648006443815,\n",
       "  'precision': 0.553763440860215,\n",
       "  'recall': 0.9724626278520849,\n",
       "  'f1': 0.7056808449900085},\n",
       " 'Random Forest': {'accuracy': 65.08256141763995,\n",
       "  'precision': 0.6600633914421553,\n",
       "  'recall': 0.6553894571203777,\n",
       "  'f1': 0.6577181208053692}}"
      ]
     },
     "execution_count": 131,
     "metadata": {},
     "output_type": "execute_result"
    }
   ],
   "source": [
    "model_results"
   ]
  },
  {
   "cell_type": "code",
   "execution_count": null,
   "metadata": {
    "id": "40E5zkwwLiWN"
   },
   "outputs": [],
   "source": []
  },
  {
   "cell_type": "code",
   "execution_count": 132,
   "metadata": {
    "colab": {
     "base_uri": "https://localhost:8080/"
    },
    "id": "fBVxDxyvHXSg",
    "outputId": "ca4919ee-45c4-46e3-ef9f-cbf7eada1703"
   },
   "outputs": [
    {
     "name": "stdout",
     "output_type": "stream",
     "text": [
      "Parameters currently in use:\n",
      "\n",
      "{'bootstrap': True, 'ccp_alpha': 0.0, 'class_weight': None, 'criterion': 'gini', 'max_depth': None, 'max_features': 'auto', 'max_leaf_nodes': None, 'max_samples': None, 'min_impurity_decrease': 0.0, 'min_samples_leaf': 1, 'min_samples_split': 2, 'min_weight_fraction_leaf': 0.0, 'n_estimators': 100, 'n_jobs': None, 'oob_score': False, 'random_state': 1, 'verbose': 0, 'warm_start': False}\n"
     ]
    }
   ],
   "source": [
    "# Look at parameters used by our current forest\n",
    "print('Parameters currently in use:\\n')\n",
    "print(rf.get_params())"
   ]
  },
  {
   "cell_type": "code",
   "execution_count": 103,
   "metadata": {
    "colab": {
     "base_uri": "https://localhost:8080/"
    },
    "id": "lLZSGH8mHR3q",
    "outputId": "dd43018e-1162-4513-aed1-53fee885095a"
   },
   "outputs": [
    {
     "data": {
      "text/plain": [
       "{'min_samples_split': 40,\n",
       " 'max_leaf_nodes': 128,\n",
       " 'max_features': 0.4,\n",
       " 'max_depth': 12,\n",
       " 'criterion': 'gini',\n",
       " 'class_weight': {0: 1, 1: 3}}"
      ]
     },
     "execution_count": 103,
     "metadata": {},
     "output_type": "execute_result"
    }
   ],
   "source": [
    "from sklearn.model_selection import RandomizedSearchCV\n",
    "\n",
    "hyperparam_combs = {\n",
    "    'max_depth': [4, 6, 8, 10, 12],\n",
    "    'criterion': ['gini', 'entropy'],\n",
    "    'min_samples_split': [2, 10, 20, 30, 40],\n",
    "    'max_features': [0.2, 0.4, 0.6, 0.8, 1],\n",
    "    'max_leaf_nodes': [8, 16, 32, 64, 128],\n",
    "    'class_weight': [{0: 1, 1: 1}, {0: 1, 1: 2}, {0: 1, 1: 3}, {0: 1, 1: 4}, {0: 1, 1: 5}]\n",
    "}\n",
    "\n",
    "rf2 = RandomizedSearchCV(RandomForestClassifier(),\n",
    "                         hyperparam_combs,\n",
    "                         scoring='f1',\n",
    "                         random_state=1,\n",
    "                         n_iter=30,n_jobs=-1)\n",
    "\n",
    "search = rf2.fit(X_train, y_train)\n",
    "\n",
    "search.best_params_"
   ]
  },
  {
   "cell_type": "code",
   "execution_count": 104,
   "metadata": {
    "colab": {
     "base_uri": "https://localhost:8080/"
    },
    "id": "vPC0V0tjH0Wp",
    "outputId": "5be437ef-aea8-44f7-b379-ecac21398fd8"
   },
   "outputs": [
    {
     "data": {
      "text/plain": [
       "{'min_samples_split': 40,\n",
       " 'max_leaf_nodes': 128,\n",
       " 'max_features': 0.4,\n",
       " 'max_depth': 12,\n",
       " 'criterion': 'gini',\n",
       " 'class_weight': {0: 1, 1: 3}}"
      ]
     },
     "execution_count": 104,
     "metadata": {},
     "output_type": "execute_result"
    }
   ],
   "source": [
    "optimal_params = search.best_params_\n",
    "optimal_params"
   ]
  },
  {
   "cell_type": "code",
   "execution_count": 107,
   "metadata": {
    "id": "9KNYT8gIICdM"
   },
   "outputs": [],
   "source": [
    "rf2 = RandomForestClassifier(random_state = 1, **optimal_params)\n",
    "_ = rf2.fit(X_train, y_train)\n",
    "\n",
    "#predictions on test data\n",
    "preds_test= rf2.predict(X_test)\n",
    "\n"
   ]
  },
  {
   "cell_type": "code",
   "execution_count": 108,
   "metadata": {
    "colab": {
     "base_uri": "https://localhost:8080/"
    },
    "id": "JWbyxI0FIClO",
    "outputId": "948152f9-56b2-4564-88f1-5820eb1137a9"
   },
   "outputs": [
    {
     "data": {
      "text/plain": [
       "0.7056808449900085"
      ]
     },
     "execution_count": 108,
     "metadata": {},
     "output_type": "execute_result"
    }
   ],
   "source": [
    "#f1 score on test set\n",
    "f1_score(y_test, preds_test)"
   ]
  },
  {
   "cell_type": "code",
   "execution_count": 109,
   "metadata": {
    "colab": {
     "base_uri": "https://localhost:8080/"
    },
    "id": "Xug8tR9tLedR",
    "outputId": "841a37c8-0378-4ed1-8f16-57104a9abfa2"
   },
   "outputs": [
    {
     "name": "stdout",
     "output_type": "stream",
     "text": [
      "Accuracy score is: 0.5847764800644382\n",
      "Precision score is: 0.553763440860215\n",
      "Recall score is: 0.9724626278520849\n",
      "F1 score is: 0.7056808449900085\n"
     ]
    }
   ],
   "source": [
    "#accuracy,f1 on test data \n",
    "accuracy = accuracy_score(test_y, preds_test)\n",
    "precision = precision_score(test_y, preds_test)\n",
    "recall = recall_score(test_y, preds_test)\n",
    "f1 = f1_score(test_y, preds_test)\n",
    "\n",
    "print(f'Accuracy score is: {accuracy}')\n",
    "print(f'Precision score is: {precision}')\n",
    "print(f'Recall score is: {recall}')\n",
    "print(f'F1 score is: {f1}')"
   ]
  },
  {
   "cell_type": "code",
   "execution_count": 110,
   "metadata": {
    "colab": {
     "base_uri": "https://localhost:8080/"
    },
    "id": "Ei6fa6S2LedS",
    "outputId": "0eb4a10f-fa00-4034-a423-d6c04a660c1b"
   },
   "outputs": [
    {
     "name": "stdout",
     "output_type": "stream",
     "text": [
      "Confusion Matrix is:\n",
      "[[ 216  996]\n",
      " [  35 1236]]\n"
     ]
    }
   ],
   "source": [
    "print(\"Confusion Matrix is:\")\n",
    "print(confusion_matrix(test_y, preds_test))"
   ]
  },
  {
   "cell_type": "code",
   "execution_count": 111,
   "metadata": {
    "colab": {
     "base_uri": "https://localhost:8080/",
     "height": 302
    },
    "id": "UFOHdAQfLedS",
    "outputId": "34cad558-a0e4-401c-8df2-82279c942236"
   },
   "outputs": [
    {
     "data": {
      "text/plain": [
       "<sklearn.metrics._plot.confusion_matrix.ConfusionMatrixDisplay at 0x7fdaaa931d50>"
      ]
     },
     "execution_count": 111,
     "metadata": {},
     "output_type": "execute_result"
    },
    {
     "data": {
      "image/png": "[encoded data removed]",
      "text/plain": [
       "<Figure size 432x288 with 2 Axes>"
      ]
     },
     "metadata": {},
     "output_type": "display_data"
    }
   ],
   "source": [
    "cm = confusion_matrix(test_y, preds_test)\n",
    "cmd = ConfusionMatrixDisplay(cm)\n",
    "cmd.plot()"
   ]
  },
  {
   "cell_type": "code",
   "execution_count": null,
   "metadata": {
    "colab": {
     "base_uri": "https://localhost:8080/",
     "height": 303
    },
    "id": "wj-Qb1oxLedS",
    "outputId": "22935884-dcef-4398-fee8-8a8716ebedaa"
   },
   "outputs": [
    {
     "data": {
      "text/plain": [
       "<sklearn.metrics._plot.confusion_matrix.ConfusionMatrixDisplay at 0x7fdaabdac150>"
      ]
     },
     "execution_count": 93,
     "metadata": {},
     "output_type": "execute_result"
    },
    {
     "data": {
      "image/png": "[encoded data removed]",
      "text/plain": [
       "<Figure size 432x288 with 2 Axes>"
      ]
     },
     "metadata": {},
     "output_type": "display_data"
    }
   ],
   "source": [
    "cmd = ConfusionMatrixDisplay(cm, display_labels=['Genuine','Fake'])\n",
    "cmd.plot()"
   ]
  },
  {
   "cell_type": "code",
   "execution_count": 112,
   "metadata": {
    "colab": {
     "base_uri": "https://localhost:8080/"
    },
    "id": "K4WfoXD9LedS",
    "outputId": "5fc768c1-3e42-4d35-95c0-cc3a986519d9"
   },
   "outputs": [
    {
     "name": "stdout",
     "output_type": "stream",
     "text": [
      "Verify our results using Sklearn confusion matrix values\n",
      "FN: 35\n",
      "TP: 1236\n",
      "TN: 216\n",
      "FP: 996\n"
     ]
    }
   ],
   "source": [
    "# Verify the results\n",
    "sk_tn, sk_fp, sk_fn, sk_tp = confusion_matrix(test_y, preds_test).ravel()\n",
    "print(\"Verify our results using Sklearn confusion matrix values\\n\"\n",
    "      \"FN: {0}\\n\"\n",
    "      \"TP: {1}\\n\"\n",
    "      \"TN: {2}\\n\"\n",
    "      \"FP: {3}\".format(sk_fn, sk_tp, sk_tn, sk_fp,))"
   ]
  },
  {
   "cell_type": "code",
   "execution_count": 113,
   "metadata": {
    "colab": {
     "base_uri": "https://localhost:8080/"
    },
    "id": "44608odILedS",
    "outputId": "49fcf3c5-ce92-404b-fe65-986533179620"
   },
   "outputs": [
    {
     "name": "stdout",
     "output_type": "stream",
     "text": [
      "Classification Report is is:\n",
      "              precision    recall  f1-score   support\n",
      "\n",
      "           0       0.86      0.18      0.30      1212\n",
      "           1       0.55      0.97      0.71      1271\n",
      "\n",
      "    accuracy                           0.58      2483\n",
      "   macro avg       0.71      0.58      0.50      2483\n",
      "weighted avg       0.70      0.58      0.51      2483\n",
      "\n"
     ]
    }
   ],
   "source": [
    "print(\"Classification Report is is:\")\n",
    "classification_report_results = classification_report(test_y, preds_test)\n",
    "# store report in results\n",
    "print(classification_report_results)"
   ]
  },
  {
   "cell_type": "code",
   "execution_count": 114,
   "metadata": {
    "colab": {
     "base_uri": "https://localhost:8080/"
    },
    "id": "HJizE7GuLedS",
    "outputId": "91091571-b3a5-44e1-9372-cc53eb4b4273"
   },
   "outputs": [
    {
     "name": "stdout",
     "output_type": "stream",
     "text": [
      "AUC on Test data is 0.5753402248171315\n"
     ]
    }
   ],
   "source": [
    "print(\"AUC on Test data is \" +str(roc_auc_score(test_y,preds_test)))"
   ]
  },
  {
   "cell_type": "code",
   "execution_count": 117,
   "metadata": {
    "colab": {
     "base_uri": "https://localhost:8080/"
    },
    "id": "6M51ewPfLedS",
    "outputId": "6c2ec1bb-7926-4fdb-dc2f-0221bf696e2f"
   },
   "outputs": [
    {
     "data": {
      "text/plain": [
       "{'accuracy': 58.477648006443815,\n",
       " 'precision': 0.553763440860215,\n",
       " 'recall': 0.9724626278520849,\n",
       " 'f1': 0.7056808449900085}"
      ]
     },
     "execution_count": 117,
     "metadata": {},
     "output_type": "execute_result"
    }
   ],
   "source": [
    "# Get baseline results\n",
    "rf_results = calculate_results(y_true=test_y,\n",
    "                                     y_pred=preds_test)\n",
    "rf_results"
   ]
  },
  {
   "cell_type": "code",
   "execution_count": 118,
   "metadata": {
    "id": "6qfJloVSLedS"
   },
   "outputs": [],
   "source": [
    "model_results[\"Random Forest Tuned\"] = rf_results"
   ]
  },
  {
   "cell_type": "code",
   "execution_count": 119,
   "metadata": {
    "colab": {
     "base_uri": "https://localhost:8080/"
    },
    "id": "20KLawVWLedS",
    "outputId": "36df0321-f6e6-49f7-c80c-c2ec33742e38"
   },
   "outputs": [
    {
     "data": {
      "text/plain": [
       "{'BASELINE': {'accuracy': 48.81192106322996,\n",
       "  'precision': 0.0,\n",
       "  'recall': 0.0,\n",
       "  'f1': 0.0},\n",
       " 'Linear Regression': {'accuracy': 66.25050342327829,\n",
       "  'precision': 0.6616878267363704,\n",
       "  'recall': 0.6970889063729347,\n",
       "  'f1': 0.6789272030651341},\n",
       " 'Logistic Regression': {'accuracy': 66.25050342327829,\n",
       "  'precision': 0.6616878267363704,\n",
       "  'recall': 0.6970889063729347,\n",
       "  'f1': 0.6789272030651341},\n",
       " 'Decision Tree': {'accuracy': 58.840112766814336,\n",
       "  'precision': 0.5985748218527316,\n",
       "  'recall': 0.5948072383949646,\n",
       "  'f1': 0.5966850828729282},\n",
       " 'Decision Tree Tuned': {'accuracy': 58.477648006443815,\n",
       "  'precision': 0.553763440860215,\n",
       "  'recall': 0.9724626278520849,\n",
       "  'f1': 0.7056808449900085},\n",
       " 'Random Forest Tuned': {'accuracy': 58.477648006443815,\n",
       "  'precision': 0.553763440860215,\n",
       "  'recall': 0.9724626278520849,\n",
       "  'f1': 0.7056808449900085}}"
      ]
     },
     "execution_count": 119,
     "metadata": {},
     "output_type": "execute_result"
    }
   ],
   "source": [
    "model_results"
   ]
  },
  {
   "cell_type": "code",
   "execution_count": null,
   "metadata": {
    "id": "4ouIc_9RLXxx"
   },
   "outputs": [],
   "source": []
  },
  {
   "cell_type": "code",
   "execution_count": 139,
   "metadata": {
    "colab": {
     "base_uri": "https://localhost:8080/",
     "height": 70
    },
    "id": "XJe7gHFeH0Zf",
    "outputId": "d9fdf1a3-5115-4270-9b23-46c26e57570d"
   },
   "outputs": [
    {
     "data": {
      "application/vnd.google.colaboratory.intrinsic+json": {
       "type": "string"
      },
      "text/plain": [
       "'\\n#Visualizing Feature Importance\\ndef plot_feature_importances(model):\\n    n_features = X_train.shape[1]\\n    plt.figure(figsize=(12,12))\\n    plt.barh(range(n_features), model.feature_importances_, align=\\'center\\') \\n    plt.yticks(np.arange(n_features), trn[features].columns.values) #trn.columns has list of all columns in our training data\\n    plt.xlabel(\"Feature importance\")\\n    plt.ylabel(\"Feature\")\\n\\nplot_feature_importances(rf2)    \\n'"
      ]
     },
     "execution_count": 139,
     "metadata": {},
     "output_type": "execute_result"
    }
   ],
   "source": [
    "'''\n",
    "#Visualizing Feature Importance\n",
    "def plot_feature_importances(model):\n",
    "    n_features = X_train.shape[1]\n",
    "    plt.figure(figsize=(12,12))\n",
    "    plt.barh(range(n_features), model.feature_importances_, align='center') \n",
    "    plt.yticks(np.arange(n_features), trn[features].columns.values) #trn.columns has list of all columns in our training data\n",
    "    plt.xlabel(\"Feature importance\")\n",
    "    plt.ylabel(\"Feature\")\n",
    "\n",
    "plot_feature_importances(rf2)    \n",
    "'''"
   ]
  },
  {
   "cell_type": "code",
   "execution_count": null,
   "metadata": {
    "id": "nSbBSnu8H0bl"
   },
   "outputs": [],
   "source": []
  },
  {
   "cell_type": "code",
   "execution_count": null,
   "metadata": {
    "id": "CpCNsA7sH0d2"
   },
   "outputs": [],
   "source": []
  },
  {
   "cell_type": "markdown",
   "metadata": {
    "id": "e85_B7bdPvt6"
   },
   "source": [
    "### d) Support Vector Machines"
   ]
  },
  {
   "cell_type": "code",
   "execution_count": 46,
   "metadata": {
    "id": "LLtXkbYhoLSx"
   },
   "outputs": [],
   "source": [
    "from sklearn.svm import SVC\n",
    "\n",
    "svc = SVC(random_state = 1)\n",
    "_ = svc.fit(X_train, y_train)\n",
    "\n",
    "#predictions on test data\n",
    "preds_test= svc.predict(X_test)"
   ]
  },
  {
   "cell_type": "code",
   "execution_count": 47,
   "metadata": {
    "colab": {
     "base_uri": "https://localhost:8080/"
    },
    "id": "4D6IZ89ipfb0",
    "outputId": "9f12bd8e-5fe4-4f91-a3b2-5dd2380a5db1"
   },
   "outputs": [
    {
     "data": {
      "text/plain": [
       "0.6804979253112035"
      ]
     },
     "execution_count": 47,
     "metadata": {},
     "output_type": "execute_result"
    }
   ],
   "source": [
    "#f1 score on test set\n",
    "f1_score(y_test, preds_test)"
   ]
  },
  {
   "cell_type": "code",
   "execution_count": 48,
   "metadata": {
    "colab": {
     "base_uri": "https://localhost:8080/"
    },
    "id": "BQdPeSOepfb1",
    "outputId": "6dfbd637-af80-4be7-93aa-c8a9669677dd"
   },
   "outputs": [
    {
     "name": "stdout",
     "output_type": "stream",
     "text": [
      "Accuracy score is: 0.6588803866290778\n",
      "Precision score is: 0.6536231884057971\n",
      "Recall score is: 0.7096774193548387\n",
      "F1 score is: 0.6804979253112035\n"
     ]
    }
   ],
   "source": [
    "#accuracy,f1 on test data \n",
    "accuracy = accuracy_score(test_y, preds_test)\n",
    "precision = precision_score(test_y, preds_test)\n",
    "recall = recall_score(test_y, preds_test)\n",
    "f1 = f1_score(test_y, preds_test)\n",
    "\n",
    "print(f'Accuracy score is: {accuracy}')\n",
    "print(f'Precision score is: {precision}')\n",
    "print(f'Recall score is: {recall}')\n",
    "print(f'F1 score is: {f1}')"
   ]
  },
  {
   "cell_type": "code",
   "execution_count": 49,
   "metadata": {
    "colab": {
     "base_uri": "https://localhost:8080/"
    },
    "id": "kbOSxlJzpfb1",
    "outputId": "bf139370-d7fe-4957-9889-0f19a065f786"
   },
   "outputs": [
    {
     "name": "stdout",
     "output_type": "stream",
     "text": [
      "Confusion Matrix is:\n",
      "[[734 478]\n",
      " [369 902]]\n"
     ]
    }
   ],
   "source": [
    "print(\"Confusion Matrix is:\")\n",
    "print(confusion_matrix(test_y, preds_test))"
   ]
  },
  {
   "cell_type": "code",
   "execution_count": 50,
   "metadata": {
    "colab": {
     "base_uri": "https://localhost:8080/",
     "height": 305
    },
    "id": "lQXQBj2Dpfb1",
    "outputId": "ddbe4e37-afd1-45a8-a7f4-6361d4997e0b"
   },
   "outputs": [
    {
     "data": {
      "text/plain": [
       "<sklearn.metrics._plot.confusion_matrix.ConfusionMatrixDisplay at 0x7fabe7470ad0>"
      ]
     },
     "execution_count": 50,
     "metadata": {},
     "output_type": "execute_result"
    },
    {
     "data": {
      "image/png": "[encoded data removed]",
      "text/plain": [
       "<Figure size 432x288 with 2 Axes>"
      ]
     },
     "metadata": {},
     "output_type": "display_data"
    }
   ],
   "source": [
    "cm = confusion_matrix(test_y, preds_test)\n",
    "cmd = ConfusionMatrixDisplay(cm)\n",
    "cmd.plot()"
   ]
  },
  {
   "cell_type": "code",
   "execution_count": 51,
   "metadata": {
    "colab": {
     "base_uri": "https://localhost:8080/",
     "height": 305
    },
    "id": "XnsjSJPKpfb1",
    "outputId": "bdd1e3b3-e651-4346-c1ae-969d7d70b085"
   },
   "outputs": [
    {
     "data": {
      "text/plain": [
       "<sklearn.metrics._plot.confusion_matrix.ConfusionMatrixDisplay at 0x7fabe7470110>"
      ]
     },
     "execution_count": 51,
     "metadata": {},
     "output_type": "execute_result"
    },
    {
     "data": {
      "image/png": "[encoded data removed]",
      "text/plain": [
       "<Figure size 432x288 with 2 Axes>"
      ]
     },
     "metadata": {},
     "output_type": "display_data"
    }
   ],
   "source": [
    "cmd = ConfusionMatrixDisplay(cm, display_labels=['Genuine','Fake'])\n",
    "cmd.plot()"
   ]
  },
  {
   "cell_type": "code",
   "execution_count": 52,
   "metadata": {
    "colab": {
     "base_uri": "https://localhost:8080/"
    },
    "id": "u6r8Q8yJpfb1",
    "outputId": "93501529-4e90-483b-9042-1246e971d814"
   },
   "outputs": [
    {
     "name": "stdout",
     "output_type": "stream",
     "text": [
      "Verify our results using Sklearn confusion matrix values\n",
      "FN: 369\n",
      "TP: 902\n",
      "TN: 734\n",
      "FP: 478\n"
     ]
    }
   ],
   "source": [
    "# Verify the results\n",
    "sk_tn, sk_fp, sk_fn, sk_tp = confusion_matrix(test_y, preds_test).ravel()\n",
    "print(\"Verify our results using Sklearn confusion matrix values\\n\"\n",
    "      \"FN: {0}\\n\"\n",
    "      \"TP: {1}\\n\"\n",
    "      \"TN: {2}\\n\"\n",
    "      \"FP: {3}\".format(sk_fn, sk_tp, sk_tn, sk_fp,))"
   ]
  },
  {
   "cell_type": "code",
   "execution_count": 53,
   "metadata": {
    "colab": {
     "base_uri": "https://localhost:8080/"
    },
    "id": "jSP-E85Epfb1",
    "outputId": "6a341e43-470d-4846-dbcf-8366fa223d34"
   },
   "outputs": [
    {
     "name": "stdout",
     "output_type": "stream",
     "text": [
      "Classification Report is is:\n",
      "              precision    recall  f1-score   support\n",
      "\n",
      "           0       0.67      0.61      0.63      1212\n",
      "           1       0.65      0.71      0.68      1271\n",
      "\n",
      "    accuracy                           0.66      2483\n",
      "   macro avg       0.66      0.66      0.66      2483\n",
      "weighted avg       0.66      0.66      0.66      2483\n",
      "\n"
     ]
    }
   ],
   "source": [
    "print(\"Classification Report is is:\")\n",
    "classification_report_results = classification_report(test_y, preds_test)\n",
    "# store report in results\n",
    "print(classification_report_results)"
   ]
  },
  {
   "cell_type": "code",
   "execution_count": 54,
   "metadata": {
    "colab": {
     "base_uri": "https://localhost:8080/"
    },
    "id": "dSlAUevapfb1",
    "outputId": "a65a0ff9-4a00-46b0-b6ce-9209acdc9ebf"
   },
   "outputs": [
    {
     "name": "stdout",
     "output_type": "stream",
     "text": [
      "AUC on Test data is 0.6576439902054722\n"
     ]
    }
   ],
   "source": [
    "print(\"AUC on Test data is \" +str(roc_auc_score(test_y,preds_test)))"
   ]
  },
  {
   "cell_type": "code",
   "execution_count": 55,
   "metadata": {
    "colab": {
     "base_uri": "https://localhost:8080/"
    },
    "id": "NPxV8GNdpfb1",
    "outputId": "fd0fb397-789a-4721-d2b5-df1257ef6c75"
   },
   "outputs": [
    {
     "data": {
      "text/plain": [
       "{'accuracy': 65.88803866290777,\n",
       " 'precision': 0.6536231884057971,\n",
       " 'recall': 0.7096774193548387,\n",
       " 'f1': 0.6804979253112035}"
      ]
     },
     "execution_count": 55,
     "metadata": {},
     "output_type": "execute_result"
    }
   ],
   "source": [
    "svc_results = calculate_results(y_true=test_y,\n",
    "                                     y_pred=preds_test)\n",
    "svc_results"
   ]
  },
  {
   "cell_type": "code",
   "execution_count": 56,
   "metadata": {
    "id": "He8xj6s2pfb1"
   },
   "outputs": [],
   "source": [
    "model_results[\"SVC\"] = svc_results"
   ]
  },
  {
   "cell_type": "code",
   "execution_count": 152,
   "metadata": {
    "colab": {
     "base_uri": "https://localhost:8080/"
    },
    "id": "-3PfV8wbpfb1",
    "outputId": "39c8e110-54f5-4e5e-8c4a-1c70be254971"
   },
   "outputs": [
    {
     "data": {
      "text/plain": [
       "{'BASELINE': {'accuracy': 48.81192106322996,\n",
       "  'precision': 0.0,\n",
       "  'recall': 0.0,\n",
       "  'f1': 0.0},\n",
       " 'Linear Regression': {'accuracy': 66.25050342327829,\n",
       "  'precision': 0.6616878267363704,\n",
       "  'recall': 0.6970889063729347,\n",
       "  'f1': 0.6789272030651341},\n",
       " 'Logistic Regression': {'accuracy': 66.25050342327829,\n",
       "  'precision': 0.6616878267363704,\n",
       "  'recall': 0.6970889063729347,\n",
       "  'f1': 0.6789272030651341},\n",
       " 'Decision Tree': {'accuracy': 58.840112766814336,\n",
       "  'precision': 0.5985748218527316,\n",
       "  'recall': 0.5948072383949646,\n",
       "  'f1': 0.5966850828729282},\n",
       " 'Decision Tree Tuned': {'accuracy': 58.477648006443815,\n",
       "  'precision': 0.553763440860215,\n",
       "  'recall': 0.9724626278520849,\n",
       "  'f1': 0.7056808449900085},\n",
       " 'Random Forest Tuned': {'accuracy': 58.477648006443815,\n",
       "  'precision': 0.553763440860215,\n",
       "  'recall': 0.9724626278520849,\n",
       "  'f1': 0.7056808449900085},\n",
       " 'Random Forest': {'accuracy': 65.08256141763995,\n",
       "  'precision': 0.6600633914421553,\n",
       "  'recall': 0.6553894571203777,\n",
       "  'f1': 0.6577181208053692},\n",
       " 'SVC': {'accuracy': 65.88803866290777,\n",
       "  'precision': 0.6536231884057971,\n",
       "  'recall': 0.7096774193548387,\n",
       "  'f1': 0.6804979253112035}}"
      ]
     },
     "execution_count": 152,
     "metadata": {},
     "output_type": "execute_result"
    }
   ],
   "source": [
    "model_results"
   ]
  },
  {
   "cell_type": "code",
   "execution_count": null,
   "metadata": {
    "id": "3t2arEH0psNF"
   },
   "outputs": [],
   "source": []
  },
  {
   "cell_type": "code",
   "execution_count": 57,
   "metadata": {
    "colab": {
     "base_uri": "https://localhost:8080/"
    },
    "id": "OGf6t1Zfqovs",
    "outputId": "f65571f6-0347-4c8e-ee17-d88e5cf08c58"
   },
   "outputs": [
    {
     "data": {
      "text/plain": [
       "{'C': 1.0,\n",
       " 'break_ties': False,\n",
       " 'cache_size': 200,\n",
       " 'class_weight': None,\n",
       " 'coef0': 0.0,\n",
       " 'decision_function_shape': 'ovr',\n",
       " 'degree': 3,\n",
       " 'gamma': 'scale',\n",
       " 'kernel': 'rbf',\n",
       " 'max_iter': -1,\n",
       " 'probability': False,\n",
       " 'random_state': 1,\n",
       " 'shrinking': True,\n",
       " 'tol': 0.001,\n",
       " 'verbose': False}"
      ]
     },
     "execution_count": 57,
     "metadata": {},
     "output_type": "execute_result"
    }
   ],
   "source": [
    "#current parameters\n",
    "svc.get_params()"
   ]
  },
  {
   "cell_type": "code",
   "execution_count": 58,
   "metadata": {
    "id": "4f2iLFpyqueO"
   },
   "outputs": [],
   "source": [
    "#Now we will do tuning of the hyper-parameters"
   ]
  },
  {
   "cell_type": "code",
   "execution_count": 59,
   "metadata": {
    "colab": {
     "base_uri": "https://localhost:8080/"
    },
    "id": "-oNnwlV3oc58",
    "outputId": "c67db6f6-cd08-4deb-b9fa-d1d0b85b3eff"
   },
   "outputs": [
    {
     "name": "stdout",
     "output_type": "stream",
     "text": [
      "The list of values for C are [1.e-10 1.e-09 1.e-08 1.e-07 1.e-06 1.e-05 1.e-04 1.e-03 1.e-02 1.e-01\n",
      " 1.e+00 1.e+01 1.e+02 1.e+03 1.e+04 1.e+05 1.e+06 1.e+07 1.e+08 1.e+09\n",
      " 1.e+10]\n",
      "The list of values for gamma are [1.e-10 1.e-09 1.e-08 1.e-07 1.e-06 1.e-05 1.e-04 1.e-03 1.e-02 1.e-01\n",
      " 1.e+00 1.e+01 1.e+02 1.e+03 1.e+04 1.e+05 1.e+06 1.e+07 1.e+08 1.e+09\n",
      " 1.e+10]\n"
     ]
    }
   ],
   "source": [
    "# List of C values\n",
    "C_range = np.logspace(-10, 10, 21)\n",
    "print(f'The list of values for C are {C_range}')\n",
    "\n",
    "# List of gamma values\n",
    "gamma_range = np.logspace(-10, 10, 21)\n",
    "print(f'The list of values for gamma are {gamma_range}')"
   ]
  },
  {
   "cell_type": "code",
   "execution_count": null,
   "metadata": {
    "id": "XASw2YLkooyr"
   },
   "outputs": [],
   "source": [
    "from sklearn.model_selection import RandomizedSearchCV\n",
    "\n",
    "# Define the search space\n",
    "\n",
    "hyperparam_combs = {\n",
    "    \n",
    "    # Regularization parameter.\n",
    "    \"C\": C_range,\n",
    "    # Kernel type\n",
    "    \"kernel\": ['rbf', 'poly'],\n",
    "    # Gamma is the Kernel coefficient for ‘rbf’, ‘poly’ and ‘sigmoid’.\n",
    "    \"gamma\": gamma_range.tolist()+['scale', 'auto']\n",
    "}\n",
    "\n",
    "\n",
    "svc2 = RandomizedSearchCV(SVC(),\n",
    "                         hyperparam_combs,\n",
    "                         scoring='f1',\n",
    "                         random_state=1,\n",
    "                         n_iter=10)\n",
    "\n",
    "search = svc2.fit(X_train, y_train)\n",
    "\n",
    "search.best_params_"
   ]
  },
  {
   "cell_type": "code",
   "execution_count": null,
   "metadata": {
    "id": "T5-MNLuFrCWw"
   },
   "outputs": [],
   "source": [
    "optimal_params = search.best_params_\n",
    "optimal_params"
   ]
  },
  {
   "cell_type": "code",
   "execution_count": null,
   "metadata": {
    "id": "4EBwGQQ4rCWx"
   },
   "outputs": [],
   "source": [
    "svc2 = SVC(random_state = 1, **optimal_params)\n",
    "_ = svc2.fit(X_train, y_train)\n",
    "\n",
    "#predictions on test data\n",
    "preds_test= svc2.predict(X_test)\n",
    "\n"
   ]
  },
  {
   "cell_type": "code",
   "execution_count": null,
   "metadata": {
    "colab": {
     "base_uri": "https://localhost:8080/"
    },
    "id": "Nk-CiAlfrCWx",
    "outputId": "948152f9-56b2-4564-88f1-5820eb1137a9"
   },
   "outputs": [
    {
     "data": {
      "text/plain": [
       "0.7056808449900085"
      ]
     },
     "execution_count": 108,
     "metadata": {},
     "output_type": "execute_result"
    }
   ],
   "source": [
    "#f1 score on test set\n",
    "f1_score(y_test, preds_test)"
   ]
  },
  {
   "cell_type": "code",
   "execution_count": null,
   "metadata": {
    "colab": {
     "base_uri": "https://localhost:8080/"
    },
    "id": "3qcf5rEdrCWx",
    "outputId": "841a37c8-0378-4ed1-8f16-57104a9abfa2"
   },
   "outputs": [
    {
     "name": "stdout",
     "output_type": "stream",
     "text": [
      "Accuracy score is: 0.5847764800644382\n",
      "Precision score is: 0.553763440860215\n",
      "Recall score is: 0.9724626278520849\n",
      "F1 score is: 0.7056808449900085\n"
     ]
    }
   ],
   "source": [
    "#accuracy,f1 on test data \n",
    "accuracy = accuracy_score(test_y, preds_test)\n",
    "precision = precision_score(test_y, preds_test)\n",
    "recall = recall_score(test_y, preds_test)\n",
    "f1 = f1_score(test_y, preds_test)\n",
    "\n",
    "print(f'Accuracy score is: {accuracy}')\n",
    "print(f'Precision score is: {precision}')\n",
    "print(f'Recall score is: {recall}')\n",
    "print(f'F1 score is: {f1}')"
   ]
  },
  {
   "cell_type": "code",
   "execution_count": null,
   "metadata": {
    "colab": {
     "base_uri": "https://localhost:8080/"
    },
    "id": "ZCpksnerrCWy",
    "outputId": "0eb4a10f-fa00-4034-a423-d6c04a660c1b"
   },
   "outputs": [
    {
     "name": "stdout",
     "output_type": "stream",
     "text": [
      "Confusion Matrix is:\n",
      "[[ 216  996]\n",
      " [  35 1236]]\n"
     ]
    }
   ],
   "source": [
    "print(\"Confusion Matrix is:\")\n",
    "print(confusion_matrix(test_y, preds_test))"
   ]
  },
  {
   "cell_type": "code",
   "execution_count": null,
   "metadata": {
    "colab": {
     "base_uri": "https://localhost:8080/",
     "height": 302
    },
    "id": "0OUxc8yqrCWy",
    "outputId": "34cad558-a0e4-401c-8df2-82279c942236"
   },
   "outputs": [
    {
     "data": {
      "text/plain": [
       "<sklearn.metrics._plot.confusion_matrix.ConfusionMatrixDisplay at 0x7fdaaa931d50>"
      ]
     },
     "execution_count": 111,
     "metadata": {},
     "output_type": "execute_result"
    },
    {
     "data": {
      "image/png": "[encoded data removed]",
      "text/plain": [
       "<Figure size 432x288 with 2 Axes>"
      ]
     },
     "metadata": {},
     "output_type": "display_data"
    }
   ],
   "source": [
    "cm = confusion_matrix(test_y, preds_test)\n",
    "cmd = ConfusionMatrixDisplay(cm)\n",
    "cmd.plot()"
   ]
  },
  {
   "cell_type": "code",
   "execution_count": null,
   "metadata": {
    "colab": {
     "base_uri": "https://localhost:8080/",
     "height": 303
    },
    "id": "ny77mbjGrCWy",
    "outputId": "22935884-dcef-4398-fee8-8a8716ebedaa"
   },
   "outputs": [
    {
     "data": {
      "text/plain": [
       "<sklearn.metrics._plot.confusion_matrix.ConfusionMatrixDisplay at 0x7fdaabdac150>"
      ]
     },
     "execution_count": 93,
     "metadata": {},
     "output_type": "execute_result"
    },
    {
     "data": {
      "image/png": "[encoded data removed]",
      "text/plain": [
       "<Figure size 432x288 with 2 Axes>"
      ]
     },
     "metadata": {},
     "output_type": "display_data"
    }
   ],
   "source": [
    "cmd = ConfusionMatrixDisplay(cm, display_labels=['Genuine','Fake'])\n",
    "cmd.plot()"
   ]
  },
  {
   "cell_type": "code",
   "execution_count": null,
   "metadata": {
    "colab": {
     "base_uri": "https://localhost:8080/"
    },
    "id": "rP5DaJ-HrCWy",
    "outputId": "5fc768c1-3e42-4d35-95c0-cc3a986519d9"
   },
   "outputs": [
    {
     "name": "stdout",
     "output_type": "stream",
     "text": [
      "Verify our results using Sklearn confusion matrix values\n",
      "FN: 35\n",
      "TP: 1236\n",
      "TN: 216\n",
      "FP: 996\n"
     ]
    }
   ],
   "source": [
    "# Verify the results\n",
    "sk_tn, sk_fp, sk_fn, sk_tp = confusion_matrix(test_y, preds_test).ravel()\n",
    "print(\"Verify our results using Sklearn confusion matrix values\\n\"\n",
    "      \"FN: {0}\\n\"\n",
    "      \"TP: {1}\\n\"\n",
    "      \"TN: {2}\\n\"\n",
    "      \"FP: {3}\".format(sk_fn, sk_tp, sk_tn, sk_fp,))"
   ]
  },
  {
   "cell_type": "code",
   "execution_count": null,
   "metadata": {
    "colab": {
     "base_uri": "https://localhost:8080/"
    },
    "id": "XVm9lNcsrCWy",
    "outputId": "49fcf3c5-ce92-404b-fe65-986533179620"
   },
   "outputs": [
    {
     "name": "stdout",
     "output_type": "stream",
     "text": [
      "Classification Report is is:\n",
      "              precision    recall  f1-score   support\n",
      "\n",
      "           0       0.86      0.18      0.30      1212\n",
      "           1       0.55      0.97      0.71      1271\n",
      "\n",
      "    accuracy                           0.58      2483\n",
      "   macro avg       0.71      0.58      0.50      2483\n",
      "weighted avg       0.70      0.58      0.51      2483\n",
      "\n"
     ]
    }
   ],
   "source": [
    "print(\"Classification Report is is:\")\n",
    "classification_report_results = classification_report(test_y, preds_test)\n",
    "# store report in results\n",
    "print(classification_report_results)"
   ]
  },
  {
   "cell_type": "code",
   "execution_count": null,
   "metadata": {
    "colab": {
     "base_uri": "https://localhost:8080/"
    },
    "id": "aNiYgRN_rCWy",
    "outputId": "91091571-b3a5-44e1-9372-cc53eb4b4273"
   },
   "outputs": [
    {
     "name": "stdout",
     "output_type": "stream",
     "text": [
      "AUC on Test data is 0.5753402248171315\n"
     ]
    }
   ],
   "source": [
    "print(\"AUC on Test data is \" +str(roc_auc_score(test_y,preds_test)))"
   ]
  },
  {
   "cell_type": "code",
   "execution_count": null,
   "metadata": {
    "colab": {
     "base_uri": "https://localhost:8080/"
    },
    "id": "MEDYbTqGrCWy",
    "outputId": "6c2ec1bb-7926-4fdb-dc2f-0221bf696e2f"
   },
   "outputs": [
    {
     "data": {
      "text/plain": [
       "{'accuracy': 58.477648006443815,\n",
       " 'precision': 0.553763440860215,\n",
       " 'recall': 0.9724626278520849,\n",
       " 'f1': 0.7056808449900085}"
      ]
     },
     "execution_count": 117,
     "metadata": {},
     "output_type": "execute_result"
    }
   ],
   "source": [
    "# Get baseline results\n",
    "svc_results = calculate_results(y_true=test_y,\n",
    "                                     y_pred=preds_test)\n",
    "svc_results"
   ]
  },
  {
   "cell_type": "code",
   "execution_count": null,
   "metadata": {
    "id": "6F8kvNW5rCWy"
   },
   "outputs": [],
   "source": [
    "model_results[\"SVC Tuned\"] = "
   ]
  },
  {
   "cell_type": "code",
   "execution_count": null,
   "metadata": {
    "colab": {
     "base_uri": "https://localhost:8080/"
    },
    "id": "9naB7wtnrCWz",
    "outputId": "36df0321-f6e6-49f7-c80c-c2ec33742e38"
   },
   "outputs": [
    {
     "data": {
      "text/plain": [
       "{'BASELINE': {'accuracy': 48.81192106322996,\n",
       "  'precision': 0.0,\n",
       "  'recall': 0.0,\n",
       "  'f1': 0.0},\n",
       " 'Linear Regression': {'accuracy': 66.25050342327829,\n",
       "  'precision': 0.6616878267363704,\n",
       "  'recall': 0.6970889063729347,\n",
       "  'f1': 0.6789272030651341},\n",
       " 'Logistic Regression': {'accuracy': 66.25050342327829,\n",
       "  'precision': 0.6616878267363704,\n",
       "  'recall': 0.6970889063729347,\n",
       "  'f1': 0.6789272030651341},\n",
       " 'Decision Tree': {'accuracy': 58.840112766814336,\n",
       "  'precision': 0.5985748218527316,\n",
       "  'recall': 0.5948072383949646,\n",
       "  'f1': 0.5966850828729282},\n",
       " 'Decision Tree Tuned': {'accuracy': 58.477648006443815,\n",
       "  'precision': 0.553763440860215,\n",
       "  'recall': 0.9724626278520849,\n",
       "  'f1': 0.7056808449900085},\n",
       " 'Random Forest Tuned': {'accuracy': 58.477648006443815,\n",
       "  'precision': 0.553763440860215,\n",
       "  'recall': 0.9724626278520849,\n",
       "  'f1': 0.7056808449900085}}"
      ]
     },
     "execution_count": 119,
     "metadata": {},
     "output_type": "execute_result"
    }
   ],
   "source": [
    "model_results"
   ]
  },
  {
   "cell_type": "code",
   "execution_count": null,
   "metadata": {
    "id": "7HW3Ky1orCWz"
   },
   "outputs": [],
   "source": []
  },
  {
   "cell_type": "code",
   "execution_count": null,
   "metadata": {
    "id": "Tao0ul3LrDo7"
   },
   "outputs": [],
   "source": []
  },
  {
   "cell_type": "markdown",
   "metadata": {},
   "source": [
    "### Support Vector Machines: Other Variants"
   ]
  },
  {
   "cell_type": "code",
   "execution_count": 95,
   "metadata": {},
   "outputs": [],
   "source": [
    "from sklearn.svm import LinearSVC, NuSVC, SVC"
   ]
  },
  {
   "cell_type": "markdown",
   "metadata": {
    "id": "ozSye2OrPvt7"
   },
   "source": [
    "#### 1. Linear SVC"
   ]
  },
  {
   "cell_type": "code",
   "execution_count": 96,
   "metadata": {
    "colab": {
     "base_uri": "https://localhost:8080/"
    },
    "id": "vweAXFdMPvt7",
    "outputId": "66206b18-9792-4cbf-f835-35aa8a29a762"
   },
   "outputs": [],
   "source": [
    "from sklearn.svm import LinearSVC\n",
    "\n",
    "svc = LinearSVC(random_state = 1)\n",
    "_ = svc.fit(X_train, y_train)"
   ]
  },
  {
   "cell_type": "code",
   "execution_count": 97,
   "metadata": {},
   "outputs": [],
   "source": [
    "#predictions on test data\n",
    "preds_test= svc.predict(X_test)"
   ]
  },
  {
   "cell_type": "code",
   "execution_count": 98,
   "metadata": {},
   "outputs": [
    {
     "name": "stdout",
     "output_type": "stream",
     "text": [
      "0.662090007627765\n"
     ]
    }
   ],
   "source": [
    "#f1 score on test set\n",
    "f1_value = f1_score(y_test, preds_test)\n",
    "print(f1_value)"
   ]
  },
  {
   "cell_type": "code",
   "execution_count": 99,
   "metadata": {
    "id": "S-1bHkyHPvt8",
    "outputId": "cccdf4a6-c971-466e-d2d7-c374a61ba1ca"
   },
   "outputs": [
    {
     "name": "stdout",
     "output_type": "stream",
     "text": [
      "0.1 0.6798179059180577\n",
      "0.2 0.6724791508718726\n",
      "0.3 0.6714664645699129\n",
      "0.4 0.668939393939394\n",
      "0.5 0.6651463321930825\n",
      "0.6 0.6651428571428571\n",
      "0.7 0.6626000762485703\n",
      "0.8 0.663109756097561\n",
      "0.9 0.6623426173216329\n",
      "1.0 0.662090007627765\n",
      "1.1 0.6615795497901564\n",
      "1.2 0.6600458365164248\n",
      "1.3 0.6595419847328244\n",
      "1.4 0.658005349636989\n",
      "1.5 0.658005349636989\n",
      "1.6 0.656704980842912\n",
      "1.7 0.6546431312356102\n",
      "1.8 0.6536248561565017\n",
      "1.9 0.6528576908323743\n",
      "2.0 0.6508240705251055\n"
     ]
    }
   ],
   "source": [
    "# Tuning on C hyperparameter\n",
    "for c in range(1, 21, 1):\n",
    "    c = c / 10\n",
    "    svc = LinearSVC(random_state = 1, C=c)\n",
    "    _ = svc.fit(X_train, y_train)\n",
    "    preds_test= svc.predict(X_test)\n",
    "\n",
    "    #f1 score on test set\n",
    "    f1_value = f1_score(y_test, preds_test)\n",
    "    print(c, f1_value)"
   ]
  },
  {
   "cell_type": "code",
   "execution_count": 100,
   "metadata": {
    "colab": {
     "base_uri": "https://localhost:8080/"
    },
    "id": "ji_8qoQr1tFC",
    "outputId": "1c6ffd4a-7e01-4313-a606-33ed15efdcd4"
   },
   "outputs": [],
   "source": [
    "lin_svc = LinearSVC(random_state=1, C=0.1)\n",
    "lin_svc = lin_svc.fit(X_train, y_train)"
   ]
  },
  {
   "cell_type": "code",
   "execution_count": 101,
   "metadata": {
    "colab": {
     "base_uri": "https://localhost:8080/"
    },
    "id": "-5U-yZvI1vdx",
    "outputId": "862946bf-9a06-4d50-bca8-6f072b4b0e4f"
   },
   "outputs": [],
   "source": [
    "#predictions on test data\n",
    "preds_test= lin_svc.predict(X_test)"
   ]
  },
  {
   "cell_type": "code",
   "execution_count": 102,
   "metadata": {
    "id": "BIt4JssJPvt8"
   },
   "outputs": [
    {
     "name": "stdout",
     "output_type": "stream",
     "text": [
      "0.6798179059180577\n"
     ]
    }
   ],
   "source": [
    "#f1 score on test set\n",
    "f1_value = f1_score(y_test, preds_test)\n",
    "print(f1_value)"
   ]
  },
  {
   "cell_type": "code",
   "execution_count": 103,
   "metadata": {},
   "outputs": [
    {
     "name": "stdout",
     "output_type": "stream",
     "text": [
      "Accuracy score is: 0.6600886024969794\n",
      "Precision score is: 0.6564102564102564\n",
      "Recall score is: 0.7049567269866247\n",
      "F1 score is: 0.6798179059180577\n"
     ]
    }
   ],
   "source": [
    "#accuracy,f1 on test data \n",
    "accuracy = accuracy_score(test_y, preds_test)\n",
    "precision = precision_score(test_y, preds_test)\n",
    "recall = recall_score(test_y, preds_test)\n",
    "f1 = f1_score(test_y, preds_test)\n",
    "\n",
    "print(f'Accuracy score is: {accuracy}')\n",
    "print(f'Precision score is: {precision}')\n",
    "print(f'Recall score is: {recall}')\n",
    "print(f'F1 score is: {f1}')\n"
   ]
  },
  {
   "cell_type": "code",
   "execution_count": 104,
   "metadata": {},
   "outputs": [
    {
     "name": "stdout",
     "output_type": "stream",
     "text": [
      "Confusion Matrix is:\n",
      "[[743 469]\n",
      " [375 896]]\n"
     ]
    },
    {
     "data": {
      "text/plain": [
       "<sklearn.metrics._plot.confusion_matrix.ConfusionMatrixDisplay at 0x162479a30>"
      ]
     },
     "execution_count": 104,
     "metadata": {},
     "output_type": "execute_result"
    },
    {
     "data": {
      "image/png": "[encoded data removed]",
      "text/plain": [
       "<Figure size 432x288 with 2 Axes>"
      ]
     },
     "metadata": {},
     "output_type": "display_data"
    }
   ],
   "source": [
    "print(\"Confusion Matrix is:\")\n",
    "print(confusion_matrix(test_y, preds_test))\n",
    "cm = confusion_matrix(test_y, preds_test)\n",
    "cmd = ConfusionMatrixDisplay(cm)\n",
    "cmd.plot()\n"
   ]
  },
  {
   "cell_type": "code",
   "execution_count": 105,
   "metadata": {},
   "outputs": [
    {
     "name": "stdout",
     "output_type": "stream",
     "text": [
      "Classification Report is is:\n",
      "              precision    recall  f1-score   support\n",
      "\n",
      "           0       0.66      0.61      0.64      1212\n",
      "           1       0.66      0.70      0.68      1271\n",
      "\n",
      "    accuracy                           0.66      2483\n",
      "   macro avg       0.66      0.66      0.66      2483\n",
      "weighted avg       0.66      0.66      0.66      2483\n",
      "\n"
     ]
    }
   ],
   "source": [
    "print(\"Classification Report is is:\")\n",
    "classification_report_results = classification_report(test_y, preds_test)\n",
    "\n",
    "\n",
    "# store report in results\n",
    "print(classification_report_results)"
   ]
  },
  {
   "cell_type": "code",
   "execution_count": 106,
   "metadata": {},
   "outputs": [
    {
     "name": "stdout",
     "output_type": "stream",
     "text": [
      "AUC on Test data is 0.6589965153084938\n"
     ]
    }
   ],
   "source": [
    "print(\"AUC on Test data is \" +str(roc_auc_score(test_y,preds_test)))"
   ]
  },
  {
   "cell_type": "code",
   "execution_count": 107,
   "metadata": {},
   "outputs": [
    {
     "data": {
      "text/plain": [
       "{'accuracy': 66.00886024969795,\n",
       " 'precision': 0.6564102564102564,\n",
       " 'recall': 0.7049567269866247,\n",
       " 'f1': 0.6798179059180577}"
      ]
     },
     "execution_count": 107,
     "metadata": {},
     "output_type": "execute_result"
    }
   ],
   "source": [
    "svc_results = calculate_results(y_true=test_y,\n",
    "                                     y_pred=preds_test)\n",
    "svc_results"
   ]
  },
  {
   "cell_type": "code",
   "execution_count": 108,
   "metadata": {},
   "outputs": [],
   "source": [
    "model_results[\"Linear SVC Tuned\"] = svc_results"
   ]
  },
  {
   "cell_type": "code",
   "execution_count": 110,
   "metadata": {},
   "outputs": [
    {
     "data": {
      "text/plain": [
       "{'BASELINE': {'accuracy': 48.81192106322996,\n",
       "  'precision': 0.0,\n",
       "  'recall': 0.0,\n",
       "  'f1': 0.0},\n",
       " 'XGBoost': {'accuracy': 66.25050342327829,\n",
       "  'precision': 0.6586080586080586,\n",
       "  'recall': 0.7073170731707317,\n",
       "  'f1': 0.6820940819423368},\n",
       " 'XGBoost Tuned': {'accuracy': 67.41844542891663,\n",
       "  'precision': 0.6661870503597123,\n",
       "  'recall': 0.7285601888276947,\n",
       "  'f1': 0.6959789552799699},\n",
       " 'Stacking': {'accuracy': 68.5058397100282,\n",
       "  'precision': 0.6796473181484203,\n",
       "  'recall': 0.7277734067663257,\n",
       "  'f1': 0.7028875379939209},\n",
       " 'Linear SVC Tuned': {'accuracy': 66.00886024969795,\n",
       "  'precision': 0.6564102564102564,\n",
       "  'recall': 0.7049567269866247,\n",
       "  'f1': 0.6798179059180577}}"
      ]
     },
     "execution_count": 110,
     "metadata": {},
     "output_type": "execute_result"
    }
   ],
   "source": [
    "model_results"
   ]
  },
  {
   "cell_type": "code",
   "execution_count": null,
   "metadata": {},
   "outputs": [],
   "source": []
  },
  {
   "cell_type": "code",
   "execution_count": null,
   "metadata": {},
   "outputs": [],
   "source": []
  },
  {
   "cell_type": "markdown",
   "metadata": {
    "id": "QzKWbBrPPvt8"
   },
   "source": [
    "#### 2. NuSVR"
   ]
  },
  {
   "cell_type": "code",
   "execution_count": 63,
   "metadata": {
    "id": "IR4qTyuOPvt8",
    "outputId": "66ee26d1-68fd-41bc-ca89-213ac5811fd7"
   },
   "outputs": [],
   "source": [
    "nu_svc = NuSVC()\n",
    "nu_svc = nu_svc.fit(X_train, y_train)"
   ]
  },
  {
   "cell_type": "code",
   "execution_count": 65,
   "metadata": {},
   "outputs": [],
   "source": [
    "#predictions on test data\n",
    "preds_test= nu_svc.predict(X_test)"
   ]
  },
  {
   "cell_type": "code",
   "execution_count": 67,
   "metadata": {
    "id": "BIt4JssJPvt8"
   },
   "outputs": [
    {
     "name": "stdout",
     "output_type": "stream",
     "text": [
      "0.6830580099884749\n"
     ]
    }
   ],
   "source": [
    "#f1 score on test set\n",
    "f1_value = f1_score(y_test, preds_test)\n",
    "print(f1_value)"
   ]
  },
  {
   "cell_type": "code",
   "execution_count": 68,
   "metadata": {},
   "outputs": [
    {
     "name": "stdout",
     "output_type": "stream",
     "text": [
      "Accuracy score is: 0.6677406363270237\n",
      "Precision score is: 0.6674174174174174\n",
      "Recall score is: 0.6994492525570417\n",
      "F1 score is: 0.6830580099884749\n"
     ]
    }
   ],
   "source": [
    "#accuracy,f1 on test data \n",
    "accuracy = accuracy_score(test_y, preds_test)\n",
    "precision = precision_score(test_y, preds_test)\n",
    "recall = recall_score(test_y, preds_test)\n",
    "f1 = f1_score(test_y, preds_test)\n",
    "\n",
    "print(f'Accuracy score is: {accuracy}')\n",
    "print(f'Precision score is: {precision}')\n",
    "print(f'Recall score is: {recall}')\n",
    "print(f'F1 score is: {f1}')\n"
   ]
  },
  {
   "cell_type": "code",
   "execution_count": 69,
   "metadata": {},
   "outputs": [
    {
     "name": "stdout",
     "output_type": "stream",
     "text": [
      "Confusion Matrix is:\n",
      "[[769 443]\n",
      " [382 889]]\n"
     ]
    },
    {
     "data": {
      "text/plain": [
       "<sklearn.metrics._plot.confusion_matrix.ConfusionMatrixDisplay at 0x7fac512b41c0>"
      ]
     },
     "execution_count": 69,
     "metadata": {},
     "output_type": "execute_result"
    },
    {
     "data": {
      "image/png": "[encoded data removed]",
      "text/plain": [
       "<Figure size 432x288 with 2 Axes>"
      ]
     },
     "metadata": {},
     "output_type": "display_data"
    }
   ],
   "source": [
    "print(\"Confusion Matrix is:\")\n",
    "print(confusion_matrix(test_y, preds_test))\n",
    "cm = confusion_matrix(test_y, preds_test)\n",
    "cmd = ConfusionMatrixDisplay(cm)\n",
    "cmd.plot()\n"
   ]
  },
  {
   "cell_type": "code",
   "execution_count": 70,
   "metadata": {},
   "outputs": [
    {
     "name": "stdout",
     "output_type": "stream",
     "text": [
      "Classification Report is is:\n",
      "              precision    recall  f1-score   support\n",
      "\n",
      "           0       0.67      0.63      0.65      1212\n",
      "           1       0.67      0.70      0.68      1271\n",
      "\n",
      "    accuracy                           0.67      2483\n",
      "   macro avg       0.67      0.67      0.67      2483\n",
      "weighted avg       0.67      0.67      0.67      2483\n",
      "\n"
     ]
    }
   ],
   "source": [
    "print(\"Classification Report is is:\")\n",
    "classification_report_results = classification_report(test_y, preds_test)\n",
    "\n",
    "\n",
    "# store report in results\n",
    "print(classification_report_results)"
   ]
  },
  {
   "cell_type": "code",
   "execution_count": 71,
   "metadata": {},
   "outputs": [
    {
     "name": "stdout",
     "output_type": "stream",
     "text": [
      "AUC on Test data is 0.6669688507009632\n"
     ]
    }
   ],
   "source": [
    "print(\"AUC on Test data is \" +str(roc_auc_score(test_y,preds_test)))"
   ]
  },
  {
   "cell_type": "code",
   "execution_count": 72,
   "metadata": {},
   "outputs": [
    {
     "data": {
      "text/plain": [
       "{'accuracy': 66.77406363270238,\n",
       " 'precision': 0.6674174174174174,\n",
       " 'recall': 0.6994492525570417,\n",
       " 'f1': 0.6830580099884749}"
      ]
     },
     "execution_count": 72,
     "metadata": {},
     "output_type": "execute_result"
    }
   ],
   "source": [
    "svc_results = calculate_results(y_true=test_y,\n",
    "                                     y_pred=preds_test)\n",
    "svc_results"
   ]
  },
  {
   "cell_type": "code",
   "execution_count": 73,
   "metadata": {},
   "outputs": [],
   "source": [
    "model_results[\"Nu SVC\"] = svc_results"
   ]
  },
  {
   "cell_type": "code",
   "execution_count": 74,
   "metadata": {},
   "outputs": [
    {
     "data": {
      "text/plain": [
       "{'BASELINE': {'accuracy': 48.81192106322996,\n",
       "  'precision': 0.0,\n",
       "  'recall': 0.0,\n",
       "  'f1': 0.0},\n",
       " 'Linear SVC Tuned': {'accuracy': 66.61296818364882,\n",
       "  'precision': 0.6596820809248555,\n",
       "  'recall': 0.7183320220298978,\n",
       "  'f1': 0.6877589453860641},\n",
       " 'Nu SVC': {'accuracy': 66.77406363270238,\n",
       "  'precision': 0.6674174174174174,\n",
       "  'recall': 0.6994492525570417,\n",
       "  'f1': 0.6830580099884749}}"
      ]
     },
     "execution_count": 74,
     "metadata": {},
     "output_type": "execute_result"
    }
   ],
   "source": [
    "model_results"
   ]
  },
  {
   "cell_type": "code",
   "execution_count": null,
   "metadata": {},
   "outputs": [],
   "source": []
  },
  {
   "cell_type": "code",
   "execution_count": 46,
   "metadata": {
    "id": "S-1bHkyHPvt8",
    "outputId": "cccdf4a6-c971-466e-d2d7-c374a61ba1ca"
   },
   "outputs": [
    {
     "name": "stdout",
     "output_type": "stream",
     "text": [
      "linear 0.7035573122529645\n",
      "poly 0.6814214463840399\n",
      "rbf 0.6830580099884749\n",
      "sigmoid 0.6035171862509991\n"
     ]
    }
   ],
   "source": [
    "# Tuning on the type of kernel for NuSVC\n",
    "for kernel in ['linear', 'poly', 'rbf', 'sigmoid']:\n",
    "    nu_svc = NuSVC(random_state = 1, kernel=kernel)\n",
    "    nu_svc = nu_svc.fit(X_train, y_train)\n",
    "    preds_test= nu_svc.predict(X_test)\n",
    "\n",
    "    #f1 score on test set\n",
    "    f1_value = f1_score(y_test, preds_test)\n",
    "    print(kernel, f1_value)"
   ]
  },
  {
   "cell_type": "code",
   "execution_count": 48,
   "metadata": {
    "colab": {
     "base_uri": "https://localhost:8080/"
    },
    "id": "ji_8qoQr1tFC",
    "outputId": "1c6ffd4a-7e01-4313-a606-33ed15efdcd4"
   },
   "outputs": [],
   "source": [
    "nu_svc = NuSVC(random_state = 1, kernel='linear')\n",
    "nu_svc = nu_svc.fit(X_train, y_train)"
   ]
  },
  {
   "cell_type": "code",
   "execution_count": 49,
   "metadata": {
    "colab": {
     "base_uri": "https://localhost:8080/"
    },
    "id": "-5U-yZvI1vdx",
    "outputId": "862946bf-9a06-4d50-bca8-6f072b4b0e4f"
   },
   "outputs": [],
   "source": [
    "#predictions on test data\n",
    "preds_test= nu_svc.predict(X_test)"
   ]
  },
  {
   "cell_type": "code",
   "execution_count": 50,
   "metadata": {
    "id": "BIt4JssJPvt8"
   },
   "outputs": [],
   "source": [
    "#f1 score on test set\n",
    "f1_value = f1_score(y_test, preds_test)"
   ]
  },
  {
   "cell_type": "code",
   "execution_count": 51,
   "metadata": {},
   "outputs": [
    {
     "name": "stdout",
     "output_type": "stream",
     "text": [
      "Accuracy score is: 0.6677406363270237\n",
      "Precision score is: 0.6474867724867724\n",
      "Recall score is: 0.7702596380802518\n",
      "F1 score is: 0.7035573122529645\n"
     ]
    }
   ],
   "source": [
    "#accuracy,f1 on test data \n",
    "accuracy = accuracy_score(test_y, preds_test)\n",
    "precision = precision_score(test_y, preds_test)\n",
    "recall = recall_score(test_y, preds_test)\n",
    "f1 = f1_score(test_y, preds_test)\n",
    "\n",
    "print(f'Accuracy score is: {accuracy}')\n",
    "print(f'Precision score is: {precision}')\n",
    "print(f'Recall score is: {recall}')\n",
    "print(f'F1 score is: {f1}')\n"
   ]
  },
  {
   "cell_type": "code",
   "execution_count": 52,
   "metadata": {},
   "outputs": [
    {
     "name": "stdout",
     "output_type": "stream",
     "text": [
      "Confusion Matrix is:\n",
      "[[679 533]\n",
      " [292 979]]\n"
     ]
    },
    {
     "data": {
      "text/plain": [
       "<sklearn.metrics._plot.confusion_matrix.ConfusionMatrixDisplay at 0x7fb5aa57dee0>"
      ]
     },
     "execution_count": 52,
     "metadata": {},
     "output_type": "execute_result"
    },
    {
     "data": {
      "image/png": "[encoded data removed]",
      "text/plain": [
       "<Figure size 432x288 with 2 Axes>"
      ]
     },
     "metadata": {},
     "output_type": "display_data"
    }
   ],
   "source": [
    "print(\"Confusion Matrix is:\")\n",
    "print(confusion_matrix(test_y, preds_test))\n",
    "cm = confusion_matrix(test_y, preds_test)\n",
    "cmd = ConfusionMatrixDisplay(cm)\n",
    "cmd.plot()\n"
   ]
  },
  {
   "cell_type": "code",
   "execution_count": 53,
   "metadata": {},
   "outputs": [
    {
     "name": "stdout",
     "output_type": "stream",
     "text": [
      "Classification Report is is:\n",
      "              precision    recall  f1-score   support\n",
      "\n",
      "           0       0.70      0.56      0.62      1212\n",
      "           1       0.65      0.77      0.70      1271\n",
      "\n",
      "    accuracy                           0.67      2483\n",
      "   macro avg       0.67      0.67      0.66      2483\n",
      "weighted avg       0.67      0.67      0.66      2483\n",
      "\n"
     ]
    }
   ],
   "source": [
    "print(\"Classification Report is is:\")\n",
    "classification_report_results = classification_report(test_y, preds_test)\n",
    "\n",
    "\n",
    "# store report in results\n",
    "print(classification_report_results)"
   ]
  },
  {
   "cell_type": "code",
   "execution_count": 54,
   "metadata": {},
   "outputs": [
    {
     "name": "stdout",
     "output_type": "stream",
     "text": [
      "AUC on Test data is 0.665245330591281\n"
     ]
    }
   ],
   "source": [
    "print(\"AUC on Test data is \" +str(roc_auc_score(test_y,preds_test)))"
   ]
  },
  {
   "cell_type": "code",
   "execution_count": 55,
   "metadata": {},
   "outputs": [
    {
     "data": {
      "text/plain": [
       "{'accuracy': 66.77406363270238,\n",
       " 'precision': 0.6474867724867724,\n",
       " 'recall': 0.7702596380802518,\n",
       " 'f1': 0.7035573122529645}"
      ]
     },
     "execution_count": 55,
     "metadata": {},
     "output_type": "execute_result"
    }
   ],
   "source": [
    "svc_results = calculate_results(y_true=test_y,\n",
    "                                     y_pred=preds_test)\n",
    "svc_results"
   ]
  },
  {
   "cell_type": "code",
   "execution_count": 56,
   "metadata": {},
   "outputs": [],
   "source": [
    "model_results[\"Nu SVC Tuned\"] = svc_results"
   ]
  },
  {
   "cell_type": "code",
   "execution_count": 57,
   "metadata": {},
   "outputs": [
    {
     "data": {
      "text/plain": [
       "{'Nu SVC Tuned': {'accuracy': 66.77406363270238,\n",
       "  'precision': 0.6474867724867724,\n",
       "  'recall': 0.7702596380802518,\n",
       "  'f1': 0.7035573122529645}}"
      ]
     },
     "execution_count": 57,
     "metadata": {},
     "output_type": "execute_result"
    }
   ],
   "source": [
    "model_results"
   ]
  },
  {
   "cell_type": "code",
   "execution_count": null,
   "metadata": {},
   "outputs": [],
   "source": []
  },
  {
   "cell_type": "code",
   "execution_count": null,
   "metadata": {},
   "outputs": [],
   "source": []
  },
  {
   "cell_type": "code",
   "execution_count": null,
   "metadata": {},
   "outputs": [],
   "source": []
  },
  {
   "cell_type": "markdown",
   "metadata": {
    "id": "GiaHZVsrPvt9"
   },
   "source": [
    "#### 3. RBF-Kernel SVR"
   ]
  },
  {
   "cell_type": "code",
   "execution_count": 58,
   "metadata": {
    "id": "7k802_ddPvt9",
    "outputId": "6dc06140-5a1e-40df-bb38-1e1a550b6227"
   },
   "outputs": [
    {
     "data": {
      "text/plain": [
       "SVC()"
      ]
     },
     "execution_count": 58,
     "metadata": {},
     "output_type": "execute_result"
    }
   ],
   "source": [
    "rbf_svc = SVC(kernel='rbf')\n",
    "rbf_svc.fit(X_train, y_train)"
   ]
  },
  {
   "cell_type": "code",
   "execution_count": 59,
   "metadata": {},
   "outputs": [],
   "source": [
    "#predictions on test data\n",
    "preds_test= rbf_svc.predict(X_test)"
   ]
  },
  {
   "cell_type": "code",
   "execution_count": 60,
   "metadata": {
    "id": "BIt4JssJPvt8"
   },
   "outputs": [
    {
     "name": "stdout",
     "output_type": "stream",
     "text": [
      "0.6804979253112035\n"
     ]
    }
   ],
   "source": [
    "#f1 score on test set\n",
    "f1_value = f1_score(y_test, preds_test)\n",
    "print(f1_value)"
   ]
  },
  {
   "cell_type": "code",
   "execution_count": 61,
   "metadata": {},
   "outputs": [
    {
     "name": "stdout",
     "output_type": "stream",
     "text": [
      "Accuracy score is: 0.6588803866290778\n",
      "Precision score is: 0.6536231884057971\n",
      "Recall score is: 0.7096774193548387\n",
      "F1 score is: 0.6804979253112035\n"
     ]
    }
   ],
   "source": [
    "#accuracy,f1 on test data \n",
    "accuracy = accuracy_score(test_y, preds_test)\n",
    "precision = precision_score(test_y, preds_test)\n",
    "recall = recall_score(test_y, preds_test)\n",
    "f1 = f1_score(test_y, preds_test)\n",
    "\n",
    "print(f'Accuracy score is: {accuracy}')\n",
    "print(f'Precision score is: {precision}')\n",
    "print(f'Recall score is: {recall}')\n",
    "print(f'F1 score is: {f1}')\n"
   ]
  },
  {
   "cell_type": "code",
   "execution_count": 62,
   "metadata": {},
   "outputs": [
    {
     "name": "stdout",
     "output_type": "stream",
     "text": [
      "Confusion Matrix is:\n",
      "[[734 478]\n",
      " [369 902]]\n"
     ]
    },
    {
     "data": {
      "text/plain": [
       "<sklearn.metrics._plot.confusion_matrix.ConfusionMatrixDisplay at 0x7fb5bb955730>"
      ]
     },
     "execution_count": 62,
     "metadata": {},
     "output_type": "execute_result"
    },
    {
     "data": {
      "image/png": "[encoded data removed]",
      "text/plain": [
       "<Figure size 432x288 with 2 Axes>"
      ]
     },
     "metadata": {},
     "output_type": "display_data"
    }
   ],
   "source": [
    "print(\"Confusion Matrix is:\")\n",
    "print(confusion_matrix(test_y, preds_test))\n",
    "cm = confusion_matrix(test_y, preds_test)\n",
    "cmd = ConfusionMatrixDisplay(cm)\n",
    "cmd.plot()\n"
   ]
  },
  {
   "cell_type": "code",
   "execution_count": 63,
   "metadata": {},
   "outputs": [
    {
     "name": "stdout",
     "output_type": "stream",
     "text": [
      "Classification Report is is:\n",
      "              precision    recall  f1-score   support\n",
      "\n",
      "           0       0.67      0.61      0.63      1212\n",
      "           1       0.65      0.71      0.68      1271\n",
      "\n",
      "    accuracy                           0.66      2483\n",
      "   macro avg       0.66      0.66      0.66      2483\n",
      "weighted avg       0.66      0.66      0.66      2483\n",
      "\n"
     ]
    }
   ],
   "source": [
    "print(\"Classification Report is is:\")\n",
    "classification_report_results = classification_report(test_y, preds_test)\n",
    "\n",
    "\n",
    "# store report in results\n",
    "print(classification_report_results)"
   ]
  },
  {
   "cell_type": "code",
   "execution_count": 64,
   "metadata": {},
   "outputs": [
    {
     "name": "stdout",
     "output_type": "stream",
     "text": [
      "AUC on Test data is 0.6576439902054722\n"
     ]
    }
   ],
   "source": [
    "print(\"AUC on Test data is \" +str(roc_auc_score(test_y,preds_test)))"
   ]
  },
  {
   "cell_type": "code",
   "execution_count": 65,
   "metadata": {},
   "outputs": [
    {
     "data": {
      "text/plain": [
       "{'accuracy': 65.88803866290777,\n",
       " 'precision': 0.6536231884057971,\n",
       " 'recall': 0.7096774193548387,\n",
       " 'f1': 0.6804979253112035}"
      ]
     },
     "execution_count": 65,
     "metadata": {},
     "output_type": "execute_result"
    }
   ],
   "source": [
    "svc_results = calculate_results(y_true=test_y,\n",
    "                                     y_pred=preds_test)\n",
    "svc_results"
   ]
  },
  {
   "cell_type": "code",
   "execution_count": 66,
   "metadata": {},
   "outputs": [],
   "source": [
    "model_results[\"RBF Kernel SVC\"] = svc_results"
   ]
  },
  {
   "cell_type": "code",
   "execution_count": 67,
   "metadata": {},
   "outputs": [
    {
     "data": {
      "text/plain": [
       "{'Nu SVC Tuned': {'accuracy': 66.77406363270238,\n",
       "  'precision': 0.6474867724867724,\n",
       "  'recall': 0.7702596380802518,\n",
       "  'f1': 0.7035573122529645},\n",
       " 'RBF Kernel SVC': {'accuracy': 65.88803866290777,\n",
       "  'precision': 0.6536231884057971,\n",
       "  'recall': 0.7096774193548387,\n",
       "  'f1': 0.6804979253112035}}"
      ]
     },
     "execution_count": 67,
     "metadata": {},
     "output_type": "execute_result"
    }
   ],
   "source": [
    "model_results"
   ]
  },
  {
   "cell_type": "code",
   "execution_count": null,
   "metadata": {
    "id": "F40LMU_qPvt-"
   },
   "outputs": [],
   "source": []
  },
  {
   "cell_type": "markdown",
   "metadata": {
    "id": "dNP74HXKPvt_"
   },
   "source": [
    "**Now we will tune the 'C' parameter for RBF Kernel SVC.**"
   ]
  },
  {
   "cell_type": "code",
   "execution_count": 69,
   "metadata": {
    "id": "J3c3dhn8Pvt_"
   },
   "outputs": [],
   "source": [
    "svc_rbf_c_results = {}"
   ]
  },
  {
   "cell_type": "code",
   "execution_count": 71,
   "metadata": {
    "id": "DqKmNiP4Pvt_",
    "outputId": "33cec2af-3f09-4ecc-ea07-906b2d82d87f"
   },
   "outputs": [
    {
     "name": "stdout",
     "output_type": "stream",
     "text": [
      "0.6608231707317074\n",
      "0.2 0.6608231707317074\n",
      "0.6742857142857142\n",
      "0.4 0.6742857142857142\n",
      "0.6783004552352048\n",
      "0.6 0.6783004552352048\n",
      "0.6797583081570997\n",
      "0.8 0.6797583081570997\n",
      "0.6804979253112035\n",
      "1.0 0.6804979253112035\n",
      "0.6837349397590361\n",
      "1.2 0.6837349397590361\n",
      "0.6870056497175141\n",
      "1.4 0.6870056497175141\n",
      "0.6857789513391173\n",
      "1.6 0.6857789513391173\n",
      "0.6840513983371127\n",
      "1.8 0.6840513983371127\n",
      "0.6861480075901328\n",
      "2.0 0.6861480075901328\n",
      "0.6854317230886269\n",
      "2.2 0.6854317230886269\n",
      "0.6846709775580069\n",
      "2.4 0.6846709775580069\n",
      "0.6844512195121952\n",
      "2.6 0.6844512195121952\n",
      "0.6822179732313575\n",
      "2.8 0.6822179732313575\n",
      "0.6822896657702651\n",
      "3.0 0.6822896657702651\n",
      "0.681800692574067\n",
      "3.2 0.681800692574067\n",
      "0.68081821690467\n",
      "3.4 0.68081821690467\n",
      "0.6811145510835914\n",
      "3.6 0.6811145510835914\n",
      "0.6795815575358388\n",
      "3.8 0.6795815575358388\n",
      "0.6783081102056655\n",
      "4.0 0.6783081102056655\n"
     ]
    }
   ],
   "source": [
    "for c in range(2, 41, 2):\n",
    "    c = c / 10\n",
    "    rbf_svc = SVC(kernel=\"rbf\",C=c)\n",
    "    rbf_svc = rbf_svc.fit(X_train, y_train)\n",
    "\n",
    "    #predictions on test data\n",
    "    preds_test= rbf_svc.predict(X_test)\n",
    "\n",
    "    #f1 score on test set\n",
    "    f1_value = f1_score(y_test, preds_test)\n",
    "    #print(f1_value)\n",
    "    \n",
    "    svc_rbf_c_results[c] = f1_value\n",
    "    print(c, f1_value)"
   ]
  },
  {
   "cell_type": "code",
   "execution_count": 74,
   "metadata": {
    "id": "734YE3XwPvt_",
    "outputId": "e51008e1-5330-44b5-840f-c5ff6e139c62"
   },
   "outputs": [
    {
     "data": {
      "text/plain": [
       "(1.4, 0.6870056497175141)"
      ]
     },
     "execution_count": 74,
     "metadata": {},
     "output_type": "execute_result"
    }
   ],
   "source": [
    "sorted(svc_rbf_c_results.items(), key=lambda x: x[1])[-1]"
   ]
  },
  {
   "cell_type": "code",
   "execution_count": 75,
   "metadata": {
    "id": "yoQzk_T_Pvt_",
    "outputId": "6adc3918-c905-4136-d26f-ef5f075e9f16"
   },
   "outputs": [
    {
     "data": {
      "image/png": "[encoded data removed]",
      "text/plain": [
       "<Figure size 432x288 with 1 Axes>"
      ]
     },
     "metadata": {},
     "output_type": "display_data"
    }
   ],
   "source": [
    "svc_rbf_c_results_df = (\n",
    "    pd.DataFrame(svc_rbf_c_results.items(), columns=[\"C\", \"F1\"])\n",
    "    .sort_values(\"C\")\n",
    "    .reset_index(drop=True)\n",
    ")\n",
    "ax = sns.lineplot(x=\"C\", y=\"F1\", data=svc_rbf_c_results_df, color=\"b\")\n",
    "plt.suptitle(\"SVR RBF Kernel\\nF1 per C\", fontsize=16)\n",
    "ax.set_xlabel(\"C\", fontsize=15)\n",
    "ax.set_ylabel(\"F1\", fontsize=15)\n",
    "ax.xaxis.set_tick_params(labelsize=13)\n",
    "ax.yaxis.set_tick_params(labelsize=13)"
   ]
  },
  {
   "cell_type": "markdown",
   "metadata": {
    "id": "1FUDTr1rPvt_"
   },
   "source": [
    "#### SVM Model with best hyperparameters:"
   ]
  },
  {
   "cell_type": "code",
   "execution_count": 76,
   "metadata": {},
   "outputs": [],
   "source": [
    "rbf_svc = SVC(kernel=\"rbf\",C=1.4)\n",
    "rbf_svc = rbf_svc.fit(X_train, y_train)\n",
    "\n",
    "#predictions on test data\n",
    "preds_test= rbf_svc.predict(X_test)"
   ]
  },
  {
   "cell_type": "code",
   "execution_count": 77,
   "metadata": {},
   "outputs": [],
   "source": [
    "#predictions on test data\n",
    "preds_test= rbf_svc.predict(X_test)"
   ]
  },
  {
   "cell_type": "code",
   "execution_count": 78,
   "metadata": {
    "id": "BIt4JssJPvt8"
   },
   "outputs": [
    {
     "name": "stdout",
     "output_type": "stream",
     "text": [
      "0.6870056497175141\n"
     ]
    }
   ],
   "source": [
    "#f1 score on test set\n",
    "f1_value = f1_score(y_test, preds_test)\n",
    "print(f1_value)"
   ]
  },
  {
   "cell_type": "code",
   "execution_count": 79,
   "metadata": {},
   "outputs": [
    {
     "name": "stdout",
     "output_type": "stream",
     "text": [
      "Accuracy score is: 0.6653242045912203\n",
      "Precision score is: 0.6589595375722543\n",
      "Recall score is: 0.7175452399685287\n",
      "F1 score is: 0.6870056497175141\n"
     ]
    }
   ],
   "source": [
    "#accuracy,f1 on test data \n",
    "accuracy = accuracy_score(test_y, preds_test)\n",
    "precision = precision_score(test_y, preds_test)\n",
    "recall = recall_score(test_y, preds_test)\n",
    "f1 = f1_score(test_y, preds_test)\n",
    "\n",
    "print(f'Accuracy score is: {accuracy}')\n",
    "print(f'Precision score is: {precision}')\n",
    "print(f'Recall score is: {recall}')\n",
    "print(f'F1 score is: {f1}')\n"
   ]
  },
  {
   "cell_type": "code",
   "execution_count": 80,
   "metadata": {},
   "outputs": [
    {
     "name": "stdout",
     "output_type": "stream",
     "text": [
      "Confusion Matrix is:\n",
      "[[740 472]\n",
      " [359 912]]\n"
     ]
    },
    {
     "data": {
      "text/plain": [
       "<sklearn.metrics._plot.confusion_matrix.ConfusionMatrixDisplay at 0x7fb5bc04e9d0>"
      ]
     },
     "execution_count": 80,
     "metadata": {},
     "output_type": "execute_result"
    },
    {
     "data": {
      "image/png": "[encoded data removed]",
      "text/plain": [
       "<Figure size 432x288 with 2 Axes>"
      ]
     },
     "metadata": {},
     "output_type": "display_data"
    }
   ],
   "source": [
    "print(\"Confusion Matrix is:\")\n",
    "print(confusion_matrix(test_y, preds_test))\n",
    "cm = confusion_matrix(test_y, preds_test)\n",
    "cmd = ConfusionMatrixDisplay(cm)\n",
    "cmd.plot()\n"
   ]
  },
  {
   "cell_type": "code",
   "execution_count": 81,
   "metadata": {},
   "outputs": [
    {
     "name": "stdout",
     "output_type": "stream",
     "text": [
      "Classification Report is is:\n",
      "              precision    recall  f1-score   support\n",
      "\n",
      "           0       0.67      0.61      0.64      1212\n",
      "           1       0.66      0.72      0.69      1271\n",
      "\n",
      "    accuracy                           0.67      2483\n",
      "   macro avg       0.67      0.66      0.66      2483\n",
      "weighted avg       0.67      0.67      0.66      2483\n",
      "\n"
     ]
    }
   ],
   "source": [
    "print(\"Classification Report is is:\")\n",
    "classification_report_results = classification_report(test_y, preds_test)\n",
    "\n",
    "\n",
    "# store report in results\n",
    "print(classification_report_results)"
   ]
  },
  {
   "cell_type": "code",
   "execution_count": 82,
   "metadata": {},
   "outputs": [
    {
     "name": "stdout",
     "output_type": "stream",
     "text": [
      "AUC on Test data is 0.6640531480370695\n"
     ]
    }
   ],
   "source": [
    "print(\"AUC on Test data is \" +str(roc_auc_score(test_y,preds_test)))"
   ]
  },
  {
   "cell_type": "code",
   "execution_count": 83,
   "metadata": {},
   "outputs": [
    {
     "data": {
      "text/plain": [
       "{'accuracy': 66.53242045912204,\n",
       " 'precision': 0.6589595375722543,\n",
       " 'recall': 0.7175452399685287,\n",
       " 'f1': 0.6870056497175141}"
      ]
     },
     "execution_count": 83,
     "metadata": {},
     "output_type": "execute_result"
    }
   ],
   "source": [
    "svc_results = calculate_results(y_true=test_y,\n",
    "                                     y_pred=preds_test)\n",
    "svc_results"
   ]
  },
  {
   "cell_type": "code",
   "execution_count": 84,
   "metadata": {},
   "outputs": [],
   "source": [
    "model_results[\"RBF Kernel SVC Tuned\"] = svc_results"
   ]
  },
  {
   "cell_type": "code",
   "execution_count": 85,
   "metadata": {},
   "outputs": [
    {
     "data": {
      "text/plain": [
       "{'Nu SVC Tuned': {'accuracy': 66.77406363270238,\n",
       "  'precision': 0.6474867724867724,\n",
       "  'recall': 0.7702596380802518,\n",
       "  'f1': 0.7035573122529645},\n",
       " 'RBF Kernel SVC': {'accuracy': 65.88803866290777,\n",
       "  'precision': 0.6536231884057971,\n",
       "  'recall': 0.7096774193548387,\n",
       "  'f1': 0.6804979253112035},\n",
       " 'RBF Kernel SVC Tuned': {'accuracy': 66.53242045912204,\n",
       "  'precision': 0.6589595375722543,\n",
       "  'recall': 0.7175452399685287,\n",
       "  'f1': 0.6870056497175141}}"
      ]
     },
     "execution_count": 85,
     "metadata": {},
     "output_type": "execute_result"
    }
   ],
   "source": [
    "model_results"
   ]
  },
  {
   "cell_type": "code",
   "execution_count": null,
   "metadata": {
    "id": "EmkWIQIAPvuA"
   },
   "outputs": [],
   "source": []
  },
  {
   "cell_type": "code",
   "execution_count": null,
   "metadata": {},
   "outputs": [],
   "source": []
  },
  {
   "cell_type": "markdown",
   "metadata": {
    "id": "aHsbBgdWGecW"
   },
   "source": [
    "### e) XGBoost Model"
   ]
  },
  {
   "cell_type": "code",
   "execution_count": 45,
   "metadata": {
    "id": "rhq_dqHqct97"
   },
   "outputs": [],
   "source": [
    "import xgboost as xgb"
   ]
  },
  {
   "cell_type": "code",
   "execution_count": 46,
   "metadata": {
    "colab": {
     "base_uri": "https://localhost:8080/"
    },
    "id": "UQDlIut_ct98",
    "outputId": "d1962662-1131-4dd7-b1b5-9439b345fc42"
   },
   "outputs": [],
   "source": [
    "# define model\n",
    "xgb = xgb.XGBClassifier()\n",
    "xgb = xgb.fit(X_train, y_train)"
   ]
  },
  {
   "cell_type": "code",
   "execution_count": 47,
   "metadata": {},
   "outputs": [],
   "source": [
    "#predictions on test data\n",
    "preds_test= xgb.predict(X_test)"
   ]
  },
  {
   "cell_type": "code",
   "execution_count": 48,
   "metadata": {
    "id": "BIt4JssJPvt8"
   },
   "outputs": [
    {
     "name": "stdout",
     "output_type": "stream",
     "text": [
      "0.6820940819423368\n"
     ]
    }
   ],
   "source": [
    "#f1 score on test set\n",
    "f1_value = f1_score(y_test, preds_test)\n",
    "print(f1_value)"
   ]
  },
  {
   "cell_type": "code",
   "execution_count": 49,
   "metadata": {},
   "outputs": [
    {
     "name": "stdout",
     "output_type": "stream",
     "text": [
      "Accuracy score is: 0.662505034232783\n",
      "Precision score is: 0.6586080586080586\n",
      "Recall score is: 0.7073170731707317\n",
      "F1 score is: 0.6820940819423368\n"
     ]
    }
   ],
   "source": [
    "#accuracy,f1 on test data \n",
    "accuracy = accuracy_score(test_y, preds_test)\n",
    "precision = precision_score(test_y, preds_test)\n",
    "recall = recall_score(test_y, preds_test)\n",
    "f1 = f1_score(test_y, preds_test)\n",
    "\n",
    "print(f'Accuracy score is: {accuracy}')\n",
    "print(f'Precision score is: {precision}')\n",
    "print(f'Recall score is: {recall}')\n",
    "print(f'F1 score is: {f1}')\n"
   ]
  },
  {
   "cell_type": "code",
   "execution_count": 50,
   "metadata": {},
   "outputs": [
    {
     "name": "stdout",
     "output_type": "stream",
     "text": [
      "Confusion Matrix is:\n",
      "[[746 466]\n",
      " [372 899]]\n"
     ]
    },
    {
     "data": {
      "text/plain": [
       "<sklearn.metrics._plot.confusion_matrix.ConfusionMatrixDisplay at 0x161112f10>"
      ]
     },
     "execution_count": 50,
     "metadata": {},
     "output_type": "execute_result"
    },
    {
     "data": {
      "image/png": "[encoded data removed]",
      "text/plain": [
       "<Figure size 432x288 with 2 Axes>"
      ]
     },
     "metadata": {},
     "output_type": "display_data"
    }
   ],
   "source": [
    "print(\"Confusion Matrix is:\")\n",
    "print(confusion_matrix(test_y, preds_test))\n",
    "cm = confusion_matrix(test_y, preds_test)\n",
    "cmd = ConfusionMatrixDisplay(cm)\n",
    "cmd.plot()\n"
   ]
  },
  {
   "cell_type": "code",
   "execution_count": 51,
   "metadata": {},
   "outputs": [
    {
     "name": "stdout",
     "output_type": "stream",
     "text": [
      "Classification Report is is:\n",
      "              precision    recall  f1-score   support\n",
      "\n",
      "           0       0.67      0.62      0.64      1212\n",
      "           1       0.66      0.71      0.68      1271\n",
      "\n",
      "    accuracy                           0.66      2483\n",
      "   macro avg       0.66      0.66      0.66      2483\n",
      "weighted avg       0.66      0.66      0.66      2483\n",
      "\n"
     ]
    }
   ],
   "source": [
    "print(\"Classification Report is is:\")\n",
    "classification_report_results = classification_report(test_y, preds_test)\n",
    "\n",
    "\n",
    "# store report in results\n",
    "print(classification_report_results)"
   ]
  },
  {
   "cell_type": "code",
   "execution_count": 52,
   "metadata": {},
   "outputs": [
    {
     "name": "stdout",
     "output_type": "stream",
     "text": [
      "AUC on Test data is 0.6614143121629236\n"
     ]
    }
   ],
   "source": [
    "print(\"AUC on Test data is \" +str(roc_auc_score(test_y,preds_test)))"
   ]
  },
  {
   "cell_type": "code",
   "execution_count": 54,
   "metadata": {},
   "outputs": [
    {
     "data": {
      "text/plain": [
       "{'accuracy': 66.25050342327829,\n",
       " 'precision': 0.6586080586080586,\n",
       " 'recall': 0.7073170731707317,\n",
       " 'f1': 0.6820940819423368}"
      ]
     },
     "execution_count": 54,
     "metadata": {},
     "output_type": "execute_result"
    }
   ],
   "source": [
    "xgb_results = calculate_results(y_true=test_y,\n",
    "                                     y_pred=preds_test)\n",
    "xgb_results"
   ]
  },
  {
   "cell_type": "code",
   "execution_count": 55,
   "metadata": {},
   "outputs": [],
   "source": [
    "model_results[\"XGBoost\"] = xgb_results"
   ]
  },
  {
   "cell_type": "code",
   "execution_count": 56,
   "metadata": {},
   "outputs": [
    {
     "data": {
      "text/plain": [
       "{'BASELINE': {'accuracy': 48.81192106322996,\n",
       "  'precision': 0.0,\n",
       "  'recall': 0.0,\n",
       "  'f1': 0.0},\n",
       " 'XGBoost': {'accuracy': 66.25050342327829,\n",
       "  'precision': 0.6586080586080586,\n",
       "  'recall': 0.7073170731707317,\n",
       "  'f1': 0.6820940819423368}}"
      ]
     },
     "execution_count": 56,
     "metadata": {},
     "output_type": "execute_result"
    }
   ],
   "source": [
    "model_results"
   ]
  },
  {
   "cell_type": "code",
   "execution_count": 59,
   "metadata": {
    "colab": {
     "base_uri": "https://localhost:8080/"
    },
    "id": "MgHviShQZM28",
    "outputId": "03411823-b72f-4f5d-9aae-701b9bbf6b5f"
   },
   "outputs": [
    {
     "name": "stdout",
     "output_type": "stream",
     "text": [
      "Fitting 5 folds for each of 10 candidates, totalling 50 fits\n"
     ]
    },
    {
     "data": {
      "text/plain": [
       "RandomizedSearchCV(estimator=XGBClassifier(base_score=None, booster=None,\n",
       "                                           callbacks=None,\n",
       "                                           colsample_bylevel=None,\n",
       "                                           colsample_bynode=None,\n",
       "                                           colsample_bytree=None,\n",
       "                                           early_stopping_rounds=None,\n",
       "                                           enable_categorical=False,\n",
       "                                           eval_metric=None, feature_types=None,\n",
       "                                           gamma=None, gpu_id=None,\n",
       "                                           grow_policy=None,\n",
       "                                           importance_type=None,\n",
       "                                           interaction_constraints=None,\n",
       "                                           learning_rate=None...\n",
       "                                           n_estimators=100, n_jobs=None,\n",
       "                                           num_parallel_tree=None,\n",
       "                                           predictor=None, random_state=None, ...),\n",
       "                   param_distributions={'colsample_bylevel': array([0.4, 0.5, 0.6, 0.7, 0.8, 0.9]),\n",
       "                                        'colsample_bytree': array([0.4, 0.5, 0.6, 0.7, 0.8, 0.9]),\n",
       "                                        'learning_rate': [0.01, 0.1, 0.2, 0.3],\n",
       "                                        'max_depth': [3, 5, 6, 10, 15, 20],\n",
       "                                        'n_estimators': [100, 500, 1000],\n",
       "                                        'subsample': array([0.5, 0.6, 0.7, 0.8, 0.9])},\n",
       "                   scoring='f1', verbose=1)"
      ]
     },
     "execution_count": 59,
     "metadata": {},
     "output_type": "execute_result"
    }
   ],
   "source": [
    "#Hyper-parameter Tuning on XGBoost\n",
    "\n",
    "import xgboost as xgb\n",
    "from sklearn.model_selection import RandomizedSearchCV\n",
    "\n",
    "params = { 'max_depth': [3, 5, 6, 10, 15, 20],\n",
    "           'learning_rate': [0.01, 0.1, 0.2, 0.3],\n",
    "           'subsample': np.arange(0.5, 1.0, 0.1),\n",
    "           'colsample_bytree': np.arange(0.4, 1.0, 0.1),\n",
    "           'colsample_bylevel': np.arange(0.4, 1.0, 0.1),\n",
    "           'n_estimators': [100, 500, 1000]}\n",
    "\n",
    "xgbc = xgb.XGBClassifier(seed = 20)\n",
    "\n",
    "clf = RandomizedSearchCV(estimator=xgbc,\n",
    "                         param_distributions=params,\n",
    "                         scoring='f1',\n",
    "                         n_iter=10,\n",
    "                         verbose=1)\n",
    "\n",
    "\n",
    "clf.fit(X_train, y_train)"
   ]
  },
  {
   "cell_type": "code",
   "execution_count": 62,
   "metadata": {
    "id": "DJqSz9R0adpH"
   },
   "outputs": [
    {
     "name": "stdout",
     "output_type": "stream",
     "text": [
      "Best parameters: {'subsample': 0.6, 'n_estimators': 1000, 'max_depth': 6, 'learning_rate': 0.01, 'colsample_bytree': 0.7, 'colsample_bylevel': 0.6}\n",
      "Highest F1:  0.6857695834499545\n"
     ]
    }
   ],
   "source": [
    "print(\"Best parameters:\", clf.best_params_)\n",
    "print(\"Highest F1: \", (clf.best_score_))"
   ]
  },
  {
   "cell_type": "code",
   "execution_count": 63,
   "metadata": {
    "colab": {
     "base_uri": "https://localhost:8080/"
    },
    "id": "IV8wrnLid9Um",
    "outputId": "3a244136-8adb-49e3-d9bc-f3e120126b33"
   },
   "outputs": [
    {
     "data": {
      "text/plain": [
       "XGBClassifier(base_score=0.5, booster='gbtree', callbacks=None,\n",
       "              colsample_bylevel=0.6, colsample_bynode=1, colsample_bytree=0.7,\n",
       "              early_stopping_rounds=None, enable_categorical=False,\n",
       "              eval_metric=None, feature_types=None, gamma=0, gpu_id=-1,\n",
       "              grow_policy='depthwise', importance_type=None,\n",
       "              interaction_constraints='', learning_rate=0.01, max_bin=256,\n",
       "              max_cat_threshold=64, max_cat_to_onehot=4, max_delta_step=0,\n",
       "              max_depth=6, max_leaves=0, min_child_weight=1, missing=nan,\n",
       "              monotone_constraints='()', n_estimators=1000, n_jobs=0,\n",
       "              num_parallel_tree=1, predictor='auto', random_state=0, ...)"
      ]
     },
     "execution_count": 63,
     "metadata": {},
     "output_type": "execute_result"
    }
   ],
   "source": [
    "# define best model\n",
    "xgb_tuned = xgb.XGBClassifier(subsample= 0.6, n_estimators= 1000, max_depth= 6, learning_rate= 0.01, colsample_bytree= 0.7, colsample_bylevel= 0.6)\n",
    "xgb_tuned.fit(X_train, y_train)"
   ]
  },
  {
   "cell_type": "code",
   "execution_count": 65,
   "metadata": {},
   "outputs": [],
   "source": [
    "#predictions on test data\n",
    "preds_test= xgb_tuned.predict(X_test)"
   ]
  },
  {
   "cell_type": "code",
   "execution_count": 66,
   "metadata": {
    "id": "BIt4JssJPvt8"
   },
   "outputs": [
    {
     "name": "stdout",
     "output_type": "stream",
     "text": [
      "0.6959789552799699\n"
     ]
    }
   ],
   "source": [
    "#f1 score on test set\n",
    "f1_value = f1_score(y_test, preds_test)\n",
    "print(f1_value)"
   ]
  },
  {
   "cell_type": "code",
   "execution_count": 67,
   "metadata": {},
   "outputs": [
    {
     "name": "stdout",
     "output_type": "stream",
     "text": [
      "Accuracy score is: 0.6741844542891663\n",
      "Precision score is: 0.6661870503597123\n",
      "Recall score is: 0.7285601888276947\n",
      "F1 score is: 0.6959789552799699\n"
     ]
    }
   ],
   "source": [
    "#accuracy,f1 on test data \n",
    "accuracy = accuracy_score(test_y, preds_test)\n",
    "precision = precision_score(test_y, preds_test)\n",
    "recall = recall_score(test_y, preds_test)\n",
    "f1 = f1_score(test_y, preds_test)\n",
    "\n",
    "print(f'Accuracy score is: {accuracy}')\n",
    "print(f'Precision score is: {precision}')\n",
    "print(f'Recall score is: {recall}')\n",
    "print(f'F1 score is: {f1}')\n"
   ]
  },
  {
   "cell_type": "code",
   "execution_count": 68,
   "metadata": {},
   "outputs": [
    {
     "name": "stdout",
     "output_type": "stream",
     "text": [
      "Confusion Matrix is:\n",
      "[[748 464]\n",
      " [345 926]]\n"
     ]
    },
    {
     "data": {
      "text/plain": [
       "<sklearn.metrics._plot.confusion_matrix.ConfusionMatrixDisplay at 0x162036910>"
      ]
     },
     "execution_count": 68,
     "metadata": {},
     "output_type": "execute_result"
    },
    {
     "data": {
      "image/png": "[encoded data removed]",
      "text/plain": [
       "<Figure size 432x288 with 2 Axes>"
      ]
     },
     "metadata": {},
     "output_type": "display_data"
    }
   ],
   "source": [
    "print(\"Confusion Matrix is:\")\n",
    "print(confusion_matrix(test_y, preds_test))\n",
    "cm = confusion_matrix(test_y, preds_test)\n",
    "cmd = ConfusionMatrixDisplay(cm)\n",
    "cmd.plot()\n"
   ]
  },
  {
   "cell_type": "code",
   "execution_count": 69,
   "metadata": {},
   "outputs": [
    {
     "name": "stdout",
     "output_type": "stream",
     "text": [
      "Classification Report is is:\n",
      "              precision    recall  f1-score   support\n",
      "\n",
      "           0       0.68      0.62      0.65      1212\n",
      "           1       0.67      0.73      0.70      1271\n",
      "\n",
      "    accuracy                           0.67      2483\n",
      "   macro avg       0.68      0.67      0.67      2483\n",
      "weighted avg       0.68      0.67      0.67      2483\n",
      "\n"
     ]
    }
   ],
   "source": [
    "print(\"Classification Report is is:\")\n",
    "classification_report_results = classification_report(test_y, preds_test)\n",
    "\n",
    "\n",
    "# store report in results\n",
    "print(classification_report_results)"
   ]
  },
  {
   "cell_type": "code",
   "execution_count": 70,
   "metadata": {},
   "outputs": [
    {
     "name": "stdout",
     "output_type": "stream",
     "text": [
      "AUC on Test data is 0.672860952499656\n"
     ]
    }
   ],
   "source": [
    "print(\"AUC on Test data is \" +str(roc_auc_score(test_y,preds_test)))"
   ]
  },
  {
   "cell_type": "code",
   "execution_count": 71,
   "metadata": {},
   "outputs": [
    {
     "data": {
      "text/plain": [
       "{'accuracy': 67.41844542891663,\n",
       " 'precision': 0.6661870503597123,\n",
       " 'recall': 0.7285601888276947,\n",
       " 'f1': 0.6959789552799699}"
      ]
     },
     "execution_count": 71,
     "metadata": {},
     "output_type": "execute_result"
    }
   ],
   "source": [
    "xgb_results = calculate_results(y_true=test_y,\n",
    "                                     y_pred=preds_test)\n",
    "xgb_results"
   ]
  },
  {
   "cell_type": "code",
   "execution_count": 72,
   "metadata": {},
   "outputs": [],
   "source": [
    "model_results[\"XGBoost Tuned\"] = xgb_results"
   ]
  },
  {
   "cell_type": "code",
   "execution_count": 73,
   "metadata": {},
   "outputs": [
    {
     "data": {
      "text/plain": [
       "{'BASELINE': {'accuracy': 48.81192106322996,\n",
       "  'precision': 0.0,\n",
       "  'recall': 0.0,\n",
       "  'f1': 0.0},\n",
       " 'XGBoost': {'accuracy': 66.25050342327829,\n",
       "  'precision': 0.6586080586080586,\n",
       "  'recall': 0.7073170731707317,\n",
       "  'f1': 0.6820940819423368},\n",
       " 'XGBoost Tuned': {'accuracy': 67.41844542891663,\n",
       "  'precision': 0.6661870503597123,\n",
       "  'recall': 0.7285601888276947,\n",
       "  'f1': 0.6959789552799699}}"
      ]
     },
     "execution_count": 73,
     "metadata": {},
     "output_type": "execute_result"
    }
   ],
   "source": [
    "model_results"
   ]
  },
  {
   "cell_type": "code",
   "execution_count": null,
   "metadata": {
    "id": "ge9dzx-85zTP"
   },
   "outputs": [],
   "source": []
  },
  {
   "cell_type": "code",
   "execution_count": null,
   "metadata": {},
   "outputs": [],
   "source": []
  },
  {
   "cell_type": "markdown",
   "metadata": {
    "id": "QUUteQ25PVGW"
   },
   "source": [
    "### f) Stacking Classifier Model"
   ]
  },
  {
   "cell_type": "code",
   "execution_count": 77,
   "metadata": {
    "colab": {
     "base_uri": "https://localhost:8080/"
    },
    "id": "DQ9om8ITct98",
    "outputId": "66b0ca46-9e85-4c83-d4aa-9d5f2e722019"
   },
   "outputs": [
    {
     "data": {
      "text/plain": [
       "StackingClassifier(cv=5,\n",
       "                   estimators=[('rbf-svc', SVC(C=1.4)),\n",
       "                               ('nu-svc',\n",
       "                                NuSVC(kernel='linear', random_state=1)),\n",
       "                               ('xgb',\n",
       "                                XGBClassifier(base_score=None, booster=None,\n",
       "                                              callbacks=None,\n",
       "                                              colsample_bylevel=0.6,\n",
       "                                              colsample_bynode=None,\n",
       "                                              colsample_bytree=0.7,\n",
       "                                              early_stopping_rounds=None,\n",
       "                                              enable_categorical=False,\n",
       "                                              eval_metric=None,\n",
       "                                              feature_types=None, gamma=None,\n",
       "                                              gpu_id=None, g...\n",
       "                                              importance_type=None,\n",
       "                                              interaction_constraints=None,\n",
       "                                              learning_rate=0.01, max_bin=None,\n",
       "                                              max_cat_threshold=None,\n",
       "                                              max_cat_to_onehot=None,\n",
       "                                              max_delta_step=None, max_depth=6,\n",
       "                                              max_leaves=None,\n",
       "                                              min_child_weight=None,\n",
       "                                              missing=nan,\n",
       "                                              monotone_constraints=None,\n",
       "                                              n_estimators=1000, n_jobs=None,\n",
       "                                              num_parallel_tree=None,\n",
       "                                              predictor=None, random_state=None, ...))],\n",
       "                   final_estimator=LogisticRegression())"
      ]
     },
     "execution_count": 77,
     "metadata": {},
     "output_type": "execute_result"
    }
   ],
   "source": [
    "from sklearn.ensemble import StackingClassifier\n",
    "\n",
    "level0 = list()\n",
    "level0.append(('rbf-svc',SVC(kernel=\"rbf\",C=1.4)))\n",
    "level0.append(('nu-svc', NuSVC(random_state = 1, kernel='linear')))\n",
    "level0.append(('xgb', xgb.XGBClassifier(subsample= 0.6, n_estimators= 1000, max_depth= 6, learning_rate= 0.01, colsample_bytree= 0.7, colsample_bylevel= 0.6)))\n",
    "\n",
    "# define meta learner model\n",
    "level1 = LogisticRegression()\n",
    "\n",
    "# define the stacking ensemble\n",
    "model = StackingClassifier(estimators=level0, final_estimator=level1, cv=5)\n",
    "\n",
    "# fit the model on all available data\n",
    "model.fit(X_train, y_train)"
   ]
  },
  {
   "cell_type": "code",
   "execution_count": 80,
   "metadata": {},
   "outputs": [
    {
     "name": "stdout",
     "output_type": "stream",
     "text": [
      "0.7028875379939209\n"
     ]
    }
   ],
   "source": [
    "#predictions on test data\n",
    "preds_test= model.predict(X_test)\n",
    "\n",
    "#f1 score on test set\n",
    "f1_value = f1_score(y_test, preds_test)\n",
    "print(f1_value)"
   ]
  },
  {
   "cell_type": "code",
   "execution_count": 81,
   "metadata": {},
   "outputs": [
    {
     "name": "stdout",
     "output_type": "stream",
     "text": [
      "Accuracy score is: 0.6850583971002819\n",
      "Precision score is: 0.6796473181484203\n",
      "Recall score is: 0.7277734067663257\n",
      "F1 score is: 0.7028875379939209\n"
     ]
    }
   ],
   "source": [
    "#accuracy,f1 on test data \n",
    "accuracy = accuracy_score(test_y, preds_test)\n",
    "precision = precision_score(test_y, preds_test)\n",
    "recall = recall_score(test_y, preds_test)\n",
    "f1 = f1_score(test_y, preds_test)\n",
    "\n",
    "print(f'Accuracy score is: {accuracy}')\n",
    "print(f'Precision score is: {precision}')\n",
    "print(f'Recall score is: {recall}')\n",
    "print(f'F1 score is: {f1}')"
   ]
  },
  {
   "cell_type": "code",
   "execution_count": 82,
   "metadata": {},
   "outputs": [
    {
     "name": "stdout",
     "output_type": "stream",
     "text": [
      "Confusion Matrix is:\n",
      "[[776 436]\n",
      " [346 925]]\n"
     ]
    },
    {
     "data": {
      "text/plain": [
       "<sklearn.metrics._plot.confusion_matrix.ConfusionMatrixDisplay at 0x1654522e0>"
      ]
     },
     "execution_count": 82,
     "metadata": {},
     "output_type": "execute_result"
    },
    {
     "data": {
      "image/png": "[encoded data removed]",
      "text/plain": [
       "<Figure size 432x288 with 2 Axes>"
      ]
     },
     "metadata": {},
     "output_type": "display_data"
    }
   ],
   "source": [
    "print(\"Confusion Matrix is:\")\n",
    "print(confusion_matrix(test_y, preds_test))\n",
    "cm = confusion_matrix(test_y, preds_test)\n",
    "cmd = ConfusionMatrixDisplay(cm)\n",
    "cmd.plot()"
   ]
  },
  {
   "cell_type": "code",
   "execution_count": 83,
   "metadata": {},
   "outputs": [
    {
     "name": "stdout",
     "output_type": "stream",
     "text": [
      "Classification Report is is:\n",
      "              precision    recall  f1-score   support\n",
      "\n",
      "           0       0.69      0.64      0.66      1212\n",
      "           1       0.68      0.73      0.70      1271\n",
      "\n",
      "    accuracy                           0.69      2483\n",
      "   macro avg       0.69      0.68      0.68      2483\n",
      "weighted avg       0.69      0.69      0.68      2483\n",
      "\n"
     ]
    }
   ],
   "source": [
    "print(\"Classification Report is is:\")\n",
    "classification_report_results = classification_report(test_y, preds_test)\n",
    "\n",
    "# store report in results\n",
    "print(classification_report_results)"
   ]
  },
  {
   "cell_type": "code",
   "execution_count": 84,
   "metadata": {},
   "outputs": [
    {
     "name": "stdout",
     "output_type": "stream",
     "text": [
      "AUC on Test data is 0.684018716584483\n"
     ]
    }
   ],
   "source": [
    "print(\"AUC on Test data is \" +str(roc_auc_score(test_y,preds_test)))\n",
    "\n"
   ]
  },
  {
   "cell_type": "code",
   "execution_count": 86,
   "metadata": {},
   "outputs": [
    {
     "data": {
      "text/plain": [
       "{'accuracy': 68.5058397100282,\n",
       " 'precision': 0.6796473181484203,\n",
       " 'recall': 0.7277734067663257,\n",
       " 'f1': 0.7028875379939209}"
      ]
     },
     "execution_count": 86,
     "metadata": {},
     "output_type": "execute_result"
    }
   ],
   "source": [
    "stacking_results = calculate_results(y_true=test_y,\n",
    "                                     y_pred=preds_test)\n",
    "stacking_results\n",
    "\n"
   ]
  },
  {
   "cell_type": "code",
   "execution_count": 87,
   "metadata": {},
   "outputs": [
    {
     "data": {
      "text/plain": [
       "{'BASELINE': {'accuracy': 48.81192106322996,\n",
       "  'precision': 0.0,\n",
       "  'recall': 0.0,\n",
       "  'f1': 0.0},\n",
       " 'XGBoost': {'accuracy': 66.25050342327829,\n",
       "  'precision': 0.6586080586080586,\n",
       "  'recall': 0.7073170731707317,\n",
       "  'f1': 0.6820940819423368},\n",
       " 'XGBoost Tuned': {'accuracy': 67.41844542891663,\n",
       "  'precision': 0.6661870503597123,\n",
       "  'recall': 0.7285601888276947,\n",
       "  'f1': 0.6959789552799699},\n",
       " 'Stacking': {'accuracy': 68.5058397100282,\n",
       "  'precision': 0.6796473181484203,\n",
       "  'recall': 0.7277734067663257,\n",
       "  'f1': 0.7028875379939209}}"
      ]
     },
     "execution_count": 87,
     "metadata": {},
     "output_type": "execute_result"
    }
   ],
   "source": [
    "model_results[\"Stacking\"] = stacking_results\n",
    "\n",
    "model_results"
   ]
  },
  {
   "cell_type": "code",
   "execution_count": null,
   "metadata": {},
   "outputs": [],
   "source": []
  },
  {
   "cell_type": "code",
   "execution_count": 92,
   "metadata": {},
   "outputs": [
    {
     "data": {
      "text/plain": [
       "array([0, 1, 0, ..., 0, 1, 1])"
      ]
     },
     "execution_count": 92,
     "metadata": {},
     "output_type": "execute_result"
    }
   ],
   "source": [
    "preds_test"
   ]
  },
  {
   "cell_type": "code",
   "execution_count": 91,
   "metadata": {},
   "outputs": [
    {
     "data": {
      "text/plain": [
       "7267     1\n",
       "731      0\n",
       "9902     0\n",
       "25894    1\n",
       "17519    1\n",
       "        ..\n",
       "13196    1\n",
       "10278    1\n",
       "11476    1\n",
       "24962    0\n",
       "17022    0\n",
       "Name: flagged, Length: 2483, dtype: int64"
      ]
     },
     "execution_count": 91,
     "metadata": {},
     "output_type": "execute_result"
    }
   ],
   "source": [
    "y_test"
   ]
  },
  {
   "cell_type": "code",
   "execution_count": 88,
   "metadata": {},
   "outputs": [
    {
     "data": {
      "text/html": [
       "<div>\n",
       "<style scoped>\n",
       "    .dataframe tbody tr th:only-of-type {\n",
       "        vertical-align: middle;\n",
       "    }\n",
       "\n",
       "    .dataframe tbody tr th {\n",
       "        vertical-align: top;\n",
       "    }\n",
       "\n",
       "    .dataframe thead th {\n",
       "        text-align: right;\n",
       "    }\n",
       "</style>\n",
       "<table border=\"1\" class=\"dataframe\">\n",
       "  <thead>\n",
       "    <tr style=\"text-align: right;\">\n",
       "      <th></th>\n",
       "      <th>reviewContent</th>\n",
       "      <th>flagged</th>\n",
       "    </tr>\n",
       "  </thead>\n",
       "  <tbody>\n",
       "    <tr>\n",
       "      <th>7267</th>\n",
       "      <td>sunda amazing i heard many good things finally...</td>\n",
       "      <td>1</td>\n",
       "    </tr>\n",
       "    <tr>\n",
       "      <th>731</th>\n",
       "      <td>absolutely fantastic foodie community table gr...</td>\n",
       "      <td>0</td>\n",
       "    </tr>\n",
       "    <tr>\n",
       "      <th>9902</th>\n",
       "      <td>i work right rarely go here they 5 personal st...</td>\n",
       "      <td>0</td>\n",
       "    </tr>\n",
       "    <tr>\n",
       "      <th>25894</th>\n",
       "      <td>this best big 3 brazilian steakhouses chicago ...</td>\n",
       "      <td>1</td>\n",
       "    </tr>\n",
       "    <tr>\n",
       "      <th>17519</th>\n",
       "      <td>i lunch the gage group 8 this first time there...</td>\n",
       "      <td>1</td>\n",
       "    </tr>\n",
       "    <tr>\n",
       "      <th>...</th>\n",
       "      <td>...</td>\n",
       "      <td>...</td>\n",
       "    </tr>\n",
       "    <tr>\n",
       "      <th>13196</th>\n",
       "      <td>there better steak chicago opinion the lobster...</td>\n",
       "      <td>1</td>\n",
       "    </tr>\n",
       "    <tr>\n",
       "      <th>10278</th>\n",
       "      <td>it controversial topic i believe giordano s be...</td>\n",
       "      <td>1</td>\n",
       "    </tr>\n",
       "    <tr>\n",
       "      <th>11476</th>\n",
       "      <td>this place outrageous i went drinks girls thur...</td>\n",
       "      <td>1</td>\n",
       "    </tr>\n",
       "    <tr>\n",
       "      <th>24962</th>\n",
       "      <td>ha i ve eating lunch least twice week two year...</td>\n",
       "      <td>0</td>\n",
       "    </tr>\n",
       "    <tr>\n",
       "      <th>17022</th>\n",
       "      <td>tremendous fresh fish casual atmosphere don t ...</td>\n",
       "      <td>0</td>\n",
       "    </tr>\n",
       "  </tbody>\n",
       "</table>\n",
       "<p>2483 rows × 2 columns</p>\n",
       "</div>"
      ],
      "text/plain": [
       "                                           reviewContent  flagged\n",
       "7267   sunda amazing i heard many good things finally...        1\n",
       "731    absolutely fantastic foodie community table gr...        0\n",
       "9902   i work right rarely go here they 5 personal st...        0\n",
       "25894  this best big 3 brazilian steakhouses chicago ...        1\n",
       "17519  i lunch the gage group 8 this first time there...        1\n",
       "...                                                  ...      ...\n",
       "13196  there better steak chicago opinion the lobster...        1\n",
       "10278  it controversial topic i believe giordano s be...        1\n",
       "11476  this place outrageous i went drinks girls thur...        1\n",
       "24962  ha i ve eating lunch least twice week two year...        0\n",
       "17022  tremendous fresh fish casual atmosphere don t ...        0\n",
       "\n",
       "[2483 rows x 2 columns]"
      ]
     },
     "execution_count": 88,
     "metadata": {},
     "output_type": "execute_result"
    }
   ],
   "source": [
    "test_df"
   ]
  },
  {
   "cell_type": "code",
   "execution_count": null,
   "metadata": {
    "id": "SarcR9ts_v5q"
   },
   "outputs": [],
   "source": [
    "#This is the best performance we could achieve on BoW vectorized features."
   ]
  },
  {
   "cell_type": "code",
   "execution_count": 90,
   "metadata": {
    "id": "2GkL1pVrPvuA"
   },
   "outputs": [],
   "source": [
    "# Saving Results to a CSV\n",
    "def preds_to_csv(df, predictions, file_name=\"output.csv\"):\n",
    "    final_df = pd.DataFrame(df)\n",
    "    final_df[\"pred\"] = predictions\n",
    "    final_df.to_csv(file_name, index=False)\n",
    "    return f\"Final Predictions saved to: {file_name}\""
   ]
  },
  {
   "cell_type": "code",
   "execution_count": 93,
   "metadata": {
    "colab": {
     "base_uri": "https://localhost:8080/",
     "height": 35
    },
    "id": "2iIPJavSPvuB",
    "outputId": "1178d586-467f-4463-bda2-556c083d0e8f",
    "scrolled": true
   },
   "outputs": [
    {
     "data": {
      "text/plain": [
       "'Final Predictions saved to: bow-output.csv'"
      ]
     },
     "execution_count": 93,
     "metadata": {},
     "output_type": "execute_result"
    }
   ],
   "source": [
    "preds_to_csv(test_df, preds_test,\"bow-output.csv\")"
   ]
  },
  {
   "cell_type": "code",
   "execution_count": null,
   "metadata": {
    "id": "6vNV-qRj_9Jg"
   },
   "outputs": [],
   "source": []
  },
  {
   "cell_type": "code",
   "execution_count": null,
   "metadata": {
    "id": "PGG_IEI8MkD1"
   },
   "outputs": [],
   "source": []
  }
 ],
 "metadata": {
  "anaconda-cloud": {},
  "colab": {
   "provenance": []
  },
  "kernelspec": {
   "display_name": "Python 3 (ipykernel)",
   "language": "python",
   "name": "python3"
  },
  "language_info": {
   "codemirror_mode": {
    "name": "ipython",
    "version": 3
   },
   "file_extension": ".py",
   "mimetype": "text/x-python",
   "name": "python",
   "nbconvert_exporter": "python",
   "pygments_lexer": "ipython3",
   "version": "3.9.12"
  },
  "toc-autonumbering": true,
  "toc-showcode": false,
  "toc-showmarkdowntxt": false,
  "toc-showtags": false,
  "vscode": {
   "interpreter": {
    "hash": "8c0617050e5acf89c18beb89259452987c5848b4f06f396d04dea774d24c5711"
   }
  }
 },
 "nbformat": 4,
 "nbformat_minor": 1
}
